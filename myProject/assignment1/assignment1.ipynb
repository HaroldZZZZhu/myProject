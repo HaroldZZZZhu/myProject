{
 "cells": [
  {
   "cell_type": "markdown",
   "metadata": {},
   "source": [
    "# [COM4513-6513] Assignment 1: Text Classification with Logistic Regression\n",
    "\n",
    "### Instructor: Nikos Aletras\n",
    "\n",
    "\n",
    "The goal of this assignment is to develop and test two text classification systems: \n",
    "\n",
    "- **Task 1:** sentiment analysis, in particular to predict the sentiment of movie review, i.e. positive or negative (binary classification).\n",
    "- **Task 2:** topic classification, to predict whether a news article is about International issues, Sports or Business (multiclass classification).\n",
    "\n",
    "\n",
    "For that purpose, you will implement:\n",
    "\n",
    "- Text processing methods for extracting Bag-Of-Word features, using (1) unigrams, bigrams and trigrams to obtain vector representations of documents. Two vector weighting schemes should be tested: (1) raw frequencies (**3 marks; 1 for each ngram type**); (2) tf.idf (**1 marks**). \n",
    "- Binary Logistic Regression classifiers that will be able to accurately classify movie reviews trained with (1) BOW-count (raw frequencies); and (2) BOW-tfidf (tf.idf weighted) for Task 1. \n",
    "- Multiclass Logistic Regression classifiers that will be able to accurately classify news articles trained with (1) BOW-count (raw frequencies); and (2) BOW-tfidf (tf.idf weighted) for Task 2. \n",
    "- The Stochastic Gradient Descent (SGD) algorithm to estimate the parameters of your Logistic Regression models. Your SGD algorithm should:\n",
    "    - Minimise the Binary Cross-entropy loss function for Task 1 (**3 marks**)\n",
    "    - Minimise the Categorical Cross-entropy loss function for Task 2 (**3 marks**)\n",
    "    - Use L2 regularisation (both tasks) (**1 mark**)\n",
    "    - Perform multiple passes (epochs) over the training data (**1 mark**)\n",
    "    - Randomise the order of training data after each pass (**1 mark**)\n",
    "    - Stop training if the difference between the current and previous validation loss is smaller than a threshold (**1 mark**)\n",
    "    - After each epoch print the training and development loss (**1 mark**)\n",
    "- Discuss how did you choose hyperparameters (e.g. learning rate and regularisation strength)?  (**2 marks; 0.5 for each model in each task**).\n",
    "- After training the LR models, plot the learning process (i.e. training and validation loss in each epoch) using a line plot (**1 mark; 0.5 for both BOW-count and BOW-tfidf LR models in each task**) and discuss if your model overfits/underfits/is about right.\n",
    "- Model interpretability by showing the most important features for each class (i.e. most positive/negative weights). Give the top 10 for each class and comment on whether they make sense (if they don't you might have a bug!).  If we were to apply the classifier we've learned into a different domain such laptop reviews or restaurant reviews, do you think these features would generalise well? Can you propose what features the classifier could pick up as important in the new domain? (**2 marks; 0.5 for BOW-count and BOW-tfidf LR models respectively in each task**)\n",
    "\n",
    "\n",
    "### Data - Task 1 \n",
    "\n",
    "The data you will use for Task 1 are taken from here: [http://www.cs.cornell.edu/people/pabo/movie-review-data/](http://www.cs.cornell.edu/people/pabo/movie-review-data/) and you can find it in the `./data_sentiment` folder in CSV format:\n",
    "\n",
    "- `data_sentiment/train.csv`: contains 1,400 reviews, 700 positive (label: 1) and 700 negative (label: 0) to be used for training.\n",
    "- `data_sentiment/dev.csv`: contains 200 reviews, 100 positive and 100 negative to be used for hyperparameter selection and monitoring the training process.\n",
    "- `data_sentiment/test.csv`: contains 400 reviews, 200 positive and 200 negative to be used for testing.\n",
    "\n",
    "### Data - Task 2\n",
    "\n",
    "The data you will use for Task 2 is a subset of the [AG News Corpus](http://groups.di.unipi.it/~gulli/AG_corpus_of_news_articles.html) and you can find it in the `./data_topic` folder in CSV format:\n",
    "\n",
    "- `data_topic/train.csv`: contains 2,400 news articles, 800 for each class to be used for training.\n",
    "- `data_topic/dev.csv`: contains 150 news articles, 50 for each class to be used for hyperparameter selection and monitoring the training process.\n",
    "- `data_topic/test.csv`: contains 900 news articles, 300 for each class to be used for testing.\n",
    "\n",
    "\n",
    "### Submission Instructions\n",
    "\n",
    "You should submit a Jupyter Notebook file (assignment1.ipynb) and an exported PDF version (you can do it from Jupyter: `File->Download as->PDF via Latex`).\n",
    "\n",
    "You are advised to follow the code structure given in this notebook by completing all given funtions. You can also write any auxilliary/helper functions (and arguments for the functions) that you might need but note that you can provide a full solution without any such functions. Similarly, you can just use only the packages imported below but you are free to use any functionality from the [Python Standard Library](https://docs.python.org/2/library/index.html), NumPy, SciPy and Pandas. You are not allowed to use any third-party library such as Scikit-learn (apart from metric functions already provided), NLTK, Spacy, Keras etc..\n",
    "\n",
    "Please make sure to comment your code. You should also mention if you've used Windows (not recommended) to write and test your code. There is no single correct answer on what your accuracy should be, but correct implementations usually achieve F1-scores around 80\\% or higher. The quality of the analysis of the results is as important as the accuracy itself. \n",
    "\n",
    "This assignment will be marked out of 20. It is worth 20\\% of your final grade in the module.\n",
    "\n",
    "The deadline for this assignment is **23:59 on Fri, 20 Mar 2020** and it needs to be submitted via MOLE. Standard departmental penalties for lateness will be applied. We use a range of strategies to detect [unfair means](https://www.sheffield.ac.uk/ssid/unfair-means/index), including Turnitin which helps detect plagiarism, so make sure you do not plagiarise.\n",
    "\n"
   ]
  },
  {
   "cell_type": "code",
   "execution_count": 1,
   "metadata": {
    "ExecuteTime": {
     "end_time": "2020-02-15T14:31:36.292691Z",
     "start_time": "2020-02-15T14:31:35.549108Z"
    }
   },
   "outputs": [],
   "source": [
    "import pandas as pd\n",
    "import numpy as np\n",
    "from collections import Counter\n",
    "import re\n",
    "import matplotlib.pyplot as plt\n",
    "from sklearn.metrics import accuracy_score, precision_score, recall_score, f1_score\n",
    "import random\n",
    "\n",
    "# fixing random seed for reproducibility\n",
    "random.seed(123)\n",
    "np.random.seed(123)\n"
   ]
  },
  {
   "cell_type": "markdown",
   "metadata": {},
   "source": [
    "## Load Raw texts and labels into arrays\n",
    "\n",
    "First, you need to load the training, development and test sets from their corresponding CSV files (tip: you can use Pandas dataframes)."
   ]
  },
  {
   "cell_type": "code",
   "execution_count": 2,
   "metadata": {
    "ExecuteTime": {
     "end_time": "2020-02-15T14:17:28.145788Z",
     "start_time": "2020-02-15T14:17:28.066100Z"
    }
   },
   "outputs": [],
   "source": [
    "# fill in your code...\n",
    "sa_tr = pd.read_csv('data_sentiment/train.csv',  names = ['text', 'label'])\n",
    "sa_ts = pd.read_csv('data_sentiment/test.csv',  names = ['text', 'label'])\n",
    "sa_dev = pd.read_csv('data_sentiment/dev.csv',  names = ['text', 'label'])"
   ]
  },
  {
   "cell_type": "code",
   "execution_count": 3,
   "metadata": {},
   "outputs": [
    {
     "data": {
      "text/html": [
       "<div>\n",
       "<style scoped>\n",
       "    .dataframe tbody tr th:only-of-type {\n",
       "        vertical-align: middle;\n",
       "    }\n",
       "\n",
       "    .dataframe tbody tr th {\n",
       "        vertical-align: top;\n",
       "    }\n",
       "\n",
       "    .dataframe thead th {\n",
       "        text-align: right;\n",
       "    }\n",
       "</style>\n",
       "<table border=\"1\" class=\"dataframe\">\n",
       "  <thead>\n",
       "    <tr style=\"text-align: right;\">\n",
       "      <th></th>\n",
       "      <th>text</th>\n",
       "      <th>label</th>\n",
       "    </tr>\n",
       "  </thead>\n",
       "  <tbody>\n",
       "    <tr>\n",
       "      <th>0</th>\n",
       "      <td>note : some may consider portions of the follo...</td>\n",
       "      <td>1</td>\n",
       "    </tr>\n",
       "    <tr>\n",
       "      <th>1</th>\n",
       "      <td>note : some may consider portions of the follo...</td>\n",
       "      <td>1</td>\n",
       "    </tr>\n",
       "    <tr>\n",
       "      <th>2</th>\n",
       "      <td>every once in a while you see a film that is s...</td>\n",
       "      <td>1</td>\n",
       "    </tr>\n",
       "    <tr>\n",
       "      <th>3</th>\n",
       "      <td>when i was growing up in 1970s , boys in my sc...</td>\n",
       "      <td>1</td>\n",
       "    </tr>\n",
       "    <tr>\n",
       "      <th>4</th>\n",
       "      <td>the muppet movie is the first , and the best m...</td>\n",
       "      <td>1</td>\n",
       "    </tr>\n",
       "  </tbody>\n",
       "</table>\n",
       "</div>"
      ],
      "text/plain": [
       "                                                text  label\n",
       "0  note : some may consider portions of the follo...      1\n",
       "1  note : some may consider portions of the follo...      1\n",
       "2  every once in a while you see a film that is s...      1\n",
       "3  when i was growing up in 1970s , boys in my sc...      1\n",
       "4  the muppet movie is the first , and the best m...      1"
      ]
     },
     "execution_count": 3,
     "metadata": {},
     "output_type": "execute_result"
    }
   ],
   "source": [
    "sa_tr.head()"
   ]
  },
  {
   "cell_type": "markdown",
   "metadata": {},
   "source": [
    "If you use Pandas you can see a sample of the data."
   ]
  },
  {
   "cell_type": "markdown",
   "metadata": {},
   "source": [
    "The next step is to put the raw texts into Python lists and their corresponding labels into NumPy arrays:\n"
   ]
  },
  {
   "cell_type": "code",
   "execution_count": 4,
   "metadata": {
    "ExecuteTime": {
     "end_time": "2020-02-15T14:17:31.115577Z",
     "start_time": "2020-02-15T14:17:31.108038Z"
    }
   },
   "outputs": [],
   "source": [
    "def text_label_split(data):\n",
    "    text = []\n",
    "    label = []\n",
    "    for i in np.arange(len(data)):\n",
    "        text.append(data.text[i])\n",
    "        label.append(data.label[i])\n",
    "    label = np.array(label)\n",
    "    return text, label"
   ]
  },
  {
   "cell_type": "code",
   "execution_count": 5,
   "metadata": {},
   "outputs": [],
   "source": [
    "sa_tr_text, sa_tr_label = text_label_split(sa_tr)\n",
    "sa_ts_text, sa_ts_label = text_label_split(sa_ts)\n",
    "sa_dev_text, sa_dev_label = text_label_split(sa_dev)"
   ]
  },
  {
   "cell_type": "markdown",
   "metadata": {},
   "source": [
    "# Bag-of-Words Representation \n",
    "\n",
    "\n",
    "To train and test Logisitc Regression models, you first need to obtain vector representations for all documents given a vocabulary of features (unigrams, bigrams, trigrams).\n",
    "\n",
    "\n",
    "## Text Pre-Processing Pipeline\n",
    "\n",
    "To obtain a vocabulary of features, you should: \n",
    "- tokenise all texts into a list of unigrams (tip: using a regular expression) \n",
    "- remove stop words (using the one provided or one of your preference) \n",
    "- compute bigrams, trigrams given the remaining unigrams\n",
    "- remove ngrams appearing in less than K documents\n",
    "- use the remaining to create a vocabulary of unigrams, bigrams and trigrams (you can keep top N if you encounter memory issues).\n"
   ]
  },
  {
   "cell_type": "code",
   "execution_count": 6,
   "metadata": {
    "ExecuteTime": {
     "end_time": "2020-02-15T14:17:31.860420Z",
     "start_time": "2020-02-15T14:17:31.855439Z"
    }
   },
   "outputs": [],
   "source": [
    "stop_words = ['a','in','on','at','and','or', \n",
    "              'to', 'the', 'of', 'an', 'by', \n",
    "              'as', 'is', 'was', 'were', 'been', 'be', \n",
    "              'are','for', 'this', 'that', 'these', 'those', 'you', 'i',\n",
    "             'it', 'he', 'she', 'we', 'they' 'will', 'have', 'has',\n",
    "              'do', 'did', 'can', 'could', 'who', 'which', 'what', \n",
    "             'his', 'her', 'they', 'them', 'from', 'with', 'its']"
   ]
  },
  {
   "cell_type": "code",
   "execution_count": null,
   "metadata": {},
   "outputs": [],
   "source": [
    "stop_words."
   ]
  },
  {
   "cell_type": "markdown",
   "metadata": {},
   "source": [
    "### N-gram extraction from a document\n",
    "\n",
    "You first need to implement the `extract_ngrams` function. It takes as input:\n",
    "- `x_raw`: a string corresponding to the raw text of a document\n",
    "- `ngram_range`: a tuple of two integers denoting the type of ngrams you want to extract, e.g. (1,2) denotes extracting unigrams and bigrams.\n",
    "- `token_pattern`: a string to be used within a regular expression to extract all tokens. Note that data is already tokenised so you could opt for a simple white space tokenisation.\n",
    "- `stop_words`: a list of stop words\n",
    "- `vocab`: a given vocabulary. It should be used to extract specific features.\n",
    "\n",
    "and returns:\n",
    "\n",
    "- a list of all extracted features.\n",
    "\n",
    "See the examples below to see how this function should work."
   ]
  },
  {
   "cell_type": "code",
   "execution_count": 7,
   "metadata": {},
   "outputs": [
    {
     "data": {
      "text/plain": [
       "('great', 'movie')"
      ]
     },
     "execution_count": 7,
     "metadata": {},
     "output_type": "execute_result"
    }
   ],
   "source": [
    "vocab=set(['great',  ('great','movie')])\n",
    "tuple(['great','movie'])"
   ]
  },
  {
   "cell_type": "code",
   "execution_count": 8,
   "metadata": {
    "ExecuteTime": {
     "end_time": "2020-02-15T14:17:33.169090Z",
     "start_time": "2020-02-15T14:17:33.161268Z"
    }
   },
   "outputs": [],
   "source": [
    "def extract_ngrams(x_raw, ngram_range = (1,3), token_pattern=  r'\\b[A-Za-z][A-Za-z]+\\b', stop_words = [], vocab = set()):\n",
    "    \n",
    "    words = re.findall(pattern = token_pattern, string = x_raw)\n",
    "    words_stopped = [w for w in words if w not in stop_words]\n",
    "    ngrams = np.arange(ngram_range[0], ngram_range[1] + 1)\n",
    "    x_tmp = []\n",
    "    for n in ngrams: \n",
    "        if n == 1:\n",
    "            for w in words_stopped:\n",
    "                x_tmp.append(w)\n",
    "        else:\n",
    "            for idx in np.arange(len(words_stopped)):\n",
    "                if((idx + n) <= len(words_stopped)):\n",
    "                    ngrams_word = tuple(words_stopped[idx : idx + n])\n",
    "                    x_tmp.append(ngrams_word)\n",
    "                else:\n",
    "                    break\n",
    "    if len(vocab) > 0:\n",
    "        x = [g for g in x_tmp if g in vocab] \n",
    "    else:\n",
    "        x = x_tmp\n",
    "        \n",
    "    return x\n",
    "\n"
   ]
  },
  {
   "cell_type": "code",
   "execution_count": 9,
   "metadata": {
    "ExecuteTime": {
     "end_time": "2020-02-15T14:17:33.680114Z",
     "start_time": "2020-02-15T14:17:33.675339Z"
    }
   },
   "outputs": [
    {
     "data": {
      "text/plain": [
       "['great',\n",
       " 'movie',\n",
       " 'watch',\n",
       " ('great', 'movie'),\n",
       " ('movie', 'watch'),\n",
       " ('great', 'movie', 'watch')]"
      ]
     },
     "execution_count": 9,
     "metadata": {},
     "output_type": "execute_result"
    }
   ],
   "source": [
    "extract_ngrams(\"this is a great movie to watch\", \n",
    "               ngram_range=(1,3), \n",
    "               stop_words=stop_words)"
   ]
  },
  {
   "cell_type": "code",
   "execution_count": 75,
   "metadata": {
    "ExecuteTime": {
     "end_time": "2020-02-15T14:17:34.278189Z",
     "start_time": "2020-02-15T14:17:34.273722Z"
    }
   },
   "outputs": [
    {
     "data": {
      "text/plain": [
       "['great', ('great', 'movie')]"
      ]
     },
     "execution_count": 75,
     "metadata": {},
     "output_type": "execute_result"
    }
   ],
   "source": [
    "extract_ngrams(\"this is a great movie to watch\", \n",
    "               ngram_range=(1,2), \n",
    "               stop_words=stop_words, \n",
    "               vocab=set(['great',  ('great','movie')]))"
   ]
  },
  {
   "cell_type": "markdown",
   "metadata": {},
   "source": [
    "Note that it is OK to represent n-grams using lists instead of tuples: e.g. `['great', ['great', 'movie']]`"
   ]
  },
  {
   "cell_type": "markdown",
   "metadata": {},
   "source": [
    "### Create a vocabulary of n-grams\n",
    "\n",
    "Then the `get_vocab` function will be used to (1) create a vocabulary of ngrams; (2) count the document frequencies of ngrams; (3) their raw frequency. It takes as input:\n",
    "- `X_raw`: a list of strings each corresponding to the raw text of a document\n",
    "- `ngram_range`: a tuple of two integers denoting the type of ngrams you want to extract, e.g. (1,2) denotes extracting unigrams and bigrams.\n",
    "- `token_pattern`: a string to be used within a regular expression to extract all tokens. Note that data is already tokenised so you could opt for a simple white space tokenisation.\n",
    "- `stop_words`: a list of stop words\n",
    "- `vocab`: a given vocabulary. It should be used to extract specific features.\n",
    "- `min_df`: keep ngrams with a minimum document frequency.\n",
    "- `keep_topN`: keep top-N more frequent ngrams.\n",
    "\n",
    "and returns:\n",
    "\n",
    "- `vocab`: a set of the n-grams that will be used as features.\n",
    "- `df`: a Counter (or dict) that contains ngrams as keys and their corresponding document frequency as values.\n",
    "- `ngram_counts`: counts of each ngram in vocab\n",
    "\n",
    "Hint: it should make use of the `extract_ngrams` function."
   ]
  },
  {
   "cell_type": "code",
   "execution_count": 10,
   "metadata": {
    "ExecuteTime": {
     "end_time": "2020-02-15T14:17:35.821240Z",
     "start_time": "2020-02-15T14:17:35.814722Z"
    }
   },
   "outputs": [],
   "source": [
    "def get_vocab(X_raw, ngram_range = (1,3), token_pattern = r'\\b[A-Za-z][A-Za-z]+\\b', min_df = 0, keep_topN = 0, stop_words = []):\n",
    "    vocab_list = []\n",
    "    doc_list = []\n",
    "    for t in X_raw:\n",
    "        ngrams = extract_ngrams(t, \n",
    "                       ngram_range = (1,3), \n",
    "                       stop_words = stop_words)\n",
    "        doc_list.append(ngrams)\n",
    "        vocab_list += ngrams\n",
    "\n",
    "    ngram_tf_top = dict(Counter(vocab_list).most_common(keep_topN))\n",
    "    ngram_vocab = list(ngram_tf_top.keys())\n",
    "    ngram_dict = dict(ngram_tf_top)\n",
    "    # ngram_count = list(dict(ngram_tf_top).values())\n",
    "\n",
    "    df = dict()\n",
    "    for d in doc_list:\n",
    "        for w in set(d):\n",
    "            if w in ngram_vocab:\n",
    "                df[w] = df.get(w, 0) + 1\n",
    "\n",
    "    delete_ng = []\n",
    "    for ng, ng_df in df.items():\n",
    "        if ng_df < min_df:\n",
    "            df.pop(ng)\n",
    "            ngram_dict.pop(ng)\n",
    "            \n",
    "    vocab = list(ngram_dict.keys())\n",
    "    \n",
    "    ngram_counts = list(ngram_dict.values())\n",
    "    return vocab, Counter(df), ngram_counts"
   ]
  },
  {
   "cell_type": "markdown",
   "metadata": {},
   "source": [
    "Now you should use `get_vocab` to create your vocabulary and get document and raw frequencies of n-grams:"
   ]
  },
  {
   "cell_type": "code",
   "execution_count": 11,
   "metadata": {},
   "outputs": [],
   "source": [
    "vocab_sa, df_sa, ngram_counts_sa = get_vocab(sa_tr_text, ngram_range=(1,3), keep_topN=5000, stop_words=stop_words)\n"
   ]
  },
  {
   "cell_type": "code",
   "execution_count": 13,
   "metadata": {
    "ExecuteTime": {
     "end_time": "2020-02-15T14:17:39.319793Z",
     "start_time": "2020-02-15T14:17:36.836545Z"
    },
    "scrolled": true
   },
   "outputs": [
    {
     "name": "stdout",
     "output_type": "stream",
     "text": [
      "5000\n",
      "\n",
      "['film', 'but', 'one', 'movie', 'not', 'all', 'there', 'like', 'so', 'out', 'about', 'more', 'up', 'when', 'their', 'some', 'just', 'if', 'into', 'him', 'even', 'only', 'no', 'than', 'time', 'good', 'most', 'story', 'will', 'would', 'much', 'character', 'also', 'get', 'two', 'well', 'characters', 'other', 'very', 'first', 'see', 'after', 'because', 'way', 'make', 'off', 'plot', 'while', 'had', 'any', 'too', 'little', 'life', 'films', 'does', 'where', 'people', 'then', 'how', 'me', 'really', 'man', 'scene', 'my', 'never', 'bad', 'being', 'over', 'best', 'don', 'scenes', 'doesn', 'many', 'new', 'know', 'director', 'here', 'action', 'such', 'great', 'through', 'movies', 're', 'love', 'another', 'made', 'go', 'big', 'end', 'seems', 'something', 'still', 'back', 'world', 'us', 'work', 'now', 'down', 'before', 'makes']\n",
      "\n",
      "[('but', 1334), ('one', 1247), ('film', 1231), ('not', 1170), ('all', 1117), ('movie', 1095), ('out', 1080), ('so', 1047), ('there', 1046), ('like', 1043)]\n"
     ]
    }
   ],
   "source": [
    "print(len(vocab_sa))\n",
    "print()\n",
    "print(list(vocab_sa)[:100])\n",
    "print()\n",
    "print(df_sa.most_common()[:10])"
   ]
  },
  {
   "cell_type": "markdown",
   "metadata": {},
   "source": [
    "Then, you need to create vocabulary id -> word and id -> word dictionaries for reference:"
   ]
  },
  {
   "cell_type": "code",
   "execution_count": 14,
   "metadata": {
    "ExecuteTime": {
     "end_time": "2020-02-15T14:17:39.326811Z",
     "start_time": "2020-02-15T14:17:39.322256Z"
    }
   },
   "outputs": [],
   "source": [
    "word2id_sa = dict()\n",
    "for idx, term in enumerate(vocab_sa):\n",
    "    word2id_sa[term] = idx\n",
    "\n",
    "word2id_tc = dict()\n",
    "for idx, term in enumerate(vocab_tc):\n",
    "    word2id_tc[term] = idx\n"
   ]
  },
  {
   "cell_type": "markdown",
   "metadata": {},
   "source": [
    "Now you should be able to extract n-grams for each text in the training, development and test sets:"
   ]
  },
  {
   "cell_type": "code",
   "execution_count": 15,
   "metadata": {
    "ExecuteTime": {
     "end_time": "2020-02-15T14:17:40.213253Z",
     "start_time": "2020-02-15T14:17:39.329147Z"
    }
   },
   "outputs": [],
   "source": [
    "def doc2ngrams(doc, ngram_range, stop_words, vocab):\n",
    "    doc2ngram = []\n",
    "    for t in doc:\n",
    "        tmp = extract_ngrams(t, \n",
    "                       ngram_range = ngram_range, \n",
    "                       stop_words = stop_words)\n",
    "        text2ngram = []\n",
    "        for w in tmp:\n",
    "            if w in vocab:\n",
    "                text2ngram.append(w)\n",
    "        doc2ngram.append(text2ngram)\n",
    "    return doc2ngram"
   ]
  },
  {
   "cell_type": "code",
   "execution_count": 16,
   "metadata": {},
   "outputs": [],
   "source": [
    "sa_tr_ngrams = doc2ngrams(sa_tr_text, (1, 3), stop_words, vocab_sa)\n",
    "sa_ts_ngrams = doc2ngrams(sa_ts_text, (1, 3), stop_words, vocab_sa)\n",
    "sa_dev_ngrams = doc2ngrams(sa_dev_text, (1, 3), stop_words, vocab_sa)\n"
   ]
  },
  {
   "cell_type": "code",
   "execution_count": 17,
   "metadata": {},
   "outputs": [],
   "source": [
    "tc_tr_ngrams = doc2ngrams(tc_tr_text, (1, 3), stop_words, vocab_tc)\n",
    "tc_ts_ngrams = doc2ngrams(tc_ts_text, (1, 3), stop_words, vocab_tc)\n",
    "tc_dev_ngrams = doc2ngrams(tc_dev_text, (1, 3), stop_words, vocab_tc)"
   ]
  },
  {
   "cell_type": "markdown",
   "metadata": {},
   "source": [
    "## Vectorise documents "
   ]
  },
  {
   "cell_type": "markdown",
   "metadata": {},
   "source": [
    "Next, write a function `vectoriser` to obtain Bag-of-ngram representations for a list of documents. The function should take as input:\n",
    "- `X_ngram`: a list of texts (documents), where each text is represented as list of n-grams in the `vocab`\n",
    "- `vocab`: a set of n-grams to be used for representing the documents\n",
    "\n",
    "and return:\n",
    "- `X_vec`: an array with dimensionality Nx|vocab| where N is the number of documents and |vocab| is the size of the vocabulary. Each element of the array should represent the frequency of a given n-gram in a document.\n"
   ]
  },
  {
   "cell_type": "code",
   "execution_count": 18,
   "metadata": {
    "ExecuteTime": {
     "end_time": "2020-02-15T14:17:40.219201Z",
     "start_time": "2020-02-15T14:17:40.215129Z"
    }
   },
   "outputs": [],
   "source": [
    "def vectorise(X_ngram, vocab, word2id):\n",
    "    X_vec = np.zeros((len(X_ngram), len(vocab)))\n",
    "    for i in range(len(X_ngram)):\n",
    "        for w in X_ngram[i]:\n",
    "            idx = word2id[w]\n",
    "            X_vec[i][idx] += 1 \n",
    "    return X_vec"
   ]
  },
  {
   "cell_type": "markdown",
   "metadata": {},
   "source": [
    "Finally, use `vectorise` to obtain document vectors for each document in the train, development and test set. You should extract both count and tf.idf vectors respectively:"
   ]
  },
  {
   "cell_type": "markdown",
   "metadata": {},
   "source": [
    "#### Count vectors"
   ]
  },
  {
   "cell_type": "code",
   "execution_count": 19,
   "metadata": {
    "ExecuteTime": {
     "end_time": "2020-02-15T14:17:41.999574Z",
     "start_time": "2020-02-15T14:17:40.376534Z"
    }
   },
   "outputs": [],
   "source": [
    "X_tr_count = vectorise(sa_tr_ngrams, vocab_sa, word2id_sa)"
   ]
  },
  {
   "cell_type": "code",
   "execution_count": 20,
   "metadata": {
    "ExecuteTime": {
     "end_time": "2020-02-15T14:17:42.004808Z",
     "start_time": "2020-02-15T14:17:42.001555Z"
    }
   },
   "outputs": [
    {
     "data": {
      "text/plain": [
       "(1400, 5000)"
      ]
     },
     "execution_count": 20,
     "metadata": {},
     "output_type": "execute_result"
    }
   ],
   "source": [
    "X_tr_count.shape"
   ]
  },
  {
   "cell_type": "code",
   "execution_count": 21,
   "metadata": {
    "ExecuteTime": {
     "end_time": "2020-02-15T14:17:42.010525Z",
     "start_time": "2020-02-15T14:17:42.006309Z"
    }
   },
   "outputs": [
    {
     "data": {
      "text/plain": [
       "array([[20.,  6.,  8.,  0.,  4.,  1.,  1.,  0.,  3.,  1.,  1.,  1.,  0.,\n",
       "         0.,  6.,  1.,  2.,  1.,  2.,  0.,  3.,  4.,  1.,  1.,  0.,  1.,\n",
       "         4.,  2.,  1.,  3.,  1.,  3.,  0.,  0.,  1.,  0.,  4.,  0.,  0.,\n",
       "         2.,  1.,  0.,  0.,  0.,  0.,  1.,  0.,  3.,  2.,  1.],\n",
       "       [ 6.,  2.,  5.,  0.,  2.,  4.,  2.,  3.,  3.,  2.,  2.,  3.,  4.,\n",
       "         0.,  0.,  2.,  0.,  2.,  2.,  5.,  0.,  0.,  1.,  3.,  2.,  1.,\n",
       "         2.,  2.,  4.,  1.,  1.,  5.,  1.,  1.,  1.,  0.,  0.,  1.,  0.,\n",
       "         0.,  1.,  0.,  1.,  2.,  1.,  0.,  2.,  3.,  0.,  1.]])"
      ]
     },
     "execution_count": 21,
     "metadata": {},
     "output_type": "execute_result"
    }
   ],
   "source": [
    "X_tr_count[:2,:50]"
   ]
  },
  {
   "cell_type": "code",
   "execution_count": 22,
   "metadata": {},
   "outputs": [],
   "source": [
    "X_dev_count = vectorise(sa_dev_ngrams, vocab_sa, word2id_sa)"
   ]
  },
  {
   "cell_type": "code",
   "execution_count": 45,
   "metadata": {},
   "outputs": [],
   "source": [
    "X_ts_count = vectorise(sa_ts_ngrams, vocab_sa, word2id_sa)"
   ]
  },
  {
   "cell_type": "markdown",
   "metadata": {},
   "source": [
    "#### TF.IDF vectors\n",
    "\n",
    "First compute `idfs` an array containing inverted document frequencies (Note: its elements should correspond to your `vocab`)"
   ]
  },
  {
   "cell_type": "code",
   "execution_count": 23,
   "metadata": {
    "ExecuteTime": {
     "end_time": "2020-02-15T14:17:42.022692Z",
     "start_time": "2020-02-15T14:17:42.012315Z"
    }
   },
   "outputs": [],
   "source": [
    "idf_sa = np.zeros(len(vocab_sa))\n",
    "for i in np.arange(len(vocab_sa)):\n",
    "    term = vocab_sa[i]\n",
    "    idf_sa[i] = np.log10(len(vocab_sa) / df_sa[term])"
   ]
  },
  {
   "cell_type": "markdown",
   "metadata": {},
   "source": [
    "Then transform your count vectors to tf.idf vectors:"
   ]
  },
  {
   "cell_type": "code",
   "execution_count": 24,
   "metadata": {
    "ExecuteTime": {
     "end_time": "2020-02-15T14:17:42.802265Z",
     "start_time": "2020-02-15T14:17:42.752448Z"
    }
   },
   "outputs": [],
   "source": [
    "X_tr_tfidf = X_tr_count * idf_sa"
   ]
  },
  {
   "cell_type": "code",
   "execution_count": 25,
   "metadata": {},
   "outputs": [
    {
     "data": {
      "text/plain": [
       "array([3.65227171, 1.14762835, 3.01551775, 0.        , 1.26156829,\n",
       "       2.60366732, 1.35887664, 2.04205709, 2.03706997, 1.3310925 ,\n",
       "       1.38929726, 2.04581   , 2.76147933, 0.        , 0.        ,\n",
       "       1.42888538, 0.        , 1.45260882, 1.47036435, 4.00946501,\n",
       "       0.        , 0.        , 0.7721133 , 2.2169255 , 1.51491714,\n",
       "       0.78251606, 1.53808089, 1.62834928, 3.27720319, 0.80910828,\n",
       "       0.79479564, 4.13990595, 0.82102305, 0.81360878, 0.82275216,\n",
       "       0.        , 0.        , 0.81079051, 0.        , 0.        ,\n",
       "       0.85949196, 0.        , 0.89756629, 1.69910118, 0.84893675,\n",
       "       0.        , 1.77882058, 2.60322093, 0.        , 0.87680192])"
      ]
     },
     "execution_count": 25,
     "metadata": {},
     "output_type": "execute_result"
    }
   ],
   "source": [
    "X_tr_tfidf[1,:50]"
   ]
  },
  {
   "cell_type": "code",
   "execution_count": 24,
   "metadata": {
    "ExecuteTime": {
     "end_time": "2020-02-15T14:17:43.211619Z",
     "start_time": "2020-02-15T14:17:43.207266Z"
    }
   },
   "outputs": [
    {
     "data": {
      "text/plain": [
       "array([3.65227171, 1.14762835, 3.01551775, 0.        , 1.26156829,\n",
       "       2.60366732, 1.35887664, 2.04205709, 2.03706997, 1.3310925 ,\n",
       "       1.38929726, 2.04581   , 2.76147933, 0.        , 0.        ,\n",
       "       1.42888538, 0.        , 1.45260882, 1.47036435, 4.00946501,\n",
       "       0.        , 0.        , 0.7721133 , 2.2169255 , 1.51491714,\n",
       "       0.78251606, 1.53808089, 1.62834928, 3.27720319, 0.80910828,\n",
       "       0.79479564, 4.13990595, 0.82102305, 0.81360878, 0.82275216,\n",
       "       0.        , 0.        , 0.81079051, 0.        , 0.        ,\n",
       "       0.85949196, 0.        , 0.89756629, 1.69910118, 0.84893675,\n",
       "       0.        , 1.77882058, 2.60322093, 0.        , 0.87680192])"
      ]
     },
     "execution_count": 24,
     "metadata": {},
     "output_type": "execute_result"
    }
   ],
   "source": [
    "X_tr_tfidf[1,:50]"
   ]
  },
  {
   "cell_type": "code",
   "execution_count": 26,
   "metadata": {},
   "outputs": [],
   "source": [
    "X_dev_tfidf = X_dev_count * idf_sa"
   ]
  },
  {
   "cell_type": "code",
   "execution_count": 46,
   "metadata": {},
   "outputs": [],
   "source": [
    "X_ts_tfidf = X_ts_count * idf_sa"
   ]
  },
  {
   "cell_type": "markdown",
   "metadata": {},
   "source": [
    "# Binary Logistic Regression\n",
    "\n",
    "After obtaining vector representations of the data, now you are ready to implement Binary Logistic Regression for classifying sentiment."
   ]
  },
  {
   "cell_type": "markdown",
   "metadata": {},
   "source": [
    "First, you need to implement the `sigmoid` function. It takes as input:\n",
    "\n",
    "- `z`: a real number or an array of real numbers \n",
    "\n",
    "and returns:\n",
    "\n",
    "- `sig`: the sigmoid of `z`"
   ]
  },
  {
   "cell_type": "code",
   "execution_count": 27,
   "metadata": {
    "ExecuteTime": {
     "end_time": "2020-02-15T14:17:44.160661Z",
     "start_time": "2020-02-15T14:17:44.157902Z"
    }
   },
   "outputs": [],
   "source": [
    "def sigmoid(z):\n",
    "    sig = 1.0 / (1.0 + np.exp(-z))\n",
    "    return sig"
   ]
  },
  {
   "cell_type": "code",
   "execution_count": 28,
   "metadata": {},
   "outputs": [
    {
     "name": "stdout",
     "output_type": "stream",
     "text": [
      "0.5\n",
      "[0.00669285 0.76852478]\n"
     ]
    }
   ],
   "source": [
    "print(sigmoid(0)) \n",
    "print(sigmoid(np.array([-5., 1.2])))"
   ]
  },
  {
   "cell_type": "code",
   "execution_count": 21,
   "metadata": {
    "ExecuteTime": {
     "end_time": "2020-02-15T14:17:44.351292Z",
     "start_time": "2020-02-15T14:17:44.346822Z"
    },
    "scrolled": true
   },
   "outputs": [
    {
     "name": "stdout",
     "output_type": "stream",
     "text": [
      "0.5\n",
      "[0.00669285 0.76852478]\n"
     ]
    }
   ],
   "source": [
    "print(sigmoid(0)) \n",
    "print(sigmoid(np.array([-5., 1.2])))"
   ]
  },
  {
   "cell_type": "markdown",
   "metadata": {},
   "source": [
    "Then, implement the `predict_proba` function to obtain prediction probabilities. It takes as input:\n",
    "\n",
    "- `X`: an array of inputs, i.e. documents represented by bag-of-ngram vectors ($N \\times |vocab|$)\n",
    "- `weights`: a 1-D array of the model's weights $(1, |vocab|)$\n",
    "\n",
    "and returns:\n",
    "\n",
    "- `preds_proba`: the prediction probabilities of X given the weights"
   ]
  },
  {
   "cell_type": "code",
   "execution_count": 30,
   "metadata": {
    "ExecuteTime": {
     "end_time": "2020-02-15T14:17:44.718566Z",
     "start_time": "2020-02-15T14:17:44.715017Z"
    }
   },
   "outputs": [],
   "source": [
    "def predict_proba(X, weights):\n",
    "    preds_proba = sigmoid(X.dot(weights))\n",
    "    return preds_proba"
   ]
  },
  {
   "cell_type": "markdown",
   "metadata": {},
   "source": [
    "Then, implement the `predict_class` function to obtain the most probable class for each vector in an array of input vectors. It takes as input:\n",
    "\n",
    "- `X`: an array of documents represented by bag-of-ngram vectors ($N \\times |vocab|$)\n",
    "- `weights`: a 1-D array of the model's weights $(1, |vocab|)$\n",
    "\n",
    "and returns:\n",
    "\n",
    "- `preds_class`: the predicted class for each x in X given the weights"
   ]
  },
  {
   "cell_type": "code",
   "execution_count": 67,
   "metadata": {
    "ExecuteTime": {
     "end_time": "2020-02-15T14:17:45.002125Z",
     "start_time": "2020-02-15T14:17:44.998668Z"
    }
   },
   "outputs": [],
   "source": [
    "def predict_class(X, weights):\n",
    "    preds_proba = predict_proba(X, weights)\n",
    "    preds_class = np.array(preds_proba > 0.5, dtype = 'int')\n",
    "    return preds_class"
   ]
  },
  {
   "cell_type": "markdown",
   "metadata": {},
   "source": [
    "To learn the weights from data, we need to minimise the binary cross-entropy loss. Implement `binary_loss` that takes as input:\n",
    "\n",
    "- `X`: input vectors\n",
    "- `Y`: labels\n",
    "- `weights`: model weights\n",
    "- `alpha`: regularisation strength\n",
    "\n",
    "and return:\n",
    "\n",
    "- `l`: the loss score"
   ]
  },
  {
   "cell_type": "code",
   "execution_count": 32,
   "metadata": {
    "ExecuteTime": {
     "end_time": "2020-02-15T14:17:45.455533Z",
     "start_time": "2020-02-15T14:17:45.451475Z"
    }
   },
   "outputs": [],
   "source": [
    "def binary_loss(X, Y, weights, alpha=0.00001):\n",
    "    Y_prob = predict_proba(X, weights)\n",
    "    l =  -np.sum(Y * np.log(Y_prob) + (1 - Y) * np.log(1 - Y_prob)) / len(Y) + alpha * np.sum(weights ** 2)\n",
    "    return l\n",
    "    "
   ]
  },
  {
   "cell_type": "markdown",
   "metadata": {},
   "source": [
    "Now, you can implement Stochastic Gradient Descent to learn the weights of your sentiment classifier. The `SGD` function takes as input:\n",
    "\n",
    "- `X_tr`: array of training data (vectors)\n",
    "- `Y_tr`: labels of `X_tr`\n",
    "- `X_dev`: array of development (i.e. validation) data (vectors)\n",
    "- `Y_dev`: labels of `X_dev`\n",
    "- `lr`: learning rate\n",
    "- `alpha`: regularisation strength\n",
    "- `epochs`: number of full passes over the training data\n",
    "- `tolerance`: stop training if the difference between the current and previous validation loss is smaller than a threshold\n",
    "- `print_progress`: flag for printing the training progress (train/validation loss)\n",
    "\n",
    "\n",
    "and returns:\n",
    "\n",
    "- `weights`: the weights learned\n",
    "- `training_loss_history`: an array with the average losses of the whole training set after each epoch\n",
    "- `validation_loss_history`: an array with the average losses of the whole development set after each epoch"
   ]
  },
  {
   "cell_type": "code",
   "execution_count": 33,
   "metadata": {},
   "outputs": [
    {
     "data": {
      "text/plain": [
       "(5000, 1)"
      ]
     },
     "execution_count": 33,
     "metadata": {},
     "output_type": "execute_result"
    }
   ],
   "source": [
    "weights_upd = np.zeros((X_tr_count.shape[1], 1))\n",
    "weights_upd.shape"
   ]
  },
  {
   "cell_type": "code",
   "execution_count": 58,
   "metadata": {
    "ExecuteTime": {
     "end_time": "2020-02-15T14:17:45.968510Z",
     "start_time": "2020-02-15T14:17:45.958185Z"
    }
   },
   "outputs": [],
   "source": [
    "def gradient(weights, X, y, alpha):\n",
    "    return X.dot(predict_proba(X,weights) - y) + 2 * alpha * weights\n",
    "\n",
    "def SGD(X_tr, Y_tr, X_dev=[], Y_dev=[], loss=\"binary\", lr=0.1, alpha=0.00001, epochs=5, tolerance=0.0001, print_progress=True):\n",
    "    \n",
    "    cur_loss_tr = 1.\n",
    "    cur_loss_dev = 1.\n",
    "    training_loss_history = []\n",
    "    validation_loss_history = []\n",
    "    sample_num, feature_num = np.shape(X_tr)\n",
    "    weights_upd = np.zeros(feature_num)\n",
    "    \n",
    "    for epoch in np.arange(epochs):\n",
    "        random_idx = np.random.permutation(sample_num)\n",
    "        X_tmp = X_tr[random_idx]\n",
    "        Y_tmp = Y_tr[random_idx]\n",
    "        for i in random_idx:\n",
    "            weights_prev = weights_upd\n",
    "            x = X_tmp[i]\n",
    "            y = Y_tmp[i]\n",
    "            weights_upd = weights_prev - lr * gradient(weights_prev, x, y, alpha)\n",
    "        prev_loss_tr = cur_loss_tr\n",
    "        prev_loss_dev = cur_loss_dev\n",
    "        \n",
    "        cur_loss_dev = binary_loss(X_dev, Y_dev, weights_upd, alpha)\n",
    "        cur_loss_tr = binary_loss(X_tr, Y_tr, weights_upd, alpha)\n",
    "        training_loss_history.append(cur_loss_tr)\n",
    "        validation_loss_history.append(cur_loss_dev)\n",
    "        print('Epoch: {} | Training loss: {} |Validation loss: {}'.format(epoch,cur_loss_tr,cur_loss_dev))\n",
    "        if abs(cur_loss_dev - prev_loss_dev) < tolerance:\n",
    "            break\n",
    "        \n",
    "    return weights_upd, training_loss_history, validation_loss_history"
   ]
  },
  {
   "cell_type": "code",
   "execution_count": null,
   "metadata": {},
   "outputs": [],
   "source": []
  },
  {
   "cell_type": "markdown",
   "metadata": {},
   "source": [
    "## Train and Evaluate Logistic Regression with Count vectors\n",
    "\n",
    "First train the model using SGD:"
   ]
  },
  {
   "cell_type": "code",
   "execution_count": 59,
   "metadata": {
    "scrolled": true
   },
   "outputs": [
    {
     "name": "stdout",
     "output_type": "stream",
     "text": [
      "Epoch: 0 | Training loss: 0.6297079912223641 |Validation loss: 0.6491876439539267\n",
      "Epoch: 1 | Training loss: 0.5893228407376583 |Validation loss: 0.6235073997061638\n",
      "Epoch: 2 | Training loss: 0.5498613717340834 |Validation loss: 0.5916926068975336\n",
      "Epoch: 3 | Training loss: 0.5232632853346291 |Validation loss: 0.5739428591880443\n",
      "Epoch: 4 | Training loss: 0.5001879367212557 |Validation loss: 0.559279848500034\n",
      "Epoch: 5 | Training loss: 0.48102020987678556 |Validation loss: 0.5490674441808243\n",
      "Epoch: 6 | Training loss: 0.4636127034872586 |Validation loss: 0.5371783952965573\n",
      "Epoch: 7 | Training loss: 0.44869887969195543 |Validation loss: 0.5272368199196915\n",
      "Epoch: 8 | Training loss: 0.43537505794899 |Validation loss: 0.5189279647372776\n",
      "Epoch: 9 | Training loss: 0.42311236547180625 |Validation loss: 0.5121688594189118\n",
      "Epoch: 10 | Training loss: 0.41199577208987104 |Validation loss: 0.5051768604390985\n",
      "Epoch: 11 | Training loss: 0.4018322303009278 |Validation loss: 0.49905016157609916\n",
      "Epoch: 12 | Training loss: 0.39270301802950236 |Validation loss: 0.49343362998170226\n",
      "Epoch: 13 | Training loss: 0.3840408711748198 |Validation loss: 0.4883761795150412\n",
      "Epoch: 14 | Training loss: 0.37539758813228374 |Validation loss: 0.4837676058286975\n",
      "Epoch: 15 | Training loss: 0.36775095734679003 |Validation loss: 0.479806921109722\n",
      "Epoch: 16 | Training loss: 0.360539516176596 |Validation loss: 0.4757708102678546\n",
      "Epoch: 17 | Training loss: 0.35395247555998466 |Validation loss: 0.4724712918195556\n",
      "Epoch: 18 | Training loss: 0.34786590772677684 |Validation loss: 0.4680543804743355\n",
      "Epoch: 19 | Training loss: 0.34143479222689677 |Validation loss: 0.46460535624980565\n",
      "Epoch: 20 | Training loss: 0.3354662545727931 |Validation loss: 0.46228165722125464\n",
      "Epoch: 21 | Training loss: 0.3299486467445761 |Validation loss: 0.4586178277751647\n",
      "Epoch: 22 | Training loss: 0.3245505573173894 |Validation loss: 0.45582731079107924\n",
      "Epoch: 23 | Training loss: 0.3194973247315258 |Validation loss: 0.4532025850468059\n",
      "Epoch: 24 | Training loss: 0.3147299085357511 |Validation loss: 0.4507725402531441\n",
      "Epoch: 25 | Training loss: 0.30991740220146796 |Validation loss: 0.44861115646910643\n",
      "Epoch: 26 | Training loss: 0.3054579078382848 |Validation loss: 0.44632832624215324\n",
      "Epoch: 27 | Training loss: 0.30131680926484583 |Validation loss: 0.4445702913656533\n",
      "Epoch: 28 | Training loss: 0.2970622353647405 |Validation loss: 0.44206668459744763\n",
      "Epoch: 29 | Training loss: 0.2933638616521555 |Validation loss: 0.4408854932173853\n",
      "Epoch: 30 | Training loss: 0.2896476839911777 |Validation loss: 0.43846400764084836\n",
      "Epoch: 31 | Training loss: 0.2857978215890381 |Validation loss: 0.4372415042338264\n",
      "Epoch: 32 | Training loss: 0.28208478836959144 |Validation loss: 0.43534544588207524\n",
      "Epoch: 33 | Training loss: 0.27868660791212935 |Validation loss: 0.4338612711428448\n",
      "Epoch: 34 | Training loss: 0.275264737680662 |Validation loss: 0.4321950443171118\n",
      "Epoch: 35 | Training loss: 0.27222523659021003 |Validation loss: 0.4310765512737246\n",
      "Epoch: 36 | Training loss: 0.26881648246021156 |Validation loss: 0.4292153994864272\n",
      "Epoch: 37 | Training loss: 0.26595282672979975 |Validation loss: 0.4282006656217703\n",
      "Epoch: 38 | Training loss: 0.2627767286386561 |Validation loss: 0.42634184665760094\n",
      "Epoch: 39 | Training loss: 0.2598683882897202 |Validation loss: 0.42516403503031125\n",
      "Epoch: 40 | Training loss: 0.257140167392399 |Validation loss: 0.42388388873663446\n",
      "Epoch: 41 | Training loss: 0.25444209957290287 |Validation loss: 0.4230048276069604\n",
      "Epoch: 42 | Training loss: 0.2518678926008702 |Validation loss: 0.4217072184821426\n",
      "Epoch: 43 | Training loss: 0.24929384381400077 |Validation loss: 0.42094463440691443\n",
      "Epoch: 44 | Training loss: 0.24671868772185715 |Validation loss: 0.41961406506002336\n",
      "Epoch: 45 | Training loss: 0.2441562938215022 |Validation loss: 0.41861949638951845\n",
      "Epoch: 46 | Training loss: 0.24197066985916243 |Validation loss: 0.41776071587140656\n",
      "Epoch: 47 | Training loss: 0.23944101539664508 |Validation loss: 0.4167548899212456\n",
      "Epoch: 48 | Training loss: 0.23717188747135404 |Validation loss: 0.4158426546414465\n",
      "Epoch: 49 | Training loss: 0.23496224758562329 |Validation loss: 0.4150679552177574\n",
      "Epoch: 50 | Training loss: 0.23294671954967042 |Validation loss: 0.41451759213647904\n",
      "Epoch: 51 | Training loss: 0.23068370314445255 |Validation loss: 0.4134611713010918\n",
      "Epoch: 52 | Training loss: 0.22869800539954796 |Validation loss: 0.4126648679629266\n",
      "Epoch: 53 | Training loss: 0.22670386876315743 |Validation loss: 0.4119332539661209\n",
      "Epoch: 54 | Training loss: 0.22471179918336795 |Validation loss: 0.4112113019971562\n",
      "Epoch: 55 | Training loss: 0.22268863063558425 |Validation loss: 0.4105218681862601\n",
      "Epoch: 56 | Training loss: 0.22080359408167413 |Validation loss: 0.4097935643831542\n",
      "Epoch: 57 | Training loss: 0.21892218020184087 |Validation loss: 0.40916850188301573\n",
      "Epoch: 58 | Training loss: 0.21773931926520604 |Validation loss: 0.40953107703117525\n",
      "Epoch: 59 | Training loss: 0.2153325417596285 |Validation loss: 0.40796160943427234\n",
      "Epoch: 60 | Training loss: 0.2135880343194048 |Validation loss: 0.4073759788261564\n",
      "Epoch: 61 | Training loss: 0.21188039168460868 |Validation loss: 0.4068127801319674\n",
      "Epoch: 62 | Training loss: 0.21029519310844433 |Validation loss: 0.40633055831535275\n",
      "Epoch: 63 | Training loss: 0.20866147671903112 |Validation loss: 0.4058029755079887\n",
      "Epoch: 64 | Training loss: 0.20704145677571897 |Validation loss: 0.40537793573803593\n",
      "Epoch: 65 | Training loss: 0.20540747717918265 |Validation loss: 0.40475764634012096\n",
      "Epoch: 66 | Training loss: 0.20388302856941526 |Validation loss: 0.4043522905885881\n",
      "Epoch: 67 | Training loss: 0.20232887224396312 |Validation loss: 0.4038463174056887\n",
      "Epoch: 68 | Training loss: 0.20086371118638405 |Validation loss: 0.40341699810975273\n",
      "Epoch: 69 | Training loss: 0.19937904327783187 |Validation loss: 0.4029990994047705\n",
      "Epoch: 70 | Training loss: 0.19791530225427995 |Validation loss: 0.40252808777752075\n",
      "Epoch: 71 | Training loss: 0.19652096470684707 |Validation loss: 0.4021333285093277\n",
      "Epoch: 72 | Training loss: 0.19511485495940467 |Validation loss: 0.40173402217366394\n",
      "Epoch: 73 | Training loss: 0.19375713194502 |Validation loss: 0.40136581459211035\n",
      "Epoch: 74 | Training loss: 0.192471470194715 |Validation loss: 0.401057747522434\n",
      "Epoch: 75 | Training loss: 0.19109335383692022 |Validation loss: 0.4006069795379821\n",
      "Epoch: 76 | Training loss: 0.1897989264056084 |Validation loss: 0.4002626148759764\n",
      "Epoch: 77 | Training loss: 0.18860546748389373 |Validation loss: 0.40006389427132166\n",
      "Epoch: 78 | Training loss: 0.18731740718859424 |Validation loss: 0.3996831794928977\n",
      "Epoch: 79 | Training loss: 0.18604579337255828 |Validation loss: 0.39932475753674407\n",
      "Epoch: 80 | Training loss: 0.18482578162005356 |Validation loss: 0.3990056866900619\n",
      "Epoch: 81 | Training loss: 0.183814314923835 |Validation loss: 0.39894201601124507\n"
     ]
    }
   ],
   "source": [
    "w_count, loss_tr_count, loss_dev_count = SGD(X_tr_count, sa_tr_label, \n",
    "                                             X_dev=X_dev_count, \n",
    "                                             Y_dev=sa_dev_label, \n",
    "                                             lr=0.0001, \n",
    "                                             alpha=0.001, \n",
    "                                             epochs=100)"
   ]
  },
  {
   "cell_type": "code",
   "execution_count": 26,
   "metadata": {
    "ExecuteTime": {
     "end_time": "2020-02-15T14:17:51.480197Z",
     "start_time": "2020-02-15T14:17:46.362729Z"
    },
    "scrolled": true
   },
   "outputs": [
    {
     "name": "stderr",
     "output_type": "stream",
     "text": [
      "/anaconda3/lib/python3.7/site-packages/ipykernel_launcher.py:50: DeprecationWarning: elementwise == comparison failed; this will raise an error in the future.\n"
     ]
    },
    {
     "name": "stdout",
     "output_type": "stream",
     "text": [
      "Epoch: 0| Training loss: 0.6281849626714022| Validation loss: 0.6459904270912492\n",
      "Epoch: 1| Training loss: 0.58394973349301| Validation loss: 0.615917609244642\n",
      "Epoch: 2| Training loss: 0.5505425987370951| Validation loss: 0.5920179207204117\n",
      "Epoch: 3| Training loss: 0.5239076409919164| Validation loss: 0.5742090121213917\n",
      "Epoch: 4| Training loss: 0.500731542158432| Validation loss: 0.5599256616458367\n",
      "Epoch: 5| Training loss: 0.481386614351927| Validation loss: 0.5483399203516909\n",
      "Epoch: 6| Training loss: 0.46462260481387196| Validation loss: 0.536726260641603\n",
      "Epoch: 7| Training loss: 0.4500982582962053| Validation loss: 0.5293935827417584\n",
      "Epoch: 8| Training loss: 0.4361300598154409| Validation loss: 0.5194135185643873\n",
      "Epoch: 9| Training loss: 0.42421092133995136| Validation loss: 0.5128852380111468\n",
      "Epoch: 10| Training loss: 0.41424666156856305| Validation loss: 0.5081058150491683\n",
      "Epoch: 11| Training loss: 0.40290405763261916| Validation loss: 0.4998331750481731\n",
      "Epoch: 12| Training loss: 0.39344726405965164| Validation loss: 0.4940158979403169\n",
      "Epoch: 13| Training loss: 0.38503789030766256| Validation loss: 0.48976802503845507\n",
      "Epoch: 14| Training loss: 0.37654890135179875| Validation loss: 0.484037098115325\n",
      "Epoch: 15| Training loss: 0.36894058100253413| Validation loss: 0.4798610532741002\n",
      "Epoch: 16| Training loss: 0.3617911351634668| Validation loss: 0.47588612765070365\n",
      "Epoch: 17| Training loss: 0.3551265404206662| Validation loss: 0.47234842804380855\n",
      "Epoch: 18| Training loss: 0.3486529010996841| Validation loss: 0.46797755621787246\n",
      "Epoch: 19| Training loss: 0.34244316989524753| Validation loss: 0.464938665019058\n",
      "Epoch: 20| Training loss: 0.3366343015770723| Validation loss: 0.4616842926731529\n",
      "Epoch: 21| Training loss: 0.3312023236130169| Validation loss: 0.4590262056110472\n",
      "Epoch: 22| Training loss: 0.3260007588631569| Validation loss: 0.4563979800942745\n",
      "Epoch: 23| Training loss: 0.32083959589960936| Validation loss: 0.45317017998003734\n",
      "Epoch: 24| Training loss: 0.31705059120551277| Validation loss: 0.4527182622861437\n",
      "Epoch: 25| Training loss: 0.31137245815884257| Validation loss: 0.4484012987783105\n",
      "Epoch: 26| Training loss: 0.3069467760380594| Validation loss: 0.4461629481765205\n",
      "Epoch: 27| Training loss: 0.30267985376747814| Validation loss: 0.4440273276849877\n",
      "Epoch: 28| Training loss: 0.298560387521571| Validation loss: 0.4418603123640002\n",
      "Epoch: 29| Training loss: 0.29558254986979837| Validation loss: 0.44172617207437204\n",
      "Epoch: 30| Training loss: 0.29078322582916094| Validation loss: 0.4380952460056868\n",
      "Epoch: 31| Training loss: 0.28718417285149966| Validation loss: 0.4362850387634425\n",
      "Epoch: 32| Training loss: 0.28408560988552123| Validation loss: 0.43577239283434904\n",
      "Epoch: 33| Training loss: 0.28009737012982255| Validation loss: 0.4331545678568254\n",
      "Epoch: 34| Training loss: 0.2767640337246711| Validation loss: 0.431657490301419\n",
      "Epoch: 35| Training loss: 0.27350820080571875| Validation loss: 0.43010420069230215\n",
      "Epoch: 36| Training loss: 0.27036735251938776| Validation loss: 0.42862832552853375\n",
      "Epoch: 37| Training loss: 0.2673211984298023| Validation loss: 0.42731624333970303\n",
      "Epoch: 38| Training loss: 0.2643682626690211| Validation loss: 0.4260636123942821\n",
      "Epoch: 39| Training loss: 0.2615143553313424| Validation loss: 0.4247602930846561\n",
      "Epoch: 40| Training loss: 0.25872058410623594| Validation loss: 0.4235425412009785\n",
      "Epoch: 41| Training loss: 0.2560177969586485| Validation loss: 0.42236637774851515\n",
      "Epoch: 42| Training loss: 0.2533546845784477| Validation loss: 0.42128448240471866\n",
      "Epoch: 43| Training loss: 0.2507883305559025| Validation loss: 0.4202410832783033\n",
      "Epoch: 44| Training loss: 0.24825701835297637| Validation loss: 0.41923554264174134\n",
      "Epoch: 45| Training loss: 0.2458218689350721| Validation loss: 0.41821537954238325\n",
      "Epoch: 46| Training loss: 0.2435181956552816| Validation loss: 0.4175138038837945\n",
      "Epoch: 47| Training loss: 0.241183986857215| Validation loss: 0.4165877792887614\n",
      "Epoch: 48| Training loss: 0.2389589545183026| Validation loss: 0.41557310746919895\n",
      "Epoch: 49| Training loss: 0.23680171011929335| Validation loss: 0.4147816507167802\n",
      "Epoch: 50| Training loss: 0.23450601755766678| Validation loss: 0.41387587000162357\n",
      "Epoch: 51| Training loss: 0.23247124983002218| Validation loss: 0.4131240893983248\n",
      "Epoch: 52| Training loss: 0.23033786650938054| Validation loss: 0.41233527047381\n",
      "Epoch: 53| Training loss: 0.2282567887396891| Validation loss: 0.41156614941290953\n",
      "Epoch: 54| Training loss: 0.22647270304097009| Validation loss: 0.41099267683408564\n",
      "Epoch: 55| Training loss: 0.2246358767100557| Validation loss: 0.41042708711540626\n",
      "Epoch: 56| Training loss: 0.22246017419395409| Validation loss: 0.40954002861607436\n",
      "Epoch: 57| Training loss: 0.22060668292241928| Validation loss: 0.40889556239058955\n",
      "Epoch: 58| Training loss: 0.2187885160668603| Validation loss: 0.4082432051363766\n",
      "Epoch: 59| Training loss: 0.2170224169340236| Validation loss: 0.4076163788242318\n",
      "Epoch: 60| Training loss: 0.21530320470315473| Validation loss: 0.40713880258386625\n",
      "Epoch: 61| Training loss: 0.21357932142988068| Validation loss: 0.4065210097418873\n",
      "Epoch: 62| Training loss: 0.21191185411079208| Validation loss: 0.4060224089558166\n",
      "Epoch: 63| Training loss: 0.21032271463596797| Validation loss: 0.4054921850332128\n",
      "Epoch: 64| Training loss: 0.2087609426053154| Validation loss: 0.40501547722330933\n",
      "Epoch: 65| Training loss: 0.2071890996095131| Validation loss: 0.4045265690542238\n",
      "Epoch: 66| Training loss: 0.20560751820427933| Validation loss: 0.4040820565490143\n",
      "Epoch: 67| Training loss: 0.20406864906806577| Validation loss: 0.40361262444820656\n",
      "Epoch: 68| Training loss: 0.2025156464996579| Validation loss: 0.4030518995290221\n",
      "Epoch: 69| Training loss: 0.2010378950218318| Validation loss: 0.4025949361740047\n",
      "Epoch: 70| Training loss: 0.1997728849127573| Validation loss: 0.4023991394978512\n",
      "Epoch: 71| Training loss: 0.19841801966004854| Validation loss: 0.40200966293582197\n",
      "Epoch: 72| Training loss: 0.1968157840876145| Validation loss: 0.4013443623862235\n",
      "Epoch: 73| Training loss: 0.19555410813697371| Validation loss: 0.4011169859186285\n",
      "Epoch: 74| Training loss: 0.19413924871716362| Validation loss: 0.4006309698407786\n",
      "Epoch: 75| Training loss: 0.19278085382790883| Validation loss: 0.40022613590881917\n",
      "Epoch: 76| Training loss: 0.1914947308475946| Validation loss: 0.3998871578256288\n",
      "Epoch: 77| Training loss: 0.190261922351623| Validation loss: 0.39960823107953586\n",
      "Epoch: 78| Training loss: 0.18896911417129283| Validation loss: 0.39922627783002923\n",
      "Epoch: 79| Training loss: 0.1877191702258717| Validation loss: 0.3988834207898679\n",
      "Epoch: 80| Training loss: 0.18650134006367705| Validation loss: 0.3985725136186029\n",
      "Epoch: 81| Training loss: 0.1853023306621783| Validation loss: 0.3982626757047629\n",
      "Epoch: 82| Training loss: 0.18425246300322776| Validation loss: 0.3981454498168277\n",
      "Epoch: 83| Training loss: 0.18298816020164818| Validation loss: 0.39772399858098695\n"
     ]
    }
   ],
   "source": [
    "w_count, loss_tr_count, dev_loss_count = SGD(X_tr_count, Y_tr, \n",
    "                                             X_dev=X_dev_count, \n",
    "                                             Y_dev=Y_dev, \n",
    "                                             lr=0.0001, \n",
    "                                             alpha=0.001, \n",
    "                                             epochs=100)"
   ]
  },
  {
   "cell_type": "markdown",
   "metadata": {},
   "source": [
    "Now plot the training and validation history per epoch. Does your model underfit, overfit or is it about right? Explain why."
   ]
  },
  {
   "cell_type": "code",
   "execution_count": 60,
   "metadata": {
    "ExecuteTime": {
     "end_time": "2020-02-15T14:17:51.598911Z",
     "start_time": "2020-02-15T14:17:51.482307Z"
    }
   },
   "outputs": [
    {
     "data": {
      "image/png": "[encoded data removed]",
      "text/plain": [
       "<Figure size 432x288 with 1 Axes>"
      ]
     },
     "metadata": {
      "needs_background": "light"
     },
     "output_type": "display_data"
    }
   ],
   "source": [
    "plt.plot(np.arange(len(loss_tr_count)), loss_tr_count, label = 'Training Loss')\n",
    "plt.plot(np.arange(len(loss_dev_count)), loss_dev_count, label = 'Validation Loss')\n",
    "plt.legend()\n",
    "plt.show()"
   ]
  },
  {
   "cell_type": "markdown",
   "metadata": {
    "ExecuteTime": {
     "end_time": "2020-01-21T16:52:26.583150Z",
     "start_time": "2020-01-21T16:52:26.578754Z"
    }
   },
   "source": [
    "Explain here..."
   ]
  },
  {
   "cell_type": "markdown",
   "metadata": {},
   "source": [
    "Compute accuracy, precision, recall and F1-scores:"
   ]
  },
  {
   "cell_type": "code",
   "execution_count": 70,
   "metadata": {},
   "outputs": [
    {
     "name": "stdout",
     "output_type": "stream",
     "text": [
      "Accuracy: 0.835\n",
      "Precision: 0.8221153846153846\n",
      "Recall: 0.855\n",
      "F1-Score: 0.838235294117647\n"
     ]
    }
   ],
   "source": [
    "# fill in your code...\n",
    "preds_ts_count = predict_class(X_ts_count, w_count)\n",
    "print('Accuracy:', accuracy_score(sa_ts_label, preds_ts_count))\n",
    "print('Precision:', precision_score(sa_ts_label, preds_ts_count))\n",
    "print('Recall:', recall_score(sa_ts_label, preds_ts_count))\n",
    "print('F1-Score:', f1_score(sa_ts_label, preds_ts_count))"
   ]
  },
  {
   "cell_type": "code",
   "execution_count": 10,
   "metadata": {
    "ExecuteTime": {
     "end_time": "2020-02-15T14:37:40.569499Z",
     "start_time": "2020-02-15T14:37:40.566796Z"
    }
   },
   "outputs": [],
   "source": [
    "# fill in your code...\n",
    "\n",
    "print('Accuracy:', accuracy_score(Y_te,preds_te_count))\n",
    "print('Precision:', precision_score(Y_te,preds_te_count))\n",
    "print('Recall:', recall_score(Y_te,preds_te_count))\n",
    "print('F1-Score:', f1_score(Y_te,preds_te_count))"
   ]
  },
  {
   "cell_type": "markdown",
   "metadata": {},
   "source": [
    "Finally, print the top-10 words for the negative and positive class respectively."
   ]
  },
  {
   "cell_type": "code",
   "execution_count": 116,
   "metadata": {
    "ExecuteTime": {
     "end_time": "2020-02-15T14:37:07.638179Z",
     "start_time": "2020-02-15T14:37:07.635838Z"
    }
   },
   "outputs": [
    {
     "name": "stdout",
     "output_type": "stream",
     "text": [
      "Top-10 words for the positive class:\n",
      "  ['great', 'well', 'seen', 'fun', 'also', 'many', 'life', 'movies', 'both', 'world']\n",
      "\n",
      "Top-10 words for the negative class:\n",
      "  ['bad', 'only', 'unfortunately', 'script', 'worst', 'why', 'plot', 'boring', 'any', 'nothing']\n"
     ]
    }
   ],
   "source": [
    "# fill in your code...\n",
    "weights_idx = np.argsort(w_count)\n",
    "top10_pos_words = [vocab_sa[idx] for idx in weights_idx[:-11:-1]]\n",
    "print('Top-10 words for the positive class:\\n ', top10_pos_words)\n",
    "top10_neg_words = [vocab_sa[idx] for idx in weights_idx[:10]]\n",
    "print('\\nTop-10 words for the negative class:\\n ', top10_neg_words)"
   ]
  },
  {
   "cell_type": "markdown",
   "metadata": {},
   "source": [
    "If we were to apply the classifier we've learned into a different domain such laptop reviews or restaurant reviews, do you think these features would generalise well? Can you propose what features the classifier could pick up as important in the new domain?"
   ]
  },
  {
   "cell_type": "markdown",
   "metadata": {},
   "source": [
    "Provide your answer here..."
   ]
  },
  {
   "cell_type": "markdown",
   "metadata": {},
   "source": [
    "## Train and Evaluate Logistic Regression with TF.IDF vectors\n",
    "\n",
    "Follow the same steps as above (i.e. evaluating count n-gram representations).\n"
   ]
  },
  {
   "cell_type": "code",
   "execution_count": 122,
   "metadata": {
    "scrolled": true
   },
   "outputs": [
    {
     "name": "stdout",
     "output_type": "stream",
     "text": [
      "Epoch: 0 | Training loss: 0.5814096844515877 |Validation loss: 0.62749992421643\n",
      "Epoch: 1 | Training loss: 0.5118925227056951 |Validation loss: 0.5864205390011038\n",
      "Epoch: 2 | Training loss: 0.46365891575755436 |Validation loss: 0.558499699846096\n",
      "Epoch: 3 | Training loss: 0.42797756958660327 |Validation loss: 0.5403238483013156\n",
      "Epoch: 4 | Training loss: 0.39793496158823977 |Validation loss: 0.5234726349887465\n",
      "Epoch: 5 | Training loss: 0.3713083427475971 |Validation loss: 0.5075737855732103\n",
      "Epoch: 6 | Training loss: 0.3505855631195033 |Validation loss: 0.4964541260389419\n",
      "Epoch: 7 | Training loss: 0.3319705187414666 |Validation loss: 0.4863232826877312\n",
      "Epoch: 8 | Training loss: 0.31594059159993415 |Validation loss: 0.47767886351533845\n",
      "Epoch: 9 | Training loss: 0.3020553464197952 |Validation loss: 0.47029759372356617\n",
      "Epoch: 10 | Training loss: 0.28899317841752054 |Validation loss: 0.46317327764864336\n",
      "Epoch: 11 | Training loss: 0.2775333442696443 |Validation loss: 0.45707811757651295\n",
      "Epoch: 12 | Training loss: 0.26684731600720907 |Validation loss: 0.45141241943247656\n",
      "Epoch: 13 | Training loss: 0.25706108654290544 |Validation loss: 0.44638925278944286\n",
      "Epoch: 14 | Training loss: 0.24829829522075184 |Validation loss: 0.44226096868204545\n",
      "Epoch: 15 | Training loss: 0.23995070531469145 |Validation loss: 0.4376656737183009\n",
      "Epoch: 16 | Training loss: 0.23229970622279184 |Validation loss: 0.4335967440320497\n",
      "Epoch: 17 | Training loss: 0.2251818492866901 |Validation loss: 0.42996621965219367\n",
      "Epoch: 18 | Training loss: 0.21852920864710773 |Validation loss: 0.42662127810355827\n",
      "Epoch: 19 | Training loss: 0.212314917578367 |Validation loss: 0.4234063557989415\n",
      "Epoch: 20 | Training loss: 0.20649026511752686 |Validation loss: 0.4204152256366542\n",
      "Epoch: 21 | Training loss: 0.2009279665129954 |Validation loss: 0.4178313597287611\n",
      "Epoch: 22 | Training loss: 0.19575425901381097 |Validation loss: 0.4150928444765648\n",
      "Epoch: 23 | Training loss: 0.19080095646230769 |Validation loss: 0.4128694797511916\n",
      "Epoch: 24 | Training loss: 0.18614923396670705 |Validation loss: 0.4107647274611035\n",
      "Epoch: 25 | Training loss: 0.1817389095280965 |Validation loss: 0.4086979793656108\n",
      "Epoch: 26 | Training loss: 0.1775176750136478 |Validation loss: 0.40661098416203983\n",
      "Epoch: 27 | Training loss: 0.17349723539672074 |Validation loss: 0.40452778658257776\n",
      "Epoch: 28 | Training loss: 0.1696967513769897 |Validation loss: 0.4030081766481981\n",
      "Epoch: 29 | Training loss: 0.166054308380071 |Validation loss: 0.4013177328377674\n",
      "Epoch: 30 | Training loss: 0.1625689349866899 |Validation loss: 0.3992908378959019\n",
      "Epoch: 31 | Training loss: 0.1592066861106659 |Validation loss: 0.39789703253378383\n",
      "Epoch: 32 | Training loss: 0.15601507628734687 |Validation loss: 0.3963921958463704\n",
      "Epoch: 33 | Training loss: 0.15294518052443706 |Validation loss: 0.395208402544986\n",
      "Epoch: 34 | Training loss: 0.1500180421700121 |Validation loss: 0.3936321314722398\n",
      "Epoch: 35 | Training loss: 0.14721569211024152 |Validation loss: 0.3923323721667118\n",
      "Epoch: 36 | Training loss: 0.14445704945984691 |Validation loss: 0.3913034329404433\n",
      "Epoch: 37 | Training loss: 0.14183317278818308 |Validation loss: 0.39035293660794534\n",
      "Epoch: 38 | Training loss: 0.13931541726925234 |Validation loss: 0.38935549393447605\n",
      "Epoch: 39 | Training loss: 0.13688086332888896 |Validation loss: 0.38815321245194595\n",
      "Epoch: 40 | Training loss: 0.13453676594453606 |Validation loss: 0.3873443514142538\n",
      "Epoch: 41 | Training loss: 0.13228319684389767 |Validation loss: 0.38655858765629864\n",
      "Epoch: 42 | Training loss: 0.1300812445489779 |Validation loss: 0.3855014747004883\n",
      "Epoch: 43 | Training loss: 0.12796665196291393 |Validation loss: 0.384683968835516\n",
      "Epoch: 44 | Training loss: 0.12591694161246444 |Validation loss: 0.38371401341091715\n",
      "Epoch: 45 | Training loss: 0.12394698852432458 |Validation loss: 0.3827987402455166\n",
      "Epoch: 46 | Training loss: 0.12202129907842052 |Validation loss: 0.38209323495961683\n",
      "Epoch: 47 | Training loss: 0.12016272878067126 |Validation loss: 0.3813587151342676\n",
      "Epoch: 48 | Training loss: 0.1183611057993258 |Validation loss: 0.38098791215433486\n",
      "Epoch: 49 | Training loss: 0.11660706574492224 |Validation loss: 0.38004341833038746\n"
     ]
    }
   ],
   "source": [
    "w_tfidf, loss_tr_tfidf, loss_dev_tfidf = SGD(X_tr_tfidf, sa_tr_label, \n",
    "                                             X_dev=X_dev_tfidf, \n",
    "                                             Y_dev=sa_dev_label, \n",
    "                                             lr=0.0001, \n",
    "                                             alpha=0.00001, \n",
    "                                             epochs=50)"
   ]
  },
  {
   "cell_type": "code",
   "execution_count": 119,
   "metadata": {
    "ExecuteTime": {
     "end_time": "2020-02-15T14:17:54.414637Z",
     "start_time": "2020-02-15T14:17:51.625934Z"
    },
    "scrolled": true
   },
   "outputs": [
    {
     "ename": "NameError",
     "evalue": "name 'Y_tr' is not defined",
     "output_type": "error",
     "traceback": [
      "\u001b[0;31m---------------------------------------------------------------------------\u001b[0m",
      "\u001b[0;31mNameError\u001b[0m                                 Traceback (most recent call last)",
      "\u001b[0;32m<ipython-input-119-75f68d402fb4>\u001b[0m in \u001b[0;36m<module>\u001b[0;34m\u001b[0m\n\u001b[0;32m----> 1\u001b[0;31m w_tfidf, trl, devl = SGD(X_tr_tfidf, Y_tr, \n\u001b[0m\u001b[1;32m      2\u001b[0m                          \u001b[0mX_dev\u001b[0m\u001b[0;34m=\u001b[0m\u001b[0mX_dev_tfidf\u001b[0m\u001b[0;34m,\u001b[0m\u001b[0;34m\u001b[0m\u001b[0;34m\u001b[0m\u001b[0m\n\u001b[1;32m      3\u001b[0m                          \u001b[0mY_dev\u001b[0m\u001b[0;34m=\u001b[0m\u001b[0mY_dev\u001b[0m\u001b[0;34m,\u001b[0m\u001b[0;34m\u001b[0m\u001b[0;34m\u001b[0m\u001b[0m\n\u001b[1;32m      4\u001b[0m                          \u001b[0mlr\u001b[0m\u001b[0;34m=\u001b[0m\u001b[0;36m0.0001\u001b[0m\u001b[0;34m,\u001b[0m\u001b[0;34m\u001b[0m\u001b[0;34m\u001b[0m\u001b[0m\n\u001b[1;32m      5\u001b[0m                          \u001b[0malpha\u001b[0m\u001b[0;34m=\u001b[0m\u001b[0;36m0.00001\u001b[0m\u001b[0;34m,\u001b[0m\u001b[0;34m\u001b[0m\u001b[0;34m\u001b[0m\u001b[0m\n",
      "\u001b[0;31mNameError\u001b[0m: name 'Y_tr' is not defined"
     ]
    }
   ],
   "source": [
    "w_tfidf, trl, devl = SGD(X_tr_tfidf, Y_tr, \n",
    "                         X_dev=X_dev_tfidf, \n",
    "                         Y_dev=Y_dev, \n",
    "                         lr=0.0001, \n",
    "                         alpha=0.00001, \n",
    "                         epochs=50)"
   ]
  },
  {
   "cell_type": "markdown",
   "metadata": {},
   "source": [
    "Now plot the training and validation history per epoch. Does your model underfit, overfit or is it about right? Explain why."
   ]
  },
  {
   "cell_type": "code",
   "execution_count": 123,
   "metadata": {},
   "outputs": [
    {
     "data": {
      "image/png": "[encoded data removed]",
      "text/plain": [
       "<Figure size 432x288 with 1 Axes>"
      ]
     },
     "metadata": {
      "needs_background": "light"
     },
     "output_type": "display_data"
    }
   ],
   "source": [
    "plt.plot(np.arange(len(loss_tr_tfidf)), loss_tr_tfidf, label = 'Training Loss')\n",
    "plt.plot(np.arange(len(loss_dev_tfidf)), loss_dev_tfidf, label = 'Validation Loss')\n",
    "plt.legend()\n",
    "plt.show()"
   ]
  },
  {
   "cell_type": "code",
   "execution_count": 124,
   "metadata": {
    "ExecuteTime": {
     "end_time": "2020-02-15T14:17:54.517668Z",
     "start_time": "2020-02-15T14:17:54.417118Z"
    }
   },
   "outputs": [
    {
     "name": "stdout",
     "output_type": "stream",
     "text": [
      "Accuracy: 0.87\n",
      "Precision: 0.8221153846153846\n",
      "Recall: 0.87\n",
      "F1-Score: 0.87\n"
     ]
    }
   ],
   "source": [
    "preds_ts_tfidf = predict_class(X_ts_tfidf, w_tfidf)\n",
    "print('Accuracy:', accuracy_score(sa_ts_label, preds_ts_tfidf))\n",
    "print('Precision:', precision_score(sa_ts_label, preds_ts_count))\n",
    "print('Recall:', recall_score(sa_ts_label, preds_ts_tfidf))\n",
    "print('F1-Score:', f1_score(sa_ts_label, preds_ts_tfidf))"
   ]
  },
  {
   "cell_type": "markdown",
   "metadata": {},
   "source": [
    "Compute accuracy, precision, recall and F1-scores:"
   ]
  },
  {
   "cell_type": "code",
   "execution_count": 11,
   "metadata": {
    "ExecuteTime": {
     "end_time": "2020-02-15T14:37:56.489814Z",
     "start_time": "2020-02-15T14:37:56.487014Z"
    }
   },
   "outputs": [],
   "source": [
    "# fill in your code...\n",
    "\n",
    "print('Accuracy:', accuracy_score(Y_te,preds_te_count))\n",
    "print('Precision:', precision_score(Y_te,preds_te_count))\n",
    "print('Recall:', recall_score(Y_te,preds_te_count))\n",
    "print('F1-Score:', f1_score(Y_te,preds_te_count))"
   ]
  },
  {
   "cell_type": "markdown",
   "metadata": {},
   "source": [
    "Print top-10 most positive and negative words:"
   ]
  },
  {
   "cell_type": "code",
   "execution_count": 125,
   "metadata": {
    "ExecuteTime": {
     "end_time": "2020-02-15T14:38:17.845485Z",
     "start_time": "2020-02-15T14:38:17.842557Z"
    }
   },
   "outputs": [
    {
     "name": "stdout",
     "output_type": "stream",
     "text": [
      "Top-10 words for the positive class:\n",
      "  ['great', 'well', 'also', 'fun', 'seen', 'life', 'truman', 'perfectly', 'hilarious', 'many']\n",
      "\n",
      "Top-10 words for the negative class:\n",
      "  ['bad', 'worst', 'boring', 'plot', 'only', 'unfortunately', 'script', 'supposed', 'why', 'nothing']\n"
     ]
    }
   ],
   "source": [
    "# fill in your code...\n",
    "weights_idx_tfidf = np.argsort(w_tfidf)\n",
    "top10_pos_words_tfidf = [vocab_sa[idx] for idx in weights_idx_tfidf[:-11:-1]]\n",
    "print('Top-10 words for the positive class:\\n ', top10_pos_words_tfidf)\n",
    "top10_neg_words_tfidf = [vocab_sa[idx] for idx in weights_idx_tfidf[:10]]\n",
    "print('\\nTop-10 words for the negative class:\\n ', top10_neg_words_tfidf)"
   ]
  },
  {
   "cell_type": "markdown",
   "metadata": {},
   "source": [
    "### Discuss how did you choose model hyperparameters (e.g. learning rate and regularisation strength)? What is the relation between training epochs and learning rate? How the regularisation strength affects performance?"
   ]
  },
  {
   "cell_type": "markdown",
   "metadata": {},
   "source": [
    "Enter your answer here..."
   ]
  },
  {
   "cell_type": "markdown",
   "metadata": {},
   "source": [
    "\n",
    "\n",
    "## Full Results\n",
    "\n",
    "Add here your results:\n",
    "\n",
    "| LR | Precision  | Recall  | F1-Score  |\n",
    "|:-:|:-:|:-:|:-:|\n",
    "| BOW-count  | 0.82 | 0.85 |  0.83 |\n",
    "| BOW-tfidf  | 0.82 | 0.87 | 0.87 |\n"
   ]
  },
  {
   "cell_type": "markdown",
   "metadata": {},
   "source": [
    "# Multi-class Logistic Regression \n",
    "\n",
    "Now you need to train a Multiclass Logistic Regression (MLR) Classifier by extending the Binary model you developed above. You will use the MLR model to perform topic classification on the AG news dataset consisting of three classes:"
   ]
  },
  {
   "cell_type": "markdown",
   "metadata": {},
   "source": [
    "- Class 1: World\n",
    "- Class 2: Sports\n",
    "- Class 3: Business"
   ]
  },
  {
   "cell_type": "markdown",
   "metadata": {},
   "source": [
    "You need to follow the same process as in Task 1 for data processing and feature extraction by reusing the functions you wrote."
   ]
  },
  {
   "cell_type": "code",
   "execution_count": 131,
   "metadata": {
    "ExecuteTime": {
     "end_time": "2020-02-15T14:18:03.212229Z",
     "start_time": "2020-02-15T14:18:03.185261Z"
    }
   },
   "outputs": [],
   "source": [
    "tc_tr = pd.read_csv('data_topic/train.csv', names = ['label', 'text'])\n",
    "tc_ts = pd.read_csv('data_topic/test.csv', names = ['label', 'text'])\n",
    "tc_dev = pd.read_csv('data_topic/dev.csv', names = ['label', 'text'])"
   ]
  },
  {
   "cell_type": "code",
   "execution_count": 132,
   "metadata": {},
   "outputs": [
    {
     "data": {
      "text/html": [
       "<div>\n",
       "<style scoped>\n",
       "    .dataframe tbody tr th:only-of-type {\n",
       "        vertical-align: middle;\n",
       "    }\n",
       "\n",
       "    .dataframe tbody tr th {\n",
       "        vertical-align: top;\n",
       "    }\n",
       "\n",
       "    .dataframe thead th {\n",
       "        text-align: right;\n",
       "    }\n",
       "</style>\n",
       "<table border=\"1\" class=\"dataframe\">\n",
       "  <thead>\n",
       "    <tr style=\"text-align: right;\">\n",
       "      <th></th>\n",
       "      <th>label</th>\n",
       "      <th>text</th>\n",
       "    </tr>\n",
       "  </thead>\n",
       "  <tbody>\n",
       "    <tr>\n",
       "      <th>0</th>\n",
       "      <td>1</td>\n",
       "      <td>Reuters - Venezuelans turned out early\\and in ...</td>\n",
       "    </tr>\n",
       "    <tr>\n",
       "      <th>1</th>\n",
       "      <td>1</td>\n",
       "      <td>Reuters - South Korean police used water canno...</td>\n",
       "    </tr>\n",
       "    <tr>\n",
       "      <th>2</th>\n",
       "      <td>1</td>\n",
       "      <td>Reuters - Thousands of Palestinian\\prisoners i...</td>\n",
       "    </tr>\n",
       "    <tr>\n",
       "      <th>3</th>\n",
       "      <td>1</td>\n",
       "      <td>AFP - Sporadic gunfire and shelling took place...</td>\n",
       "    </tr>\n",
       "    <tr>\n",
       "      <th>4</th>\n",
       "      <td>1</td>\n",
       "      <td>AP - Dozens of Rwandan soldiers flew into Suda...</td>\n",
       "    </tr>\n",
       "  </tbody>\n",
       "</table>\n",
       "</div>"
      ],
      "text/plain": [
       "   label                                               text\n",
       "0      1  Reuters - Venezuelans turned out early\\and in ...\n",
       "1      1  Reuters - South Korean police used water canno...\n",
       "2      1  Reuters - Thousands of Palestinian\\prisoners i...\n",
       "3      1  AFP - Sporadic gunfire and shelling took place...\n",
       "4      1  AP - Dozens of Rwandan soldiers flew into Suda..."
      ]
     },
     "execution_count": 132,
     "metadata": {},
     "output_type": "execute_result"
    }
   ],
   "source": [
    "tc_tr.head()"
   ]
  },
  {
   "cell_type": "code",
   "execution_count": 37,
   "metadata": {
    "ExecuteTime": {
     "end_time": "2020-02-15T14:18:03.515585Z",
     "start_time": "2020-02-15T14:18:03.508299Z"
    }
   },
   "outputs": [
    {
     "data": {
      "text/html": [
       "<div>\n",
       "<style scoped>\n",
       "    .dataframe tbody tr th:only-of-type {\n",
       "        vertical-align: middle;\n",
       "    }\n",
       "\n",
       "    .dataframe tbody tr th {\n",
       "        vertical-align: top;\n",
       "    }\n",
       "\n",
       "    .dataframe thead th {\n",
       "        text-align: right;\n",
       "    }\n",
       "</style>\n",
       "<table border=\"1\" class=\"dataframe\">\n",
       "  <thead>\n",
       "    <tr style=\"text-align: right;\">\n",
       "      <th></th>\n",
       "      <th>label</th>\n",
       "      <th>text</th>\n",
       "    </tr>\n",
       "  </thead>\n",
       "  <tbody>\n",
       "    <tr>\n",
       "      <th>0</th>\n",
       "      <td>1</td>\n",
       "      <td>Reuters - Venezuelans turned out early\\and in ...</td>\n",
       "    </tr>\n",
       "    <tr>\n",
       "      <th>1</th>\n",
       "      <td>1</td>\n",
       "      <td>Reuters - South Korean police used water canno...</td>\n",
       "    </tr>\n",
       "    <tr>\n",
       "      <th>2</th>\n",
       "      <td>1</td>\n",
       "      <td>Reuters - Thousands of Palestinian\\prisoners i...</td>\n",
       "    </tr>\n",
       "    <tr>\n",
       "      <th>3</th>\n",
       "      <td>1</td>\n",
       "      <td>AFP - Sporadic gunfire and shelling took place...</td>\n",
       "    </tr>\n",
       "    <tr>\n",
       "      <th>4</th>\n",
       "      <td>1</td>\n",
       "      <td>AP - Dozens of Rwandan soldiers flew into Suda...</td>\n",
       "    </tr>\n",
       "  </tbody>\n",
       "</table>\n",
       "</div>"
      ],
      "text/plain": [
       "   label                                               text\n",
       "0      1  Reuters - Venezuelans turned out early\\and in ...\n",
       "1      1  Reuters - South Korean police used water canno...\n",
       "2      1  Reuters - Thousands of Palestinian\\prisoners i...\n",
       "3      1  AFP - Sporadic gunfire and shelling took place...\n",
       "4      1  AP - Dozens of Rwandan soldiers flew into Suda..."
      ]
     },
     "execution_count": 37,
     "metadata": {},
     "output_type": "execute_result"
    }
   ],
   "source": [
    "data_tr.head()"
   ]
  },
  {
   "cell_type": "code",
   "execution_count": 135,
   "metadata": {},
   "outputs": [
    {
     "data": {
      "text/plain": [
       "['Reuters - Venezuelans turned out early\\\\and in large numbers on Sunday to vote in a historic referendum\\\\that will either remove left-wing President Hugo Chavez from\\\\office or give him a new mandate to govern for the next two\\\\years.',\n",
       " 'Reuters - South Korean police used water cannon in\\\\central Seoul Sunday to disperse at least 7,000 protesters\\\\urging the government to reverse a controversial decision to\\\\send more troops to Iraq.',\n",
       " \"Reuters - Thousands of Palestinian\\\\prisoners in Israeli jails began a hunger strike for better\\\\conditions Sunday, but Israel's security minister said he\\\\didn't care if they starved to death.\",\n",
       " 'AFP - Sporadic gunfire and shelling took place overnight in the disputed Georgian region of South Ossetia in violation of a fragile ceasefire, wounding seven Georgian servicemen.',\n",
       " \"AP - Dozens of Rwandan soldiers flew into Sudan's troubled Darfur region Sunday, the first foreign armed force deployed in the area since Arab militiamen began a rampage against black African farmers, killing thousands.\",\n",
       " \"Reuters - Rwandan troops were airlifted on Sunday\\\\to Sudan's Darfur as the first foreign force there, mandated to\\\\protect observers monitoring a cease-fire between the Sudanese\\\\government and rebels in the troubled western region.\",\n",
       " \"AP - A bomb exploded during an Independence Day parade in India's remote northeast Sunday, killing at least 15 people, including schoolchildren, while a rocket attack during a celebration at a school in the separatist region of Kashmir injured 17, officials said.\",\n",
       " \"AFP - Australia's foreign minister will pay a rare visit to North Korea this week for talks on its nuclear programme after creating a stir here by warning a North Korean missile would be able to hit Sydney.\",\n",
       " \"AP - Democratic presidential candidate John Kerry does not plan to visit Florida in the aftermath of Hurricane Charley because he's concerned his campaign entourage could distract from recovery efforts, he said Saturday.\",\n",
       " \"AP - Democratic vice presidential candidate John Edwards called for changes to prescription drug programs and praised running mate John Kerry's military and government service at an outdoor campaign rally here Saturday.\",\n",
       " 'AFP - Although polls show the US presidential race a virtual dead heat, Democrat John Kerry appears to be gaining an edge over George W. Bush among the key states that could decide the outcome.',\n",
       " \"AP - Congress must pass legislation to protect the nation's electricity grid if it wants to avoid repeats of the devastating outages that rolled across eight states last year, Sen. Maria Cantwell, D-Wash., said Saturday.\",\n",
       " \"AP - Missouri's attorney general sued the federal environmental agency on Friday, saying it is behind on testing the state's air for lead as required by law.\",\n",
       " \" BAGHDAD (Reuters) - Insurgents fired mortars at a meeting  where Iraqi leaders met to pick an interim national assembly  Sunday, killing at least two people in a grim reminder of the  country's tortured path toward democracy.\",\n",
       " \" TOKYO (Reuters) - Three Japanese ministers paid homage at a  controversial shrine for war dead Sunday, the 59th anniversary  of Japan's World War II surrender, a move that drew anger from  Asian neighbors.\",\n",
       " 'Clashes between US troops and Sadr militiamen escalated Thursday, as the US surrounded Najaf for possible siege.',\n",
       " \"On Sunday, Venezuelans will decide whether to cut short the president's term, which is due to end in 2006.\",\n",
       " 'Amid a reevaluation, officials this week pushed the completion date for venues back to 2007.',\n",
       " 'Talks on setting up an Iraqi assembly continue despite fresh violence in Baghdad and the Shia stronghold of Najaf.',\n",
       " 'A referendum is under way in Venezuela to decide if President Hugo Chavez should remain in office.',\n",
       " 'An ailing Pope John Paul II says Mass at Lourdes, the French shrine revered by Roman Catholics.',\n",
       " 'Rwandan troops arrive in Sudan to help protect ceasefire monitors in the war-ravaged Darfur region.',\n",
       " \"Ian Thorpe sets the fastest time in the 200m freestyle as swimming's top names cruise into the semi-finals.\",\n",
       " \"Iran's Arash Miresmaili withdraws from the Olympics amid confusion over his reasons.\",\n",
       " \"Santa Barbara's sheriff asks a judge if he can release the results of an inquiry into Michael Jackson's treatment by police.\",\n",
       " \"The Iraq crisis and differences over Nato loom over the US Defence Secretary's meeting with his Russian counterpart.\",\n",
       " 'Georgia and South Ossetia negotiate the details of a truce they forged, despite reports of a village attack.',\n",
       " 'The British journalist who was kidnapped in Iraq says he faced mock executions and tried to escape his captors.',\n",
       " \"A man convicted of raping and killing a schoolgirl is hanged in India's first execution in nine years.\",\n",
       " 'Harry Potter author JK Rowling delights a small group of fans by giving her first public reading in Scotland for four years.',\n",
       " \"CARACAS -- Partisans on both sides are calling it the most polarized and important election in Venezuela's history, a presidential recall referendum today that will determine the course of democracy here and could buffet world oil prices. Both campaigns are also utterly convinced they will win.\",\n",
       " \"LONDON -- On a sweltering August afternoon, George Watson wedged himself, his briefcase, his sports jacket, and his raincoat into a narrow seat aboard the profoundly un-air-conditioned No. 38 bus, as it resumed its rumble down High Holborn, in London's bustling city center.\",\n",
       " 'KABUL, Afghanistan -- Rival militias clashed in western Afghanistan yesterday, reportedly killing 21 people and ramping up concern about security as the country prepares for landmark elections.',\n",
       " \"BAGHDAD -- After more than a week of fighting between the Mahdi Army and the combined US and Iraqi forces in Najaf, Baghdad's Sadr City, and a half-dozen other cities, analysts say neither interim Prime Minister Iyad Allawi nor radical cleric Moqtada al-Sadr had any good options left other than to talk.\",\n",
       " 'SASEBO, Japan -- On a cloudless afternoon in this sleepy port city, an 11-year-old girl drenched in blood and clutching a box cutter walked into the lunchroom at her elementary school. Teachers and students froze, assuming the sixth-grader known for her lighthearted nature had gravely hurt herself -- but she quickly dispelled that impression, witnesses said, by uttering a few ...',\n",
       " 'SARAJEVO, Bosnia-Herzegovina -- When NATO forces first came to Bosnia nearly a decade ago, they lived in heavily guarded compounds, patrolled the streets in tanks, and often wore full body armor.',\n",
       " 'SEOUL -- For years, Lee Yu Jin kept her secret. Whenever anybody asked -- and they did all the time as her celebrity as an actress and model spread -- she simply denied the rumors. No, she was not a foreigner. She was Korean.',\n",
       " \"CARACAS, Venezuela - The opposition's long and bitter campaign to oust Venezuelan President Hugo Chavez finally came down to a recall referendum Sunday, with the leftist leader hoping a huge turnout among the poor will keep him in power.    Activists on both sides set off fireworks and blared recordings of bugle music to wake voters hours before dawn, hoping for a flood of early votes in their favor...\",\n",
       " 'PUNTA GORDA, Fla. - After getting a first look at the widespread damage left behind by Hurricane Charley, Florida residents were faced with the arduous task of sorting through the wreckage, and for some, starting over again...',\n",
       " \"MIAMI - Hurricane Charley probably will not cause Floridians' insurance premiums to skyrocket like 1992's Andrew, and fewer insurers should go bankrupt from paying out damages expected to reach the billions of dollars, state and industry officials said Saturday.    They say previous premium increases and overhauls made because of Andrew, the most expensive natural disaster in U.S...\",\n",
       " 'PUNTA GORDA, Fla. - After getting a first look at the widespread damage left behind by Hurricane Charley, Florida residents were faced with the arduous task of sorting through the wreckage, and for some, starting over again...',\n",
       " \"ATHENS, Greece - Michael Phelps took care of qualifying for the Olympic 200-meter freestyle semifinals Sunday, and then found out he had been added to the American team for the evening's 400 freestyle relay final. Phelps' rivals Ian Thorpe and Pieter van den Hoogenband and teammate Klete Keller were faster than the teenager in the 200 free preliminaries...\",\n",
       " \"CARACAS, Venezuela - The opposition's long and bitter campaign to oust Venezuelan President Hugo Chavez finally came down to a recall referendum Sunday, with the leftist leader hoping a huge turnout among the poor will keep him in power.    Officials from around the world - including Pope John Paul II and U.S...\",\n",
       " \"NEW DELHI - A bomb exploded during an Independence Day parade in India's remote northeast on Sunday, killing at least 15 people, officials said, just an hour after Prime Minister Manmohan Singh pledged to fight terrorism. The outlawed United Liberation Front of Asom was suspected of being behind the attack in Assam state and a second one later in the area, said Assam Inspector General of Police Khagen Sharma...\",\n",
       " 'OREM, Utah - Family and friends of Lori Hacking gathered Saturday for a memorial service to remember the woman whom authorities believe was slain by her husband while she slept.    About 600 people attended the service, including the parents of both Lori Hacking and her husband, Mark, who has been charged with her murder...',\n",
       " \"ATHENS, Greece - Michael Phelps took care of qualifying for the Olympic 200-meter freestyle semifinals Sunday, and then found out he had been added to the American team for the evening's 400 freestyle relay final.    Phelps' rivals Ian Thorpe and Pieter van den Hoogenband and teammate Klete Keller were faster than the teenager in the 200 free preliminaries...\",\n",
       " \"LOURDES, France - A frail Pope John Paul II celebrated an open-air Mass on Sunday as several hundred thousand pilgrims, many in wheelchairs, crowded onto a field near a French shrine to the Virgin Mary that is associated with miraculous cures of the sick.    The Mass was a highlight of the Pope's two-day visit to Lourdes, a town in the Pyrenees where Roman Catholic tradition says St...\",\n",
       " 'Iraq will send troops to Najaf to battle a Shiite Muslim militia after peace talks collapsed between the government and Moqtada Sadr.',\n",
       " \"The fallout from Shiites fighting U.S. Marines in a holy city could weaken Iraq's new government\",\n",
       " \"Reuters - Thousands of U.S. troops in Afghanistan\\\\may have failed to catch Osama bin Laden but they are credited\\\\with encouraging millions of Afghans to register for the\\\\country's historic election in October.\",\n",
       " \"Reuters - Insurgents fired mortars at a meeting\\\\where Iraqi leaders met to pick an interim national assembly\\\\Sunday, killing at least two people in a grim reminder of the\\\\country's tortuous path toward democracy.\",\n",
       " \"AP - Despite the steady clang of mortar shells outside and persistent violence in the country, many delegates at the opening on Sunday of Iraq's National Conference held out hope that this first fragile taste of democracy would succeed.\",\n",
       " 'AP - The U.S. Coast Guard boarded the ship in the choppy Caribbean waters and began counting crew members, but the numbers did not match those given earlier.',\n",
       " \"Canadian Press - OTTAWA (CP) - Canada's police chiefs propose a surcharge of about 25 cents on monthly telephone and Internet bills to cover the cost of tapping into the communications of terrorists and other criminals.\",\n",
       " 'AFP - The top Democrat on the House intelligence committee urged fellow lawmakers not to allow confirmation hearings on a new CIA director to derail efforts to overhaul US spy agencies.',\n",
       " \" CARACAS, Venezuela (Reuters) - Venezuelans crowded polling  stations on Sunday to vote on whether to recall left-wing  President Hugo Chavez or back his mandate to govern the world's  No. 5 oil exporter for the next two years.\",\n",
       " ' TEHRAN (Reuters) - Kidnappers holding an Iranian diplomat  in Iraq will \"punish\" him within 48 hours if Iran does not  release 500 prisoners captured in its 1980-1988 war with Iraq,  Iranian state television said Sunday.',\n",
       " \" KABUL (Reuters) - Thousands of U.S. troops in Afghanistan  may have failed to catch Osama bin Laden but they are credited  with encouraging millions of Afghans to register for the  country's historic election in October.\",\n",
       " ' VADUZ, Liechtenstein (Reuters) - The people of  Liechtenstein ushered in a new era Sunday as the tiny Alpine  principality welcomed a new ruler and sought to shed its image  as a haven for money launderers.',\n",
       " 'Two days of celebrations to honour the Allied veterans who liberated southern France near a climax.',\n",
       " '\"Jam band\" Phish play their last gigs together at a special festival in the US which has attracted thousands of fans.',\n",
       " 'Clashes with riot police erupt as thousands protest in Seoul against plans to send troops to help US-led forces in Iraq.',\n",
       " \"Hurricane Charley - one of the most powerful storms in the nation's history - caused at least \\\\$20 billion in damage in Florida alone.\",\n",
       " \"ATHENS, Greece - Michael Phelps took care of qualifying for the Olympic 200-meter freestyle semifinals Sunday, and then found out he had been added to the American team for the evening's 400 freestyle relay final.    Phelps' rivals Ian Thorpe and Pieter van den Hoogenband and teammate Klete Keller were faster than the teenager in the 200 free preliminaries...\",\n",
       " 'LOURDES, France - A sick man among the sick, Pope John Paul II struggled through Sunday Mass at a French shrine that draws desperate people seeking miracle cures. The 84-year-old pontiff gasped, trembled and asked aides for help during the 2 1/2 hour service in sizzling heat...',\n",
       " \"HAVEN, Wis. - Whistling Straits is suddenly the least of anyone's worries...\",\n",
       " 'CARACAS, Venezuela - Voters turned out in huge numbers Sunday to decide whether to keep populist President Hugo Chavez in power or oust him and his social revolution that critics say has sidelined the middle class and fueled tensions between rich and poor.    Activists on both sides set off huge firecrackers and played recorded bugle songs to wake voters hours before dawn...',\n",
       " 'WASHINGTON - Increasing numbers of National Guard and Reserve troops who have returned from war in Iraq and Afghanistan are encountering new battles with their civilian employers at home. Jobs were eliminated, benefits reduced and promotions forgotten...',\n",
       " 'REDDING, Calif. - A wind-fueled wildfire roared through an old mining town near Redding on Sunday, destroying 20 homes and forcing nearly 125 residents to flee, officials said...',\n",
       " 'PUNTA GORDA, Fla. - As Florida residents began sweeping up the wreckage left behind by Hurricane Charley, officials on Sunday estimated damages as high as \\\\$11 billion for insured homes alone...',\n",
       " 'Canadian Press - GRAND PRE, N.S. (CP) - Prime Minister Paul Martin was met with a silent protest Sunday as he attended the closing of the World Acadian Congress in Nova Scotia.',\n",
       " \" RAMALLAH, West Bank (Reuters) - Thousands of Palestinian  prisoners in Israeli jails began a hunger strike for better  conditions on Sunday, but Israel's security minister said he  didn't care if they starved to death.\",\n",
       " ' LOURDES, France (Reuters) - Pope John Paul, a sick man  among the sick, wound up a emotional visit to this miracle  shrine Sunday and struggled with iron determination to finish a  sermon in order to encourage others suffering around him.',\n",
       " 'ATHENS, Greece - Mark Spitz can rest easy. The best Michael Phelps can do is win seven gold medals at these Olympics...',\n",
       " \"ATHENS, Greece - In an upset that was as historic as it was inevitable, the U.S. men's basketball team lost for only the third time ever in the Olympics on Sunday, 92-73 to Puerto Rico...\",\n",
       " \" CARACAS, Venezuela (Reuters) - Venezuelans crowded polling  stations on Sunday to vote on whether to recall left-wing  President Hugo Chavez or back his mandate to govern the world's  No. 5 oil exporter for the next two years.\",\n",
       " 'AP - A sick man among the sick, Pope John Paul II struggled through Sunday Mass at a French shrine that draws desperate people seeking miracle cures. The 84-year-old pontiff gasped, trembled and asked aides for help during the 2 1/2 hour service in sizzling heat.',\n",
       " \"PUNTA GORDA, Fla. - Residents left homeless by Hurricane Charley's 145 mph winds dug through their ravaged homes on Sunday, sweeping up shattered glass and rescuing what they could as President Bush promised rapid delivery of disaster aid...\",\n",
       " 'LAS VEGAS - Hotel heiress Nicky Hilton married a New York money manager before dawn Sunday in an impromptu ceremony, according to court filings obtained by The Associated Press.    Hilton, 20, married Todd Andrew Meister, 33, at the Las Vegas Wedding Chapel, according a Clark County marriage license...',\n",
       " 'WASHINGTON - Going against conventional wisdom, the Federal Reserve is raising interest rates in an election year. And it is Fed Chairman Alan Greenspan, a Republican, who is leading the charge even though an incumbent Republican in the White House is facing voter unrest about the state of the economy...',\n",
       " \"NAJAF, Iraq - U.S. tanks and troops rolled back into the center of Najaf and battled with Shiite militants Sunday, reigniting violence in the holy city just as delegates in Baghdad opened a conference meant to be a landmark in the country's movement toward democracy...\",\n",
       " 'CARACAS, Venezuela - Summoned by bugle calls and firecrackers, millions of Venezuelans turned out in unprecedented numbers Sunday to vote on whether to force leftist President Hugo Chavez from office.    Lines snaked for blocks in upscale neighborhoods, where suspicion is high that the leftist leader plans a Cuba-style dictatorship, and in the slums, where support for his \"revolution for the poor\" is fervent...',\n",
       " 'JERUSALEM - The Israeli man at the center of New Jersey Gov. James E...',\n",
       " \"AP - Venezuela's oil industry will enter a new period of stability and growth after Sunday's referendum on Hugo Chavez's presidency, the president of the state-run oil company said Sunday.\",\n",
       " 'AFP - Italy was on high alert as a group linked to Al-Qaeda reportedly threatened to attack, singling out Prime Minister Silvio Berlusconi as a target, after the expiry of a deadline for Rome to pull its troops out of Iraq.',\n",
       " \"AP - Capping an intense 10-day competition for Iowa's seven electoral votes, Democratic vice presidential nominee John Edwards accused the Bush administration on Sunday of being captured by drug and insurance interests at the expense of working families.\",\n",
       " 'Fighting in Najaf threatened to undermine a conference to choose a national assembly.',\n",
       " 'The unprecedented vote was sluggish as huge crowds lined up at voting booths. Results were not expected until 8 p.m., or later.',\n",
       " 'LOS ANGELES - Movie-goers were easy prey for a double dose of space invaders. The sci-fi smackdown \"Alien vs...',\n",
       " 'ATHENS, Greece - In an upset as historic as it was inevitable, Tim Duncan, Allen Iverson and the rest of the U.S. basketball team lost 92-73 to Puerto Rico on Sunday, only the third Olympic loss ever for America and its first since adding pros...',\n",
       " ' UNITED NATIONS (Reuters) - The U.N. Security Council met in  emergency session concerning Burundi on Sunday following the  massacre of more than 150 Tutsi Congolese refugees at a camp in  western Burundi.',\n",
       " 'Reuters - Rwandan troops arrived in\\\\Darfur Sunday as the first foreign force there, mandated to\\\\protect observers monitoring a shaky cease-fire between the\\\\Sudanese government and rebels in the remote western region.',\n",
       " ' EL FASHER, Sudan (Reuters) - Rwandan troops arrived in  Darfur Sunday as the first foreign force there, mandated to  protect observers monitoring a shaky cease-fire between the  Sudanese government and rebels in the remote western region.',\n",
       " \"NAJAF, Iraq - U.S. tanks and troops rolled back into the center of Najaf and battled with Shiite militants Sunday, reigniting violence in the holy city just as delegates in Baghdad opened a conference meant to be a landmark in the country's movement toward democracy...\",\n",
       " 'AP - The new U.N. administrator for Kosovo took control Sunday of the Serbian province, which has remained deeply divided along ethnic lines since the end of a 1999 war.',\n",
       " 'CARACAS, Venezuela - Summoned by bugle calls and the detonations of huge firecrackers, Venezuelans turned out in unprecedented numbers Sunday to vote on whether to force leftist President Hugo Chavez from office.    Some lines at polling places extended for 1.25 miles, stunning even veteran election monitors...',\n",
       " \" CARACAS, Venezuela (Reuters) - Venezuelans crowded polling  stations on Sunday to vote on whether to recall left-wing  President Hugo Chavez or back his mandate to govern the world's  No. 5 oil exporter for the next two years.\",\n",
       " 'Scientists are developing a device which could improve the lives of kidney dialysis patients.',\n",
       " \"AP - U.S. tanks and troops rolled back into the center of Najaf and battled with Shiite militants Sunday, reigniting violence in the holy city just as delegates in Baghdad opened a conference meant to be a landmark in the country's movement toward democracy.\",\n",
       " \"WASHINGTON - Defense Secretary Donald Rumsfeld briefed his Russian counterpart over the weekend on U.S. plans to shift its forces stationed around the globe, in some cases potentially bringing them closer to Russia's borders...\",\n",
       " 'The boy named by the Chinese authorities as the 11th Panchen Lama visits a temple in Tibet.',\n",
       " 'A powerful bomb killed at least 16 people, many of them schoolchildren, and wounded about 40 others as they assembled for an Independence Day parade Sunday in the northeastern state of Assam, authorities said.',\n",
       " \"Canadian Press - AL-FASHER, Sudan (AP) - Dozens of Rwandan soldiers arrived in Sudan's troubled Darfur region Sunday, the first foreign armed force deployed in the area since Arab militiamen began a rampage against black African farmers, killing thousands.\",\n",
       " \"AP - Snow storms isolated New Zealand's fourth biggest city of Dunedin on Monday, closing major roads, shutting schools and factories, and freezing newborn lambs.\",\n",
       " \"Ian Thorpe and Michael Phelps will chase gold in the men's 200m freestyle on day three of the Olympics.\",\n",
       " 'ATHENS, Greece - In an upset as historic as it was inevitable, Tim Duncan, Allen Iverson and the rest of the U.S. basketball team lost 92-73 to Puerto Rico on Sunday, only the third Olympic loss ever for America and its first since adding pros...',\n",
       " 'The conference was thrown into disorder by delegates staging protests against the U.S.-led military operation in Najaf.',\n",
       " 'The F.B.I. has been questioning demonstrators in an effort to forestall violent protests at the Republican National Convention.',\n",
       " \"ST. GEORGE'S, Grenada - Tropical Storm Earl unleashed heavy rains and violent winds that felled trees and ripped off roofs Sunday in the eastern Caribbean, while hundreds of people sought refuge in shelters...\",\n",
       " 'LOS ANGELES - The state attorney general\\'s office has concluded that Michael Jackson was not \"manhandled\" by sheriff\\'s deputies who took him into custody last year on child molestation charges, CBS News reported Sunday.    The findings were contained in a three-page letter Martin A...',\n",
       " 'TRENTON, N.J. - High-level New Jersey Democrats said Sunday that pressure is building among members of Gov...',\n",
       " \"PUNTA GORDA, Fla. - Residents left homeless by Hurricane Charley's 145 mph winds dug through their ravaged homes on Sunday, sweeping up shattered glass and rescuing what they could as President Bush promised rapid delivery of disaster aid...\",\n",
       " \"Reuters - North Korea is threatening to use\\\\terrorism against the South, Seoul's intelligence agency said\\\\in a rare public advisory on Monday, and warned South Korean\\\\citizens in China and Southeast Asia to be on their guard.\",\n",
       " 'BAZARAK, Afghanistan&lt;br&gt;Like virtually every adult in this Panjshir Valley village, Rahmal Beg registered to vote weeks ago. Indeed, popular enthusiasm is so high for the Oct. 9 presidential election -- the first in Afghan history -- that thousands of people in the valley have reportedly...',\n",
       " 'CAMARILLO, Calif. - Gas prices have dropped nearly 5 cents in the past three weeks with an increase in supply, but soaring crude oil prices could cause rates to rise again soon, an industry analyst said Sunday...',\n",
       " 'Reuters - The United States will announce the sale\\\\of four Aegis missile-defense warships to Taiwan next year with\\\\delivery likely to begin in 2011, a newspaper said on Monday.',\n",
       " \"Reuters - Tokyo's Nikkei fell 1.66 percent by\\\\midday on Monday, extending losses into a third day as another\\\\surge in oil prices deepened worries about the global economic\\\\impact and knocked down exporters such as Toyota Motor Corp.\",\n",
       " ' TAIPEI (Reuters) - The United States will announce the sale  of four Aegis missile-defense warships to Taiwan next year with  delivery likely to begin in 2011, a newspaper said on Monday.',\n",
       " 'The F.B.I. has been questioning demonstrators in an effort to forestall violent protests at the Republican convention.',\n",
       " \"Reuters - Tibet's second-holiest monk, the Panchen\\\\Lama, has visited Lhasa on a rare trip to the Himalayan region\\\\by the living Buddha, whose selection in 1995 was marred by\\\\controversy after the exiled Dalai Lama chose another boy.\",\n",
       " 'Kostas Kenteris and Katerina Thanou may not be fit enough to attend the hearing into their missed drugs test.',\n",
       " 'An unidentified substance  sent to the US embassy in the Malaysian capital Kuala Lumpur leads to a security scare. ',\n",
       " 'A parliamentary session due to have begun on Monday in the Maldives has been postponed indefinitely.',\n",
       " \"AFP - Sri Lanka's Tamil Tiger rebels said they will spurn any new government proposals to revive peace talks not giving them self-rule as peacebroker Norway was set to try to jumpstart the negotiations.\",\n",
       " ' KUALA LUMPUR (Reuters) - Suspicious white powder has been  found in an envelope that arrived at the U.S. embassy in  Malaysia and three staff members quarantined, an embassy  official and police said on Monday.  \"A letter was delivered that had a suspicious powder in it,\"  said an embassy spokesman in Kuala Lumpur. \"The powder is being  sent for testing.\"',\n",
       " 'Canadian Press - SHANGHAI, China (AP) - Villagers in an eastern province dug with farm tools Monday to search for 24 people missing in massive landslides unleashed by Typhoon Rananim, which has already been blamed for 115 deaths and is the worst such storm to hit China in seven years.',\n",
       " 'The second hearing in the trial of three Americans accused of torture and running a jail begins in Kabul.',\n",
       " 'Reuters - Israel declared psychological war on\\\\hunger-striking Palestinian prisoners on Monday, saying it\\\\would barbecue meat outside their cells to try to break their\\\\will.',\n",
       " 'AFP - Two Chinese travelling salesmen have been gunned down in southern Thailand as part of separatist violence which has claimed more than 275 lives since the start of the year, officials said.',\n",
       " ' JERUSALEM (Reuters) - Israel declared psychological war on  hunger-striking Palestinian prisoners on Monday, saying it  would barbecue meat outside their cells to try to break their  will.',\n",
       " 'More Sudanese refugees flee across the border into Chad following reports of renewed violence in the Darfur region.',\n",
       " 'NEW DELHI -- A powerful bomb killed at least 16 people, many of them schoolchildren, and wounded about 40 others as they assembled for an Independence Day parade yesterday in the northeastern state of Assam, authorities said.',\n",
       " \"JERUSALEM -- The Israeli man at the center of the resignation of New Jersey's governor, James E. McGreevey, over a gay affair said in an interview published yesterday that he is straight and had no idea at first that his boss is homosexual.\",\n",
       " 'ABOARD THE CHARLES DE GAULLE -- France yesterday honored soldiers, including tens of thousands of Africans, who staged an assault on the French Riviera 60 years ago to break the Nazi grip -- one of the least-remembered military operations of World War II.',\n",
       " 'LOURDES, France -- A sick man among the sick, Pope John Paul II struggled yesterday through Sunday Mass at a French shrine that draws desperate people seeking miracle cures. The 84-year-old pontiff gasped, trembled, and asked aides for help during the 2-hour service in the sizzling heat.',\n",
       " ' CARACAS, Venezuela (Reuters) - Three Venezuelan government  ministers said on Monday President Hugo Chavez had easily  survived a referendum on whether to recall him but their  comments conflicted with heavy opposition hints they had won.',\n",
       " 'Reuters - Venezuelan President Hugo\\\\Chavez has survived a referendum to recall him, according to\\\\results released by electoral authorities on Monday with 94\\\\percent of the vote counted.',\n",
       " 'AFP - Malaysian emergency services rushed to the tightly-guarded US embassy in Kuala Lumpur after a powder which police said could be anthrax was found in a letter.',\n",
       " \" CARACAS, Venezuela (Reuters) - Venezuelan President Hugo  Chavez has survived a referendum to recall him, according to  preliminary results released by the country's top electoral  officer on Monday.\",\n",
       " \"Heavy fighting erupts in Georgia's breakaway South Ossetia region, shattering a two-day ceasefire.\",\n",
       " \"Liechtenstein's Prince Hans-Adam hands over power to his son and invites the whole nation to a garden party.\",\n",
       " \"CARACAS, Venezuela - President Hugo Chavez appeared to have survived a popular referendum to oust him, according to early results Monday, while Venezuela's opposition swiftly claimed fraud.    Backers of the leftist populist president set off fireworks and began celebrating in the streets of the capital in the pre-dawn darkness upon hearing the news from Francisco Carrasquero, president of the National Elections Council...\",\n",
       " 'PUNTA GORDA, Fla. - Urban rescue teams, insurance adjusters and National Guard troops were scattered across Florida to help residents rally from the brunt of Hurricane Charley, the worst storm to hit the state in a dozen years...',\n",
       " 'AP - A French-American journalist has disappeared along with his Iraqi translator in the southern Iraqi city of Nasiriyah, the provincial deputy governor said Monday.',\n",
       " 'AFP - A consortium led by British insurer Prudential PLC has dropped its bid for a major South Korean state asset managing company.',\n",
       " \"AP - President Bush's plan to call tens of thousands of U.S. troops home from Europe and Asia could gain him election-year applause from military families, but won't ease the strain on soldiers still battling violent factions in Iraq and Afghanistan.\",\n",
       " 'Two witnesses tell an Australian court they saw UK backpacker Peter Falconio more than a week after he disappeared.',\n",
       " \"AP - Massachusetts Republicans, while supportive of President Bush's re-election, are mindful of the opportunity created should John Kerry beat him in November's election: the state's first Senate vacancy in two decades and a chance to break the Democratic monopoly on its 12-member delegation in Congress.\",\n",
       " \"AP - The boy chosen by the Chinese government as the reincarnation of the Panchen Lama was greeted warmly by dozens of monks when he visited Tibet's most sacred temple, state television reported, giving rare publicity to one of his appearances.\",\n",
       " \"JERUSALEM - More than a thousand Palestinian prisoners went on a hunger strike to press for better conditions, but Israel responded by tightening inmate restrictions, and a Cabinet minister said he wouldn't care if they starved to death.    About 1,600 prisoners struck on Sunday...\",\n",
       " ' TOKYO (Reuters) - In a bold gambit worthy of the chess  champion he once was, Bobby Fischer plans to wed a four-time  Japan great in the hope of avoiding deportation home to the  United States, where he is wanted for breaking sanctions.',\n",
       " \"AFP - Pakistan continues to support Islamic insurgency in Kashmir and will use militant attacks to influence ongoing peace talks with rival India, India's Home Ministry said in its annual report.\",\n",
       " 'AFP - Britain is \"sleepwalking into a surveillance society\" because of government plans to introduce ID cards and a population register, the nation\\'s information watchdog was quoted as saying.',\n",
       " 'Reuters - Authorities in northeast India urged Bangladesh on Monday not to kill about 100 wild elephants that have strayed across the border and gone on a rampage, killing 13 people and injuring dozens more.',\n",
       " ' JERUSALEM (Reuters) - Israel declared psychological war on  hunger-striking Palestinian prisoners Monday, saying it would  barbecue meat outside their cells to try to break their will.',\n",
       " 'Venezuelan President Hugo Chavez won backing from 58 percent of voters, with 94 percent of electoral rolls counted, in a referendum on whether to recall him.',\n",
       " 'An Olympic sailor is charged with the manslaughter of a Briton who died after being hit by a car in Athens.',\n",
       " \"Reuters - Villagers returning to their\\\\homes in Sudan's Darfur region are living in fear of the Arab\\\\militiamen who initially drove them away, the United Nations\\\\said in a report received by Reuters Monday.\",\n",
       " 'Reuters - Raids by Sudanese forces and Arab\\\\militiamen have worsened a desperate situation in Darfur,\\\\rights groups say, but the United Nations said Khartoum was\\\\making serious efforts to keep pledges to curb the violence.',\n",
       " \" KHARTOUM, Sudan (Reuters) - Villagers returning to their  homes in Sudan's Darfur region are living in fear of the Arab  militiamen who initially drove them away, the United Nations  said in a report received by Reuters Monday.\",\n",
       " ' TOKYO (Reuters) - In a bold gambit worthy of the chess  champion he once was, Bobby Fischer plans to wed a four-time  Japanese great in the hope of avoiding deportation home to the  United States, where he is wanted for breaking sanctions.',\n",
       " 'LAS VEGAS - Nicky Hilton, the hotel heiress and socialite, has tied the knot with her beau in a late-night ceremony, according to court filings obtained by The Associated Press.    Hilton, 20, married New York money manager Todd Andrew Meister, 33, at the Las Vegas Wedding Chapel early Sunday, according a Clark County marriage license...',\n",
       " 'ATHENS, Ohio - A group of anarchists is taking an unusual step to make its political voice heard - going to the polls.    Anarchists generally pride themselves on their rejection of government and its authority...',\n",
       " 'AP - Authorities are testing a suspicious powder mailed to the U.S. Embassy in Malaysia to determine whether it is anthrax, officials said Monday after the second such scare at a U.S. mission in Asia within a week.',\n",
       " ' KUALA LUMPUR, Malaysia (Reuters) - An envelope containing  suspicious white powder and threats against Americans was  delivered to the U.S. embassy in Malaysia, prompting health  checks on three staff, the embassy and police said Monday.',\n",
       " ' JAKARTA (Reuters) - Indonesian President Megawati  Sukarnoputri, trying to maintain momentum in a tight election  battle, said Monday her government had stabilized the economy  and cracked down hard on militants and separatists.',\n",
       " ' DAMASCUS (Reuters) - A Syrian court has agreed to release  on bail a prominent rights activist who faces trial on charges  of tarnishing the image of the Arab state by publishing false  information, one of his lawyers said Monday.',\n",
       " 'AFP - Grumbling about trains is part of the way of life, but one commuter has decided to do something about it -- by starting his own railway.',\n",
       " 'Israel launches psychological war against hundreds of Palestinian inmates on hunger strike for better conditions.',\n",
       " 'Reuters - Grieving relatives on Monday cremated victims, mostly women and children, of a separatist bombing in northeastern India, while hundreds of angry people rallied against the rising bloodshed.',\n",
       " \"The authorities in war-torn Chechnya announce cash gifts for boys born on the slain leader's birthday.\",\n",
       " 'The president won the backing of 58 percent of voters, officials said, but the opposition said that the government had cheated.',\n",
       " \"Canadian Press - KUALA LUMPUR, Malaysia (AP) - Authorities are testing a suspicious powder mailed to the U.S. Embassy in Malaysia to determine whether it's anthrax, officials said Monday. It's the second such scare at a U.S. mission in Asia within a week.\",\n",
       " ' CARACAS, Venezuela (Reuters) - Venezuela\\'s left-wing  President Hugo Chavez on Monday declared victory in a historic  recall referendum on his rule, but his opponents vowed to  challenge vote results they rejected as a \"gigantic fraud.\"',\n",
       " 'HAVEN, Wis. - Vijay Singh shot a 4-over 76 to eke into a three-way playoff Sunday, then made his only birdie of the day on the first of three extra holes to beat Justin Leonard and Chris DiMarco in the PGA Championship at Whistling Straits...',\n",
       " 'PUNTA GORDA, Fla. - Urban rescue teams, insurance adjusters and National Guard troops scattered across Florida Monday to help residents rally from the brunt of Hurricane Charley, the worst storm to hit the state in a dozen years...',\n",
       " \"NEW YORK - Wall Street shifted higher Monday as bargain hunters shrugged off skyrocketing oil prices and bought shares following an upbeat sales report from Wal-Mart Stores and a bright outlook from Lowe's.    The Dow Jones industrial average was up 84.07, or 0.9 percent, at 9,909.42, after edging 0.1 percent higher last week...\",\n",
       " 'A Communist Party whistle-blower who created a national sensation in China by publicly accusing his superiors of tolerating official corruption has been condemned for breaking party rules and ordered to \"do a complete self-examination,\" authorities announced.',\n",
       " \"Chicago Tribune - Pop stars are no strangers to bad behavior. Smashed guitars, ruined hotel rooms--such misdeeds often are chuckled over later, written up in the tabloids, perhaps listed on invoices for damage. Not so in Russia, where the public expects its performers to remember that they walk in Tchaikovsky's footsteps.\",\n",
       " 'Canadian Press - OTTAWA (CP) - Canada intends to return to the forefront on African development issues, beginning with a renewed effort at helping the troubled continent grow out of poverty, says Finance Minister Ralph Goodale.',\n",
       " 'Reuters - The government is expected to slash customs and excise duties on petroleum products in a bid to control inflation without hurting the profitability of oil firms, an oil industry official said on Monday.',\n",
       " 'Canadian Press - TORONTO (CP) - A national pharmacare program funded by the federal  government would indirectly result in shorter waiting lists, Ontario Premier Dalton McGuinty said Monday.',\n",
       " \"Los Angeles Times - They lost at politics at an early age. Since then, they've rarely made the same campaign mistakes twice.\",\n",
       " ' ISLAMABAD (Reuters) - Pakistan\\'s military Monday played  down a report in the latest edition of Time magazine describing  what it called a \"summit of terrorists\" held in March in  lawless tribal areas bordering Afghanistan.',\n",
       " 'Jonathan Keith \"Jack\" Idema, the American accused of running a free-lance anti-terror operation and private prison in Afghanistan, testified in court Monday that he could prove U.S. and Afghan authorities were fully aware of his actions.',\n",
       " \"WASHINGTON - President Bush's plan to call tens of thousands of U.S. troops home from Europe and Asia could gain him election-year applause from military families, but won't ease the strain on soldiers still battling violent factions in Iraq and Afghanistan...\",\n",
       " \"BAGHDAD, Iraq - Delegates at Iraq's National Conference called Monday for radical Shiite cleric Muqtada al-Sadr to abandon his uprising against U.S. and Iraqi troops and pull his fighters out of a holy shrine in Najaf...\",\n",
       " \"ATHENS, Greece - Michael Phelps, still smarting after America's upset loss to South Africa in the 400 freestyle relay, returned to the pool Monday and qualified fastest for the Olympic 200-meter butterfly. Phelps' quest to break Mark Spitz's record of seven gold medals at the 1972 Munich Games was dashed with the Americans' bronze medal in the relay Sunday night...\",\n",
       " \"MILWAUKEE - Jay Haas became the second-oldest player to be on the Ryder Cup team, joining Stewart Cink as the two captain's picks Monday for a U.S. team that will try to regain the cup from Europe next month...\",\n",
       " 'PUNTA GORDA, Fla. - Urban rescue teams, insurance adjusters and National Guard troops scattered across Florida Monday to dig out victims of Hurricane Charley and deliver water and other supplies to thousands of people left homeless...',\n",
       " \"NEW YORK - A drop in oil prices and upbeat outlooks from Wal-Mart and Lowe's prompted new bargain-hunting on Wall Street Monday, sending stocks sharply higher. The Dow climbed more than 110 points in morning trading...\",\n",
       " 'Reuters - Interim Prime Minister Iyad Allawi\\\\urged an Iraqi court Monday to speed up proceedings against\\\\toppled leader Saddam Hussein and his close aides.',\n",
       " 'AP - China raised its official death toll from Typhoon Rananim to at least 147 on Monday, as villagers with farm tools dug through massive landslides searching for 40 people still missing.',\n",
       " ' BAGHDAD (Reuters) - Interim Prime Minister Iyad Allawi  urged an Iraqi court Monday to speed up proceedings against  toppled leader Saddam Hussein and his close aides.',\n",
       " 'French rock star Bertrand Cantat could return home from Lithuania to complete his jail term for killing his lover.',\n",
       " 'A newly revealed summit of terrorists raises fears of a fresh plan to attack the U.S. This bombmaker and pilot could be a key player ',\n",
       " \"Reuters - A man on a bicycle threw at least four bombs into the compound of a luxury hotel in Nepal's capital on Monday but the blasts caused no casualties, authorities said.\",\n",
       " 'AP - Details of new television ad from President Bush to begin airing Monday:',\n",
       " \" KATHMANDU, Nepal (Reuters) - A man on a bicycle threw at  least four bombs into the compound of a luxury hotel in Nepal's  capital Monday but the blasts caused no casualties, authorities  said.\",\n",
       " 'AFP - A donkey cart beat a Porsche in a race held in a northern Portuguese city over the weekend to see which mode of transportation could best handle car congestion.',\n",
       " 'AFP - The Sudanese army expressed opposition to the upgrading of an African Union protection mission newly arrived in the wartorn western region of Darfur into a full-blown peacekeeping force.',\n",
       " \"AP - The United Nations should find ways to demonstrate political independence, regain the neutrality it lost after the Sept. 11 attacks and better communicate with the world's 1 billion Muslims, a top U.N. official said Monday.\",\n",
       " \"SANTA MARIA, Calif. - Dozens of Michael Jackson's fans pressed against a chain-link fence outside court Monday, staking out viewing spots hours before the pop star was to arrive to face off against the prosecutor who has pursued him for years on child molestation charges...\",\n",
       " 'KIBBUTZ TZUBA, Israel - Archaeologists said Monday they have found a cave where they believe John the Baptist anointed many of his disciples - a huge cistern with 28 steps leading to an underground pool of water.    During an exclusive tour of the cave by The Associated Press, archaeologists presented wall carvings they said tell the story of the fiery New Testament preacher, as well as a stone they believe was used for ceremonial foot washing...',\n",
       " 'NAJAF, Iraq - U.S. tanks rolled into the Old City of Najaf toward a holy Shiite shrine where militants were hiding Monday as participants at a national conference voted to send a delegation here to try to negotiate an end to the fighting...',\n",
       " 'WASHINGTON - President Bush on Monday announced plans to shift 60,000 to 70,000 U.S. troops who are now stationed in Europe and Asia in one of the largest troop realignments since the end of the Cold War...',\n",
       " 'Indian asks Bangladesh to spare the lives of around 100 elephants which have strayed across the border.',\n",
       " 'Police investigating the murder of newlywed Chanel Taylor make an arrest.',\n",
       " 'President Bush today announced plans to shift 60,000 to 70,000 U.S. troops who are now stationed in Europe and Asia.',\n",
       " 'CINCINNATI - President Bush on Monday announced plans to shift as many as 70,000 U.S. troops who are now stationed in Western Europe and Asia in one of the largest realignments since the end of the Cold War...',\n",
       " 'SANTA MARIA, Calif. - Fans of Michael Jackson erupted in cheers Monday as the pop star emerged from a double-decker tour bus and went into court for a showdown with the prosecutor who has pursued him for years on child molestation charges...',\n",
       " 'AP - Armed assailants attacked a convoy of Turkish trucks delivering supplies to U.S. forces in Iraq and took two Turkish drivers hostage, their company said Monday.',\n",
       " \"AP - There was no evident pattern of fraud in Venezuela's balloting that left President Hugo Chavez in office but a final judgment depends on what observers report, the State Department said Monday.\",\n",
       " 'AP - Elizabeth Burnosky is a registered Democrat who voted for President Bush in 2000, opposes his policy on Iraq and calls Sen. John Kerry \"a little wussy boy.\" Call her conflicted.',\n",
       " 'Insurers are counting the cost of Hurricane Charley in Florida, with early damage estimates reaching as high as \\\\$14bn (7.6; 11bn euros).',\n",
       " 'Former chess champion Bobby Fischer announced plans Monday to marry a leading Japanese chess official and appealed to Secretary of State Colin Powell to help him renounce U.S. citizenship, the latest in a series of moves as he seeks to block attempts to deport him to the United States.',\n",
       " 'AFP - The United States will withdraw up to 70,000 troops from Europe and Asia over the next decade, President George W. Bush said, in a move aimed at increasing the capability to fight the \"war on terror\" and meet other new threats.',\n",
       " \"ATHENS, Greece - The kid couldn't catch the Thorpedo - and he won't be catching Mark Spitz, either. Michael Phelps' quest for seven gold medals ended after just three events, doomed by another bronze Monday night in the most anticipated race at the Olympic pool - the head-to-head showdown with Australia's Ian Thorpe in the 200-meter freestyle...\",\n",
       " 'KIBBUTZ TZUBA, Israel - Archaeologists said Monday they have found a cave where they believe John the Baptist anointed many of his disciples - a huge cistern with 28 steps leading to an underground pool of water.    During an exclusive tour of the cave by The Associated Press, archaeologists presented wall carvings they said tell the story of the fiery New Testament preacher, as well as a stone they believe was used for ceremonial foot washing...',\n",
       " 'AP - More than 76,000 meals and snacks have been served to hurricane-ravaged counties in Florida, with thousands more available from federal, local and private agencies, the Federal Emergency Management Agency said Monday.',\n",
       " 'AP - Iran and Saudi Arabia called Monday for the United Nations to intervene in Iraq to stop the fighting between U.S. forces and Shhite militants hiding in the holy city of Najaf.',\n",
       " ' GATUMBA, Burundi (Reuters) - Mourners covered their faces  to block the smell of disinfectant and death Monday as they  buried more than 160 Congolese Tutsi refugees burned, hacked  and shot in an attack on their camp in western Burundi.',\n",
       " 'AFP - Reality television programs were under renewed fire in Portugal after the winner of the nation\\'s first edition of the popular \"Big Brother\" series threatened to throw himself from a bridge over the weekend.',\n",
       " 'AP - Armed assailants attacked a convoy of Turkish trucks delivering supplies to U.S. forces in Iraq and took two Turkish drivers hostage, their company said Monday.',\n",
       " \" BAGHDAD (Reuters) - U.S. troops and Shi'ite militiamen  battled in the holy Iraqi city of Najaf Monday, just hours  after political and religious leaders in Baghdad agreed to make  a last-ditch appeal for peace.\",\n",
       " 'AFP - German carrier Lufthansa said it would levy a temporary fuel surcharge on tickets from August 24, in response to the rise in the price of oil.',\n",
       " \"AP - Iraq's interim president promised on Monday to prevent Kurdish rebels in northern Iraq from launching attacking into Turkey, apparently hoping to avoid a Turkish military response.\",\n",
       " 'AP - The operator of a nuclear power plant where a long-neglected cooling pipe burst and killed four workers last week said Monday that four other pipes at its reactors also went unchecked for years.',\n",
       " \"WASHINGTON - Two Army divisions will return to the United States from Germany as part of a global military restructuring that President Bush says will bring up to 70,000 American troops home in the next decade.    Pentagon officials said Monday the 1st Armored Division and 1st Infantry Division probably won't start leaving their bases in Germany until 2006 at the earliest...\",\n",
       " \"AP - Three former spymasters told senators Monday that creating a new national intelligence director would be worthless without giving that person authority over the budgets of the nation's spy agencies.\",\n",
       " \"AP - German officials voiced concern Monday that their country has the most to lose with President Bush's announcement that tens of thousands of troops will return to the United States over the next decade.\",\n",
       " \"AP - Americans who served in the military will be well represented at the upcoming Republican convention, more so than at last month's Democratic convention or in the U.S. population overall, according to the GOP.\",\n",
       " ' GATUMBA, Burundi (Reuters) - Mourners covered their faces  to block the smell of disinfectant and death on Monday as they  buried more than 160 Congolese Tutsi refugees burned, hacked  and shot in an attack on their camp in western Burundi.',\n",
       " ' KABUL, Afghanistan (Reuters) - Three Americans standing  trial in Afghanistan Monday for imprisoning and torturing  Afghans were given a week to provide evidence, which they say  was withheld by U.S. authorities, proving that they had  official clearance.',\n",
       " \"AP - General Motors said Monday it will start making Cadillacs in China this year, joining a race by foreign luxury car brands to sell to the country's newly rich elite.\",\n",
       " 'Former super flyweight boxing champion Robert Quiroga has been stabbed to death in San Antonio, Texas.',\n",
       " \"NEW YORK - A drop in oil prices and upbeat outlooks from Wal-Mart and Lowe's prompted some bargain-hunting on Wall Street, sending stocks sharply higher Monday, with the swing exaggerated by thin late summer trading. The Dow Jones industrials surged more than 120 points higher in late trading...\",\n",
       " 'WASHINGTON - Over two decades, the income gap has steadily increased between the richest Americans, who own homes and stocks and got big tax breaks, and those at the middle and bottom of the pay scale, whose paychecks buy less.    The growing disparity is even more pronounced in this recovering economy...',\n",
       " 'BEVERLY HILLS, Calif. - A trial date has been set for Sept...',\n",
       " 'CARACAS, Venezuela - President Hugo Chavez survived a referendum to oust him, according to results Monday, and former U.S. President Jimmy Carter and other election observers urged the opposition to accept the vote, deflating claims of fraud...',\n",
       " 'Reuters - Suspected militants have kidnapped an\\\\Iraqi intelligence officer in response to the fighting in the\\\\holy city of Najaf, Al Jazeera television reported on Tuesday.',\n",
       " ' DUBAI (Reuters) - Suspected militants have kidnapped an  Iraqi intelligence officer in response to the fighting in the  holy city of Najaf, Al Jazeera television reported on Tuesday.',\n",
       " 'AFP - Hundreds of people were feared trapped in southwest England after flash floods left a popular coastal tourist village under water and swept dozens of cars and caravans into the sea.',\n",
       " \"Canadian Press - TORONTO (CP) - In his first public address as federal health minister, Ujjal Dosanjh carefully toed the government line on Monday, saying Ottawa is prepared to invest more money in medicare to reduce waiting times, but not by sponsoring a national pharmacare program demanded by the provinces. But even as he was speaking, Saskatchewan's premier said in Regina that provincial premiers will meet one more time to flesh out the details of the proposed pharmacare program before taking their idea to Prime Minister Paul Martin.\",\n",
       " \"Ethiopia's Haile Gebrselassie could miss the Olympic 10,000m because of an Achilles injury.\",\n",
       " \"Canadian Press - CALGARY (CP) - Husky Energy Inc. has further strengthened its relationship with one of China's major oil companies by signing a new exploration agreement in the South China Sea.\",\n",
       " 'CARACAS, Venezuela - Venezuelans overwhelmingly voted to keep President Hugo Chavez in office, dealing a crushing defeat to a splintered opposition and allowing the leftist leader to convert one of the biggest challenges of his presidency into an even broader mandate to carry on his \"revolution for the poor.\"   Stunned opposition leaders, who have fought for years to oust Chavez, claimed fraud after results announced Monday by election officials showed nearly 60 percent of voters had said \"no\" to the question of whether he should leave office immediately.    But former President Jimmy Carter and the Organization of American States endorsed the results of Sunday\\'s vote, which saw one of the biggest turnouts in Venezuela\\'s history, and urged everybody to accept the outcome...',\n",
       " \"NEW YORK - A drop in oil prices and upbeat outlooks from Wal-Mart and Lowe's helped send stocks sharply higher Monday on Wall Street, with the swing exaggerated by thin late summer trading. The Dow Jones industrials surged nearly 130 points...\",\n",
       " 'AP - Jury selection began Monday for a Haitian paramilitary leader convicted in absentia of killing a businessman and ordering a massacre in the early 1990s but is facing the charges again after returning to lead a revolt against President Jean-Bertrand Aristide.',\n",
       " 'The women gymnasts are favored to make history and win gold Tuesday - a Wheaties box moment waiting to happen.',\n",
       " \"With record turnout, Venezuela's president survives a recall vote, but opponents claim fraud.\",\n",
       " 'A new report urges humanitarian groups to maintain a local presence in disaster-prone areas.',\n",
       " 'In 2000, Greece brought home 13 medals. The Greek Olympic Committee hopes to double that number.',\n",
       " \"AFP - The UN envoy to Sudan has tried to ease the pressure on Khartoum after a flurry of indictments of the government's failure to end the crisis in Darfur drew irate reactions from President Omar al-Beshir.\",\n",
       " 'Canadian Press - LONDON (AP) - Heavy rain caused flash floods in seaside communities in southwestern England on Monday, and dozens of people were rescued from cars, trees and rooftops by emergency helicopters and lifeboats, officials said.',\n",
       " 'AP - Sen. Tom Harkin pushed the name-calling in the presidential race to a new level, calling Vice President Dick Cheney a coward for not serving in Vietnam and cowardly for his criticism of John Kerry.',\n",
       " ' LONDON (Reuters) - British police must charge or release on  Tuesday nine men arrested earlier this month in anti-terrorism  raids that followed a tipoff from an al Qaeda suspect in  Pakistan and security alerts in the United States.',\n",
       " 'Rwanda warns it will intervene to prevent genocide, as more than 150 Tutsi  refugees are buried in Burundi.',\n",
       " \"PUNTA GORDA, Fla. - Driven from splintered trailers, roofless condos and powerless suburban homes, Hurricane Charley's hungry victims sweated through long lines Monday to find food, showers and drinking water three days after the storm left their lives in shambles...\",\n",
       " \"The NFL Players Association has gotten involved in Quincy Carter's release by the Dallas Cowboys. The union filed a grievance over the release Aug...\",\n",
       " 'AP - As of Monday, Aug. 16, 935 U.S. service members have died since the beginning of military operations in Iraq in March 2003, according to the Defense Department. Of those, 697 died as a result of hostile action and 238 died of non-hostile causes.',\n",
       " 'A bird species new to science is found by researchers on a remote island in the Philippines.',\n",
       " \" CARACAS, Venezuela (Reuters) - Venezuela's left-wing  President Hugo Chavez easily won a referendum on his rule and  on Monday offered to open a dialogue with opponents while also  vowing to intensify the reforms at the heart of the nation's  political conflict.\",\n",
       " \"AP - With the Republican National Convention less than two weeks away, federal agents and city police are keeping tabs on activists and others they believe might try to cause trouble. They are making unannounced visits to people's homes, conducting interviews and monitoring Web sites and meetings.\",\n",
       " \"AP - President Bush's plan to restructure U.S. military forces abroad includes bringing two Army divisions home from Cold War-era bases in Germany, and increasing the U.S. presence at bases in countries like Poland, Romania and Uzbekistan, Pentagon officials said Monday.\",\n",
       " \"ATHENS, Greece - The kid couldn't catch the Thorpedo - and he won't be catching Mark Spitz, either. Michael Phelps' quest for seven gold medals ended after just three events, doomed by another bronze Monday night in the most anticipated race at the Olympic pool - the head-to-head showdown with Australia's Ian Thorpe in the 200-meter freestyle...\",\n",
       " 'SAN FRANCISCO - In another twist to Google Inc.\\'s public stock offering, the Internet search company said federal regulators have opened an informal inquiry into its failure to register millions of shares.    In a regulatory filing Monday, Google said it \"understands\" the inquiry was opened by the Securities and Exchange Commission...',\n",
       " 'AP - Venezuelans overwhelmingly voted to keep President Hugo Chavez in office, dealing a crushing defeat to a splintered opposition and allowing the leftist leader to convert one of the biggest challenges of his presidency into an even broader mandate to carry on his \"revolution for the poor.\"',\n",
       " 'AP - Democratic vice presidential nominee John Edwards promised Monday to deliver high-speed Internet access and more money for people to start businesses in rural areas.',\n",
       " \"Reuters - Venezuela's left-wing\\\\President, Hugo Chavez, easily won a referendum on his rule and\\\\on Monday offered to open a dialogue with opponents, while\\\\vowing to intensify the reforms at the heart of the nation's\\\\political conflict.\",\n",
       " \"Canadian Press - LONDON (AP) - Senator John Kerry has blue blood from all the royal houses of Europe, with even more titled relations than President George W. Bush, Burke's Peerage said Monday.\",\n",
       " 'AP - Venezuelan President Hugo Chavez won international approval from supporters and detractors alike Monday on his decisive referendum victory over opponents trying to oust him.',\n",
       " \"An opposition movement refused to accept the results, raising prospects for more turmoil in the world's fifth-largest oil exporter.\",\n",
       " \"Here in the Gion geisha district of Japan's ancient capital, even one bad hair day can cost a girl her career. So it is no wonder that Tetsuo Ishihara is the man with the most popular hands in town.\",\n",
       " 'City workers distributed water in tank trucks Monday and urged about 1.4 million residents of the Cuban capital who had no running water to remain calm, four days after Hurricane Charley roared through the area.',\n",
       " \"A Syrian court has released on bail a human rights activist charged with tarnishing the country's image but considered by advocacy groups to be a prisoner of conscience, one of his attorneys said Monday.\",\n",
       " 'An Iraqi delegation is going to Najaf to try to end  a stand-off between US-led forces and Shia militants.',\n",
       " ' BEIJING (Reuters) - China has successfully tested a new  guided missile it says is highly accurate, state media said on  Tuesday amid rising tensions with arch-rival Taiwan.',\n",
       " 'With the Republican National Convention just two weeks away, signs are pointing to a modest economic boost for few businesses.',\n",
       " 'AP - An unemployed man was arrested Monday in connection with the desecration of a Jewish cemetery earlier this month and an attack on a Muslim, judicial officials said.',\n",
       " 'AFP - A 19-year-old woman hospitalised in Vietnam has tested positive for the lethal strain of bird flu that has killed 27 people across Asia this year, including 19 in the communist nation, officials said.',\n",
       " \"Reuters - Gains in banks and exporters helped lift\\\\Tokyo's Nikkei average 0.84 percent by midday on Tuesday as a\\\\fall in crude oil prices and a rebound in U.S. stocks led\\\\buyers to pick up shares hit by the index's recent sharp\\\\losses.\",\n",
       " 'The findings dealt a blow to supporters of the charter school movement, including the Bush administration.',\n",
       " \"AP - Hezbollah's executive has re-elected Sheik Hassan Nasrallah as leader of the militant Shiite Muslim movement, according to a statement Monday by the party that the United States brands as terrorist.\",\n",
       " \"Heavy fighting is reported in Georgia's breakaway South Ossetia region after the deaths of two soldiers.\",\n",
       " 'Reuters - The worst typhoon to hit China in seven\\\\years killed at least 164 people and another 24 were listed as\\\\missing, Xinhua news agency said on Tuesday.',\n",
       " \"AFP - Australia's opposition has clawed back a potentially election-winning lead, boosted by its insistence on extra protection for cheap prescription medicines, two new polls showed.\",\n",
       " \"Reuters - Iraqi political and religious leaders\\\\prepared to go to the holy city of Najaf on Tuesday in a\\\\last-ditch bid to persuade a radical Shi'ite cleric to end a\\\\rebellion that has killed hundreds and rattled oil markets.\",\n",
       " 'Reuters - Six convicted Indonesian militants\\\\linked to the deadly blasts in Bali in 2002 have received a two\\\\month reduction of their jail sentences by President Megawati\\\\Sukarnoputri, a prison warden said on Tuesday.',\n",
       " \" BAGHDAD (Reuters) - Iraqi political and religious leaders  prepared to go to the holy city of Najaf on Tuesday in a  last-ditch bid to persuade a radical Shi'ite cleric to end a  rebellion that has killed hundreds and rattled oil markets.\",\n",
       " 'AFP - The powerful chairman of the US Senate intelligence committee promised to introduce this week a new intelligence reorganization bill likely to set Congress on a collision course with the White House, which favors an intelligence \"czar\" with vaguely defined powers.',\n",
       " \"Kostas Kenteris and Katerina Thanou's coach believes they will be cleared by the IOC.\",\n",
       " 'AFP - The life of a football manager in the English Premiership is frantic, pressured and apt to end in sometimes arbitrary dismissal. But now under-fire bosses can predict when they might face the sack -- using the weather.',\n",
       " \"AFP - European Union nations criticised Sri Lanka's Tamil Tiger rebels for killing rivals and recruiting child soldiers, appealing to the guerrillas not to undermine the Island's Norwegian-led peace bid.\",\n",
       " 'Reuters - Israeli soldiers shot and killed two\\\\Palestinian militants near a Jewish settlement in the Gaza\\\\Strip on Tuesday, Palestinian and Israeli sources said.',\n",
       " ' JERUSALEM (Reuters) - Israeli Prime Minister Ariel Sharon  has approved building tenders for 1,000 homes in Jewish  settlements in the West Bank frozen earlier to avoid upsetting  the United States, political sources said on Tuesday.',\n",
       " 'KABUL, Afghanistan -- Jonathan Keith Idema, an American accused of running a freelance antiterror operation and private prison in Afghanistan, testified in court yesterday that he could prove US and Afghan authorities were fully aware of his actions, and he accused the FBI of confiscating evidence that would support his contention.',\n",
       " 'BEIJING -- A Communist Party whistle-blower who publicly accused his superiors of tolerating official corruption has been condemned for breaking party rules and ordered to  quot;do a complete self-examination, quot; authorities announced.',\n",
       " 'AP - Stung by criticism about its role in fighting terrorism, Saudi Arabia has launched a radio advertising campaign in 19 U.S. cities citing the Sept. 11 commission report as proof that it has been a loyal ally in the fight against al-Qaida.',\n",
       " \"AP - Omar Garcia Escobedo's family thought their 25-year-old son had, like so many other migrants seeking work in the United States, drowned trying to cross the treacherous, fast flowing Rio Grande River.\",\n",
       " \"Reuters - Japan's Crown Princess Masako, who\\\\officials say is suffering from a mental disorder caused by the\\\\stress of adapting to royal life, may emerge from months of\\\\seclusion in September to attend a wedding in the tiny\\\\southeast Asian nation of Brunei, a court official said on\\\\Tuesday.\",\n",
       " ' KATHMANDU (Reuters) - Nepal put its security forces on  alert on Tuesday to counter a threat by Maoist guerrillas to  blockade the capital, as tourists moved out of a luxury hotel  after a bomb blast blamed on the rebels.',\n",
       " 'AP - Fighting between rival factions in western Afghanistan killed three militiamen and injured another seven, officials said Tuesday, despite the presence of government and U.S. troops.',\n",
       " 'AP - The Israeli government on Tuesday invited construction bids for 1,001 new homes in Jewish settlements in the West Bank, an official said, in direct violation of a U.S.-backed peace plan calling for a settlement freeze.',\n",
       " 'Reports say Israeli PM Ariel Sharon has given the green light to new homes in West Bank settlements.',\n",
       " 'US television host Oprah Winfrey is picked to sit on the jury for a murder trial in her home city of Chicago.',\n",
       " 'Reuters - Cities in Okinawa expressed outrage at\\\\the U.S. military on Tuesday for refusing to allow Japanese\\\\police investigate the wreckage of a Marine helicopter that\\\\crashed in the grounds of a university there last week.',\n",
       " \"AP - A witness who knew the Hamburg-based Sept. 11 hijackers outlined the group's hatred of Israel and said its members believed suicide attacks were legitimate as testimony opened Tuesday in the retrial of a Moroccan accused of helping the pilots.\",\n",
       " 'India players agree central contracts for the first time, with top stars netting a basic salary of 59,000.',\n",
       " 'BAGHDAD, Iraq - Insurgents fired a mortar on a busy street in central Baghdad on Tuesday, killing five people and wounding 30, the Interior Ministry and hospital officials said.    Iraqi officials had earlier reported the explosion was a car bomb, but later corrected that account...',\n",
       " 'Reuters - The Burundian army said on Tuesday it\\\\might cross into neighboring Congo to pursue rebels and militia\\\\it blames for massacring 160 Congolese Tutsi refugees at a camp\\\\in western Burundi.',\n",
       " 'Reuters - Wall Street was set for a steady start\\\\on Tuesday as crude oil prices eased, with results from chip\\\\group Applied Materials (AMAT.O) and inflation data a focus,\\\\while shares in a bullish Motorola (MOT.N) may rise.',\n",
       " ' BUJUMBURA (Reuters) - The Burundi army said on Tuesday it  might cross into neighboring Congo to pursue rebels and militia  it blames for massacring 160 Congolese Tutsi refugees at a camp  in western Burundi.',\n",
       " 'AP - American allies Japan and Australia embraced a new U.S. plan to restructure its forces abroad, while Russia said it was not concerned by the proposal. But Germany, home to 70,000 U.S. soldiers, said any withdrawal from the former Cold War frontier may hurt its economy.',\n",
       " ' TAIPEI (Reuters) - Taiwan President Chen Shui-bian proposed  on Tuesday to define direct transport links with rival China as  cross-Strait routes, in a bid to bypass a longstanding  political dispute, but Beijing is likely to ignore him.',\n",
       " \" BAGHDAD (Reuters) - A shell killed seven people in a busy  Baghdad street on Tuesday and U.S. forces fought pitched  battles with Shi'ite militia in the holy city of Najaf.\",\n",
       " 'The protesters coming to New York are receiving an outpouring of hospitality from scores of people who are opening their homes as temporary, free shelter.',\n",
       " \" BEIJING (Reuters) - North Korea's refusal to take part in  working-level talks on the nuclear crisis prompted a diplomatic  flurry on Tuesday with China, the host of the talks, at the  heart of efforts to keep the process on track.\",\n",
       " 'AP - Israeli Prime Minister Ariel Sharon has approved bids for construction of 1,000 homes in Jewish West Bank settlements after freezing them earlier this month, amid growing friction with the United States over continued settlement expansion.',\n",
       " \"AFP - Surging oil prices could moderate China's economy this year as rising costs push inflation higher, hitting corporate profits and consumer pocket books, analysts and state press said.\",\n",
       " \"AP - Unidentified gunmen opened fire on supporters of former Prime Minister Benazir Bhutto's party ahead of a key by-election, killing three people, police said Tuesday.\",\n",
       " ' JERUSALEM (Reuters) - Prime Minister Ariel Sharon has  approved building tenders for 1,000 more Israeli settlement  homes in the occupied West Bank frozen earlier to avoid  upsetting the United States, political sources said on Tuesday.',\n",
       " 'AP - The Russian Supreme Court on Tuesday rejected an appeal from an arms control researcher who was sentenced to 15 years in prison for treason in what rights advocates have called a politically motivated case.',\n",
       " \"PORTLAND, Maine - Whether its blue or spotted or stripped, the standard issue hospital gown is drafty and revealing. It's embarrassing for just about anyone who's spent a night in a medical center...\",\n",
       " \"NEW YORK - U.S. stocks are seen in a cautious mood at the open Tuesday as investors weigh up the merits of Monday's oil-inspired rally...\",\n",
       " 'The battle moves to the political arena as Taipei and Beijing wrap up their wargames',\n",
       " 'A controversial procedure for injured spines has turned a Beijing hospital into a medical mecca\\\\',\n",
       " \"Many victims of Florida's worst hurricane for years are still homeless, with no electricity or telephone services.\",\n",
       " 'AFP - A tiny French village in Brittany -- the self proclaimed capital of twin-dom -- has played host to an international gathering of thousands of identical twins, triplets and quadruplets.',\n",
       " 'Reuters - Developing nations launched their annual diplomatic summit on Tuesday with a plea to the United States and other powerful countries to consult them on tackling terror and resolving the Middle East conflict',\n",
       " 'AFP - A lieutenant of powerful northern warlord General Abdul Rashid Dostam pledged to back incumbent Hamid Karzai in the upcoming presidential vote and said 149 other military commanders would join him.',\n",
       " \" BAGHDAD (Reuters) - A delegation of Iraqi political and  religious leaders flew out of Baghdad on U.S. military  helicopters Tuesday, heading for Najaf in a bid to end a bloody  Shi'ite uprising, delegates said.\",\n",
       " 'AP - Cubans hit hard by hurricane Charley will receive  #36;50,000 in U.S. assistance, the State Department said Friday.',\n",
       " \" BERLIN (Reuters) - The German government said on Tuesday  U.S. plans to pull out 30,000 troops were a sign of Europe's  divisions being healed, but communities hit by the decision  warned they were headed for economic disaster.\",\n",
       " 'ATHENS, Greece - Top American sprinters Jason Lezak and Ian Crocker missed the cut in the Olympic 100-meter freestyle preliminaries Tuesday, a stunning blow for a country that had always done well in the event.    Pieter van den Hoogenband of the Netherlands and Australian Ian Thorpe advanced to the evening semifinal a day after dueling teenager Michael Phelps in the 200 freestyle, won by Thorpe...',\n",
       " 'PUNTA GORDA, Fla. - About 790,000 people remain without power in Florida in the aftermath of Hurricane Charley, and officials estimate it could take weeks to get electricity fully restored...',\n",
       " 'SPRINGFIELD, Ore. - While world-class athletes were grunting and groaning on the other side of the Atlantic Sunday, \"Boots\" went for the gold here in his own way...',\n",
       " ' KABUL (Reuters) - The United States has brokered a  cease-fire between a renegade Afghan militia leader and the  embattled governor of the western province of Herat,  Washington\\'s envoy to Kabul said Tuesday.  \"Our expectation is that the agreement that has been made will  be honored,\" said ambassador Zalmay Khalilzad, adding that the  cease-fire was due to take effect at 4 p.m.',\n",
       " 'Liverpool boss Rafael Benitez seals the signing of Antonio Nunez from Real Madrid.',\n",
       " 'AFP - Rescue workers combed a coastal village in north Cornwall for missing persons after a flash flood sent a wall of water tearing through the picturesque tourist spot the day before.',\n",
       " \"AP - Hoping to boost business ties with Singapore, Vietnam's prime minister opened a forum here Tuesday with promises of economic reform and continued growth.\",\n",
       " 'AFP - Australian resources firm BHP Billiton is expected to post sharply higher earnings in the year to June aided by rising commodities prices, high production levels and continued strong demand from China, analysts said.',\n",
       " \"AP - A Russian court on Tuesday was to consider the beleaguered Yukos oil company's appeal to suspend government efforts to collect  #36;3.4 billion in back taxes  #151; a massive bill that has put Russia's largest oil producer on the verge of ruin.\",\n",
       " \" NAJAF, Iraq (Reuters) - Iraqi political and religious  leaders trying to end a radical Shi'ite uprising flew into  Najaf Tuesday, where U.S. troops and militia fought pitched  battles near the country's holiest Islamic sites.\",\n",
       " \" KAMPALA, Uganda (Reuters) - Ugandan troops killed nine  Lord's Resistance Army (LRA) rebels after a devastating raid on  the group's headquarters in southern Sudan scattered its main  force, the army said Tuesday.\",\n",
       " \"AFP - Europe's youth has been singing in Romanian this summer thanks to a Moldovan boys band that has swept to the top of the charts across the continent.\",\n",
       " 'ATHENS, Greece - Top American sprinters Jason Lezak and Ian Crocker missed the cut in the Olympic 100-meter freestyle preliminaries Tuesday, a stunning blow for a country that had always done well in the event.    Pieter van den Hoogenband of the Netherlands and Australian Ian Thorpe advanced to the evening semifinal a day after dueling teenager Michael Phelps in the 200 freestyle, won by Thorpe...',\n",
       " 'WASHINGTON - Consumer prices, which have been buffeted this year by soaring energy costs, fell by 0.1 percent in July as gasoline costs posted their biggest decline in eight months, the government reported Tuesday.    The Labor Department said the decline in its closely watched Consumer Price Index was the first decrease since a 0.2 percent drop last November, a decline which also reflected a decline in energy costs...',\n",
       " \"Reuters - The United States has brokered a\\\\cease-fire between a renegade Afghan militia leader and the\\\\embattled governor of the western province of Herat,\\\\Washington's envoy to Kabul said Tuesday.\",\n",
       " 'California will become hotter and drier by the end of the century, threatening its valuable wine and dairy industries, US experts say.',\n",
       " 'Phish made its farewell in Vermont this past weekend in true Phish style: playing its own musical marathon, swarmed by adoring fans and isolated from the rest of the world.',\n",
       " \" NAJAF, Iraq (Reuters) - Iraqi political and religious  leaders trying to end a radical Shi'ite uprising flew into  Najaf Tuesday, where U.S. troops and militia fought pitched  battles near the country's holiest Islamic sites.\",\n",
       " \"Reuters - Environment activists piled thousands of\\\\dead fish at the foot of Berlin's biggest tourist attraction,\\\\the Brandenburg Gate, Tuesday in a demonstration against\\\\over-fishing and pollution in the North Sea.\",\n",
       " 'AP - A Belgian teenager fired off a mobile phone text message to her father that his live-in girlfriend was trying to kill her in a plea for help just before she died, authorities said.',\n",
       " 'AFP - Eight men arrested in an anti-terror swoop in London and other parts of England two weeks ago were charged with conspiracy to murder and other terrorist-related activities.',\n",
       " ' ISLAMABAD (Reuters) - The father of a computer engineer  detained in Pakistan last month for suspected links with al  Qaeda filed a petition Tuesday calling for his son to be  produced in court and urging authorities not to extradite him.',\n",
       " 'Police in the UK charge eight men with terror offences, including conspiracy to murder.',\n",
       " 'Olympics organisers order tighter security after a man leaps into the pool during a synchronised diving final.',\n",
       " 'A 42-year-old man is charged with killing a former miner who was found on his Nottinghamshire doorstep.',\n",
       " \"BAGHDAD, Iraq - Iraq's national conference sent a delegation bearing a peace proposal to Najaf on Tuesday, hoping to end the standoff with radical Shiite cleric Muqtada al-Sadr, which has marred the gathering meant to be a landmark step toward democracy.    As the National Conference in Baghdad put together the mission, a mortar round exploded several miles from the gathering's venue, killing seven people and wounding wounding 35, according to the Health Ministry...\",\n",
       " 'JERUSALEM - Israeli Prime Minister Ariel Sharon has approved bids for construction of 1,000 homes in Jewish West Bank settlements after freezing them earlier this month, amid growing friction with the United States over continued settlement expansion.    The planned construction violates the internationally backed \"road map\" plan, accepted by Israel, which calls for a construction freeze...',\n",
       " 'NEW YORK - Stocks rose for a second straight session Tuesday as a drop in consumer prices and a decline in crude oil futures Tuesday allowed investors to put aside worries about inflation, at least for the short term. The Dow Jones industrial average pushed past the 10,000 mark for the first time in nearly two weeks...',\n",
       " 'Israeli Prime Minister Ariel Sharon has approved bids for construction of 1,000 homes in Jewish West Bank settlements after freezing them earlier this month, amid growing friction with the United States over continued settlement expansion.',\n",
       " \"Ahmed al-Maktoum becomes the first Olympic medallist from the UAE with gold in the men's double shooting trap.\",\n",
       " 'Aug. 17 (Bloomberg) -- The Vatican is willing #39; #39; to help end fighting between militiamen loyal to Shiite Muslim cleric Moqtada al-Sadr and Iraqi and US forces in Iraq #39;s holy city of Najaf, according to a statement on the Holy See #39;s Web ...',\n",
       " 'Boscastle - Emergency services searched the wreckage of a picturesque English fishing village on Tuesday for 15 people unaccounted for after flash floods created a wall of water which tore through the valley. ',\n",
       " 'China has asked that North Korea attend working-level meetings ahead of the next round of six-party nuclear talks in Beijing. ',\n",
       " 'TOKYO, Japan -- The Japanese woman who plans to marry former world chess champion Bobby Fischer says their feelings are genuine. ',\n",
       " 'ISLAMABAD, Pakistan -- A senior Al Qaeda operative captured in Britain this month had traveled in March to a militant hideout near the Pakistan-Afghan border and met with other terror suspects, ...',\n",
       " 'Thousands of people have marched through cities across Germany in renewed protests against welfare cuts. ',\n",
       " 'Pleasant visions of fun in the sun in the Dominican Republic are being shattered by sad images of residents being smuggled away on wooden boats, only to perish at sea. ',\n",
       " 'India News  gt; New Delhi, Aug 17 : For the first time since Sri Lanka #39;s peace process got under way in February 2002, Tamil Tiger guerrillas have come under flak from the West amid growing signs of a revival of the armed conflict. ',\n",
       " 'At least 18 students have been killed in clashes between rival student gangs in south-eastern Nigeria. ',\n",
       " 'The bodies of about 160 Congolese Tutsis killed in Burundi during the weekend were buried on Monday, but the impact of the massacre is just beginning to be felt. A former rebel group now in the transitional government in the Democratic Republic of Congo ...',\n",
       " 'JERUSALEM (Reuters) - Prime Minister Ariel Sharon approved tenders to build 1,000 more Israeli settler homes in the occupied West Bank, plans that were shelved earlier to avoid discord with Washington, political sources said Tuesday. ',\n",
       " 'A former American soldier accused of kidnapping and torturing terror suspects in Afghanistan has told a Kabul court that the FBI is withholding hundreds of documents showing that he was working for the US Government. ',\n",
       " 'Gerhard Schrder is no stranger to sharing his life with members of the opposite sex. On Monday, it was revealed that there was a new young lady on the scene: his freshly adopted three-year old daughter, Viktoria. ',\n",
       " 'COLOMBO, Aug. 17 (Xinhua) -- The Sri Lankan navy on Tuesday detected a trawler of the Tamil Tiger rebels suspected of smuggling weapons in seas close to Mullaitivu in northeast of the country, the Defense Ministry said. ',\n",
       " 'HONG KONG : The Hong Kong government is interceding with the mainland authorities for the release of a legislator who was arrested and jailed in Guangdong. ',\n",
       " 'MARK COLVIN: The Opposition leader, Mark Latham, has challenged the Prime Minister to remove the gag that #39;s prevented senior government advisers, including those in the PM #39;s office, from talking about what happened in the  #39;children overboard #39; affair. ',\n",
       " 'Reuters - Britain charged eight men on Tuesday\\\\with conspiracy to murder and other terrorism charges, some\\\\relating to plans for U.S. buildings such as the New York Stock\\\\Exchange that were the subject of terrorism alerts this month.',\n",
       " 'AFP - Bollywood mega star Amitabh Bachchan met with a group of Pakistani students as part of a wider initiative to deepen cultural ties between India and Pakistan.',\n",
       " ' LONDON (Reuters) - Britain charged eight men on Tuesday  with conspiracy to murder and other terrorism charges, some  relating to plans for U.S. buildings such as the New York Stock  Exchange that were the subject of terrorism alerts this month.',\n",
       " ' JERUSALEM (Reuters) - Prime Minister Ariel Sharon approved  tenders to build 1,000 more Israeli settler homes in the  occupied West Bank, plans that were shelved earlier to avoid  discord with Washington, political sources said Tuesday.',\n",
       " \" BERLIN (Reuters) - Germany said Tuesday U.S. plans to pull  out 30,000 troops were a sign Europe's divisions had healed,  but communities hit by the decision warned they were headed for  economic disaster.\",\n",
       " \"Kashmir veteran Rajyavardhan Rathore wins India's first ever individual silver medal at the Olympic Games.\",\n",
       " \"JERUSALEM - The Israeli government issued bids Tuesday for 1,000 new homes in Jewish West Bank settlements, insisting the construction has Washington's tacit approval even though it violates a U.S.-backed peace plan.    U.S...\",\n",
       " 'ATHENS, Greece - Allen Iverson broke his right thumb but plans to play anyway Tuesday night for the U.S. Olympic basketball team, which is coming off an embarrassing loss to Puerto Rico in its opener...',\n",
       " \"BAGHDAD, Iraq - A pared-down delegation of Iraqis arrived in Najaf by helicopter Tuesday to present radical Shiite cleric Muqtada al-Sadr with a peace proposal aimed at ending the violent insurgency wracking the holy city.    Despite the delegation's presence there, fighting intensified in Najaf, with at least one U.S...\",\n",
       " 'NEW YORK - Stocks rose for a second straight session Tuesday as a drop in consumer prices Tuesday allowed investors to put aside worries about inflation, at least for the short term.    With gasoline prices falling to eight-month lows, the Consumer Price Index registered a small drop in July, giving consumers a respite from soaring energy prices...',\n",
       " 'JERUSALEM (Reuters) - Prime Minister Ariel Sharon has approved tenders to build 1,000 more Israeli settler homes in the occupied West Bank, plans that had been shelved earlier to avoid discord with Washington, political sources say. ',\n",
       " 'A FORMER senior Defence Department bureaucrat last night backed her former colleague Michael Scrafton #39;s version of a phone call with John Howard over the children overboard affair. ',\n",
       " 'BERLIN (Reuters) - German Chancellor Gerhard Schroeder and his wife, Doris, have adopted a 3-year-old Russian girl, German newspapers have reported. ',\n",
       " 'AFP - The airline Swiss said it had managed to cut its first-half net loss by about 90 percent but warned that spiralling fuel costs were hampering a turnaround despite increasing passenger travel.',\n",
       " 'The apprehension of Muhammad Naeem Noor Khan was wrapped up with almost no notice, but it would have enormous global repercussions.',\n",
       " 'John Kerry has held 10 \"front porch visit\" events  an actual front porch is optional  where perhaps 100 people ask questions in a low-key campaigning style.',\n",
       " 'Reuters - Strippers and pole dancers should be banned from performing in stretch limousines, according to a\\\\British report.',\n",
       " 'Prague, 17 August 2004 (RFE/RL) -- Fresh fighting and further casualties were reported overnight in Georgia #39;s separatist republic of South Ossetia. The violence erupted hours after Georgia and South Ossetia reached an agreement under which all armed units ...',\n",
       " \"Reuters - Illinois residents will soon gain\\\\access to lower-cost prescription drugs from Canada, the United\\\\Kingdom and Ireland, sidestepping U.S. regulators' objections\\\\to imported drugs, Gov. Rod Blagojevich said on Tuesday.\",\n",
       " 'Venezuelan leader Hugo Chavez rounds on opponents for alleging fraud in a referendum he seems to have won.',\n",
       " 'NAJAF, Iraq (Reuters) - An Iraqi peace delegation has urged a radical Shi #39;ite cleric to call off his uprising in the city of Najaf, where US troops have been pounding militia positions near the country #39;s holiest Islamic sites. ',\n",
       " 'FOREIGN Minister Alexander Downer will today begin talks with North Korean officials to try to convince the communist state to drop its nuclear weapons program. ',\n",
       " ' PORT LOUIS, Aug. 17 (Xinhuanet) -- Southern African countries Tuesday pledged better trade and investment relations with China as well as India in the final communique released at the end of their two-day summit. ',\n",
       " 'Reuters - India erupted with joy as shooter Rajyavardhan Rathore clinched their first medal at the Athens Olympics on Tuesday and their first ever individual silver.',\n",
       " \"AP - Democratic Party officials picked U.S. Rep. William Lipinski's son Tuesday to replace his father on the November ballot, a decision engineered by Lipinski after he announced his retirement and withdrew from the race four days earlier.\",\n",
       " \"BAGHDAD, Iraq - A U.S. warplane bombed near Najaf's vast cemetery as fighting with Shiite militants intensified Tuesday...\",\n",
       " 'ATHENS, Greece - Michael Phelps, denied in his bid to win seven gold medals, picked up his second victory of the Athens Games by winning the 200-meter butterfly Tuesday night in Olympic-record time. Phelps fell just short of his own world record, holding off Takashi Yamamoto to win in 1 minute, 54.01 seconds...',\n",
       " 'ATHENS, Greece - Top-seeded Roger Federer crashed out in the second round of the Olympic tournament Tuesday night, losing 4-6, 7-5, 7-5 to Tomas Berdych of the Czech Republic. Federer, who won Wimbledon the past two years and replaced Andy Roddick atop the rankings in February, was undone by poor serving and a string of unforced errors...',\n",
       " 'KABUL - A bounty hunter accused of running a private torture chamber has gone on trial in Kabul claiming he could not get a fair hearing because the FBI had confiscated vital evidence and locked it in the American Embassy. ',\n",
       " 'Thousands of demonstrators brought protests against benefit cuts to the German capital yesterday, but the Government insisted it would make no further change to measures it sees as key to a more competitive economy. ',\n",
       " \"AP - Democratic Party officials picked U.S. Rep. William Lipinski's son Tuesday to replace his father on the November ballot, a decision engineered by Lipinski after he announced his retirement and withdrew from the race four days earlier.\",\n",
       " 'The Housing and Construction Ministry on Tuesday published tenders for about 1,001 new housing units in West Bank settlements. ',\n",
       " 'A 10-year-old Palestinian boy has been shot dead by Israeli occupation soldiers during an incursion into the centre of the West Bank city of Nablus, according to Palestinian medical sources. ',\n",
       " 'The secretary of defense signaled he favors a slower, more cautious approach to revamping U.S. intelligence than the Sept. 11 commission does.',\n",
       " 'BAGHDAD, Iraq  One US soldier was killed and several others were wounded in clashes with Iraqi Shi #39;ite militiamen in a Baghdad suburb Monday, the US military said Tuesday. ',\n",
       " 'AFP - The US military denied reports that the coalition in Afghanistan had launched air strikes to quell fighting in the west of the country.',\n",
       " 'AFP - The old man lay unattended in the shack which served as a morgue for the General Hospital in Mount Hagen, a busy town in the restive highlands of central Papua New Guinea.',\n",
       " 'AFP - Democratic presidential contender John Kerry has a soft spot for South African actress Charlize Theron but is adamant that second wife Teresa Heinz-Kerry changed his life, he has told GQ magazine.',\n",
       " 'ATHENS, Greece - His quest to surpass Mark Spitz out of the way, Michael Phelps got back to winning gold. The 19-year-old from Baltimore claimed his second gold medal of the Athens Games in the 200-meter butterfly Tuesday night, though he was a bit disappointed at failing to break his own world record...',\n",
       " 'Eight men will appear in court tomorrow accused of plotting terrorist outrages in Britain and the United States. ',\n",
       " 'GENEVA, Aug. 17 (Xinhuanet) -- The government of Burundi has authorized the United Nations to set up a camp for newly-arrived Congolese refugees following the horrific attack on the Gatumba refugee camp in Burundi last Friday, UN officials said here ...',\n",
       " 'BERLIN: German Chancellor Gerhard Schroeder and his wife have adopted a daughter, an official with Schroeder #39;s party said Tuesday. Schroeder and his wife, Doris Schroeder-Koepf, picked up the 3-year-old Russian girl named Victoria several weeks ago from a ...',\n",
       " 'Television footage aired over the weekend showed a group of Rwandan soldiers dancing and clapping their hands. With AK-47 assault rifles firmly strapped across their shoulders, the 150 troops sported green berets adorned with African Union badges as they ...',\n",
       " 'BRUSSELS One of 15 cardinals with Pope John Paul II during a weekend visit to a French shrine was quoted in Belgian news media on Monday as saying the ailing pontiff may have been making his farewells. ',\n",
       " \"AP - With a bandanna on his head and a grin on his cheeks, Italy's flamboyant Premier Silvio Berlusconi has been playing vacation host to Britain's Tony Blair in Sardinia, an unlikely holiday coupling that highlights an Italian-British alliance bolstered by the Iraq war.\",\n",
       " 'GENEVA, Aug. 17 (Xinhuanet) -- The United Nations human rights chief expressed her deep concern over the massacre in the Gatumba refugee camp in Burundi last Friday, a UN official said here Tuesday. ',\n",
       " 'PRIME Minister John Howard said he would not be swayed by more public servants coming forward in relation to the children overboard scandal. ',\n",
       " 'BERLIN, Germany (AP) -- Germany #39;s defense minister expressed regret Tuesday about US plans to restructure its forces abroad -- changes expected to hit Germany the hardest with the pullout of two heavy divisions. Japan and Australia embraced the changes. ',\n",
       " \"AP - Nine months of chaos and casualties in Iraq since Saddam Hussein's capture have taken a heavy toll on American opinion of President Bush's decision to go to war. Last December, when Saddam was caught, public support for Bush was 2-to-1 in favor. Now the public is evenly divided on whether the war was the right thing to do or whether it was a mistake.\",\n",
       " 'US Defence Secretary Donald Rumsfeld urges caution on US intelligence reform, saying it could create new barriers.',\n",
       " 'With a bandanna on his head and a grin on his cheeks, Italy #39;s flamboyant Premier Silvio Berlusconi has been playing vacation host to Britain #39;s Tony Blair in Sardinia, an unlikely holiday coupling that highlights an Italian-British alliance ...',\n",
       " \"AFP - India is projected to outpace China and become the world's most populous country by 2050, growing by 50 percent in the next 46 years to reach more than 1.6 billion people, a US research institute said.\",\n",
       " 'Former Kenya captain Maurice Odumbe receives a five-year ban for receiving money to fix a match.',\n",
       " 'WASHINGTON - Consumer prices fell by 0.1 percent in July as gasoline prices dropped while output at factories and housing construction posted healthy rebounds, offering hope the economy has escaped this summer\\'s \"soft patch.\"   The Labor Department said Tuesday that the decline in its closely watched Consumer Price Index was the first decrease since a 0.2 percent drop last November. The CPI had been up 0.3 percent in June and an even sharper 0.6 percent in May, reflecting big jumps in energy costs...',\n",
       " \"NEW YORK - Another jump in oil prices pre-empted a rally on Wall Street Tuesday, though stocks managed to post modest gains on the strength of the latest consumer price report, which put many investors' inflation fears to rest for the near term.    Stocks started the session strong after the government's Consumer Price Index registered a small drop in July, giving consumers a respite from soaring energy prices...\",\n",
       " ' LONDON, Aug. 17 (Xinhuanet) -- British police on Tuesday charged eight terrorism suspects with conspiracy to murder. ',\n",
       " 'AFP - American descendants of African slaves should be exempted from US federal taxes for a generation or two to compensate them for the state-sanctioned exploitation of their ancestors, an aspiring US Senate hopeful declared.',\n",
       " ' LONDON (Reuters) - Britain charged eight terrorism suspects  Tuesday and said one had plans which could be used in terror  attacks on U.S. financial targets in New York, New Jersey and  Washington.',\n",
       " 'Australia #39;s foreign minister is in North Korea, urging the Stalinist state to renounce nuclear weapons. ',\n",
       " \"AP - The United States withheld judgment Tuesday on whether Israel's plans to build 1,000 new homes in Jewish settlements in the West Bank violate the U.S-led Middle East peace plan.\",\n",
       " ' JERUSALEM (Reuters) - Prime Minister Ariel Sharon, facing a  party mutiny over his plan to quit the Gaza Strip, has approved  1,000 more Israeli settler homes in the West Bank in a move  that drew a cautious response on Tuesday from Washington.',\n",
       " \" NAJAF, Iraq (Reuters) - Iraq's radical cleric Moqtada  al-Sadr refused on Tuesday to meet a delegation of Iraqi  political and religious leaders seeking to end a rebellion in  the holy city of Najaf and other parts of the country.\",\n",
       " 'JERUSALEM (Reuters) - Prime Minister Ariel Sharon, facing a party mutiny over his plan to quit the Gaza Strip, has approved 1,000 more Israeli settler homes in the West Bank in a move that drew a cautious response on Tuesday from ...',\n",
       " 'Canadian Press - TORONTO (CP) - Field trials of genetically modified wheat are still being conducted in Canada by multinational biotech giant Monsanto despite a pledge earlier this year that the testing would be abandoned, critics said Tuesday.',\n",
       " ' JERUSALEM (Reuters) - Prime Minister Ariel Sharon, facing a  party mutiny over his plan to quit the Gaza Strip, has approved  1,000 more Israeli settler homes in the West Bank in a move  that drew a cautious response Tuesday from Washington.',\n",
       " \"THESSALONIKI, Greece - The U.S. women's soccer team needed only a tie Tuesday and that's all it got - settling for a draw against a team it had always beaten...\",\n",
       " \"CHICAGO - Ignoring a federal ban on prescription drug imports, Illinois' governor announced Tuesday that the state would have an online clearinghouse running within a month to help residents purchase drugs from Canada, Ireland and the United Kingdom.    The state won't import the drugs itself, but plans to contract with a Canadian company to connect state residents with foreign pharmacies that have been approved by state health inspectors...\",\n",
       " 'LONDON - British police charged eight terrorist suspects Tuesday of conspiring to commit murder and use radioactive materials, toxic gases, chemicals or explosives to cause \"fear or injury\" in a case involving an alleged top al-Qaida operative at the center of a U.S. terror alert this month...',\n",
       " \" NAJAF, Iraq (Reuters) - Iraq's radical cleric Moqtada  al-Sadr refused on Tuesday to meet a delegation of Iraqi  political and religious leaders who want him to call off his  uprising in the holy city of Najaf and other areas.\",\n",
       " 'Southern African leaders have agreed to a set of rules aimed at enhancing the transparency of elections and democratic rule in the region. ',\n",
       " 'WASHINGTON: Abu Musa al-Hindi, one of the principle terror suspects charged with plotting to attack US financial institutions, has been identified as India-born Dhiren Barot. British police on Tuesday charged Barot, 32, of gathering surveillance plans of ...',\n",
       " 'LONDON  British police said today they believed no one had died in flash flooding that struck seaside communities in southwest England, but rescue operations were continuing. ',\n",
       " \"One Najaf family's shifting view of the fierce fighting that surrounds them.\",\n",
       " \"The Honduran government's crackdown on street gangs has been swift, severe, and apparently successful.\",\n",
       " 'Success at the Games could boost the popularity of a sport unfamiliar to Greeks.',\n",
       " 'Saudi visitors to Malaysia were up 53 percent in 2004.',\n",
       " \"Part hat, part mask, part visor, it's a new piece of bicycle headgear.\",\n",
       " 'Nepalese forces are on alert ahead a deadline set by rebels, who have threatened to blockade the capital.',\n",
       " 'AP - An explosion in a house in Gaza City early Wednesday killed at least two people, Palestinian witnesses said. It was not immediately known what caused the blast.',\n",
       " ' GAZA (Reuters) - An explosion tore through the home of a  senior Hamas militant in Gaza on Wednesday, killing at least  four people and wounding him and about a dozen other  Palestinians, medics said.',\n",
       " \" ABUJA, Nigeria (Reuters) - Sudan plans to double the number  of police in Darfur to 20,000, the country's foreign minister  said on Tuesday in the face of fresh reports that marauding  Arab militiamen were still preying on stricken refugees.\",\n",
       " \"WASHINGTON - Japan, Germany and many other large industrialized countries face long-term population slowdowns or declines as more young adults have fewer children or delay child-rearing, demographers say.    While the world's population is expected to increase by almost 50 percent by 2050, Japan could lose 20 percent of its population over the next half-century, according to data released Tuesday by the private Population Reference Bureau...\",\n",
       " 'ATHENS, Greece - Now this was a duel in the pool. With Michael Phelps leading off Tuesday night, the United States bested its rival from Down Under in the most thrilling race of the Athens Games...',\n",
       " 'A former federal official has backed Mike Scrafton #39;s story that he told John Howard three days before the 2001 election that the children overboard story was wrong. ',\n",
       " 'AFP - Britain were neck and neck with Olympic minnows Slovakia and Zimbabwe and desperately hoping for an elusive gold medal later in the week.',\n",
       " 'NAJAF, Iraq (Reuters) - Radical cleric Moqtada al-Sadr on Tuesday refused to meet an Iraqi peace delegation because of  quot;American aggression quot; as US troops pounded militia positions in Najaf near the country #39;s holiest Islamic sites. ',\n",
       " 'JERUSALEM (AP) - The Israeli government on Tuesday issued bids for 1,000 new homes in Jewish West Bank settlements, in a violation of an internationally backed peace plan, but insisted the construction has the tacit approval of one of the backers, the US ...',\n",
       " 'GAZA (Reuters) - An explosion tore through the home of a senior Hamas militant in Gaza on Wednesday, killing at least four people and wounding him and about a dozen other Palestinians, medics said. ',\n",
       " 'AP - Venezuelan election officials agreed Tuesday to conduct a partial audit of the results of a recall referendum won by President Hugo Chavez, amid opposition charges of election fraud, officials told The Associated Press.',\n",
       " ' GAZA (Reuters) - An explosion tore through the home of a  senior Hamas leader in Gaza on Wednesday, killing at least four  people and wounding him and about a dozen other Palestinians,  medics said.',\n",
       " \"HOUSTON - Seven Texas children were discovered abandoned at a Nigerian orphanage, suffering from disease and malnutrition, and have been brought back to the United States.    Child Protective Services, which received emergency custody of the children Monday, is investigating accusations that the children's adoptive mother abandoned them in Nigeria in October and later went to work in Iraq as a private contractor...\",\n",
       " \"ATHENS, Greece - Lamar Odom made a key defensive play on Greece's Dimitris Pipanikoulaou, preventing him from getting a clean layup attempt that could have cut the United States' lead to two points, and the Americans won 77-71 Tuesday night in the second round of the Olympic men's basketball tournament.    In a much closer game than expected, the Americans bounced back from their embarrassing loss to Puerto Rico in their opener and avoided dropping to 0-2, which would have matched their loss total from the previous 68 years...\",\n",
       " 'ATHENS, Greece - Now this was a duel in the pool. With Michael Phelps leading off Tuesday night, the United States bested its top rival in the most thrilling race of the Athens Games...',\n",
       " 'BEIJING - China said yesterday that its close ally North Korea will not be pulling out of six-party talks, despite Pyongyang hinting that Washington #39;s hardline policy made the negotiations unworkable. ',\n",
       " 'NEW YORK  UN Secretary General Kofi Annan on Tuesday raised doubts about Myanmar #39;s resolve to implement a road map for democracy and urged the nation #39;s military leaders to immediately release pro-democracy leader Aung San Suu Kyi. ',\n",
       " \"AP - Accompanied by a warning that its missiles have the range, Iran on Tuesday said it would destroy Israel's Dimona nuclear reactor if the Jewish state were to attack Iran's nuclear facilities.\",\n",
       " 'AFP - Thousands of grieving people and top politicians attended a grim funeral service held to bury some 160 Congolese Tutsis slaughtered in a refugee camp in Burundi.',\n",
       " 'KABUL: Afghan President Hamid Karzai is likely to visit Pakistan from August 23 (Monday), sources said on Tuesday. ',\n",
       " 'ONG KONG, Aug. 17  An already heated election campaign for the legislature here took an unexpected turn today with an announcement by the Democratic Party that one of its candidates had been arrested in mainland China on charges of ...',\n",
       " ' GAZA (Reuters) - A senior Hamas leader survived an Israeli  assassination attempt on Wednesday but at least five other  Palestinians were killed in the night-time explosion that tore  through his Gaza home.',\n",
       " 'Georgian President Mikhail Saakashvili appealed to world leaders Tuesday to convene an international conference on the conflict in breakaway South Ossetia, where daily exchanges of gunfire threaten to spark a war. ',\n",
       " 'Aug. 18 (Bloomberg) -- The leader of Australia #39;s main opposition Labor Party, Mark Latham, has been hospitalized with pancreatitis, according to a statement released by his party. ',\n",
       " 'BOSCASTLE, England Rescue workers searched this coastal village in north Cornwall on Tuesday for missing persons after a flash flood sent a wall of water tearing through the picturesque tourist spot the day before. ',\n",
       " 'AP - President Bush said Tuesday the U.S. government will continue to assist Colombia in interdicting aircraft suspected of drug trafficking.',\n",
       " 'AP - Discounted hotels and Broadway show tickets for convention protesters?',\n",
       " 'AP - As of Tuesday, Aug. 17, 943 U.S. service members have died since the beginning of military operations in Iraq in March 2003, according to the Defense Department. Of those, 703 died as a result of hostile action and 240 died of non-hostile causes.',\n",
       " 'Reuters - Former hockey powerhouses Pakistan and India notched up their first wins of the Athens Olympics on Tuesday, charming crowds with their trademark running games.',\n",
       " 'KHARTOUM, Aug 18, 2004 (Financial Times) -- The number of military observers deployed in the Darfur region of Sudan is not sufficient to monitor whether the Sudanese government fulfils its pledges to the United Nations, a senior UN ...',\n",
       " 'Germany #39;s Chancellor Gerhard Schroder and his wife Doris have adopted a three-year-old Russian girl who has been living with them for over a fortnight, Germany #39;s mass circulation Bild newspaper revealed yesterday. ',\n",
       " 'PRIME Minister John Howard was a trustworthy individual and most Australians knew it, Deputy Prime Minister John Anderson said. ',\n",
       " \"AP - Two days after a grueling papal pilgrimage which left some wondering if Pope John Paul II could still travel, the Vatican on Tuesday announced details of the ailing pontiff's next trip.\",\n",
       " 'WASHINGTON, Aug. 17 (Xinhuanet) -- US Secretary of State Colin Powell has called Russian Foreign Minister Sergei Lavrov over the conflict in Georgia #39;s breakaway region of South Ossetia, State Department deputy spokesman Adam Ereli said on Tuesday. ',\n",
       " 'KHARTOUM, Aug. 17 (Xinhuanet) -- The Sudanese government said on Tuesday that it has deployed another 2,000 policemen in Darfur to secure the situation in the area under an agreement with the United Nations. ',\n",
       " 'LONDON - British police charged eight terrorist suspects Tuesday with conspiring to commit murder and use radioactive materials, toxic gases, chemicals or explosives to cause \"fear or injury\" in a case involving an alleged top al-Qaida operative at the center of a U.S. terror alert this month...',\n",
       " 'Aug. 18 (Bloomberg) -- Israeli soldiers were behind an explosion at a house used by Hamas gunmen in Gaza City that killed five Palestinians, the Israeli daily newspaper Haaretz said, citing an unidentified Israel Defense Forces official. ',\n",
       " \"AP - Tokyo stocks were mixed early Wednesday as concerns about high oil prices vied for buying prompted by Wall Street's strength. The dollar was trading lower against the Japanese yen.\",\n",
       " 'An eight-member team of Iraqi political and religious leaders flew to Najaf to talk with Sadr on Tuesday.(Xinhua/AFP) ...',\n",
       " 'LONDON: Britain has charged eight terrorism suspects and said one had plans which could be used in terror attacks on US financial targets in New York, New Jersey and Washington. ',\n",
       " 'BEIJING, Aug 18 (Reuters) - China said on Wednesday it hoped all six parties taking part in talks on the North Korea nuclear crisis would keep calm, remain flexible and continue negotiations despite inevitable difficulties. ',\n",
       " 'A British soldier was believed to have been killed and another seriously injured last night after clashes with Shia fighters in the southern Iraqi city of Basra. ',\n",
       " 'Dominican New Yorkers had a message yesterday for the newly elected president of their homeland: Let there be light. ',\n",
       " 'BEIJING, Aug 18 (Reuters) - China said on Wednesday it hoped all six parties taking part in talks on the North Korea nuclear crisis keep calm, remain flexible and continue negotiations despite inevitable difficulties. ',\n",
       " 'A SENATE inquiry was needed into claims that the Prime Minister misled the Australian public over the children overboard affair, Labor Senate Leader John Faulkner said. ',\n",
       " 'Since President Bush signed No Child Left Behind, the law has imposed undeniable changes on public education, but it has also faced a backlash.',\n",
       " 'The delegation hoped to convince Moktada al- Sadr to disarm his militia, to leave the shrine and to join the political process.',\n",
       " \"Mariel Zagunis crushed Tan Xue of China, 15-9, in the final of the women's saber Tuesday, earning the first American gold in a recognized fencing event.\",\n",
       " 'London, Aug. 17 (Reuters): Britain charged eight men today with conspiracy to murder and other terrorism charges, some of them relating to plans of US buildings that could have been used to organise attacks. ',\n",
       " 'An explosion tore through the home of a senior Hamas leader in Gaza yesterday, killing at least five people and wounding him and about a dozen other Palestinians, medics said. ',\n",
       " 'WASHINGTON, Aug 17 (AFP) - The United States is eyeing tensions between Georgia and separatists in Abkhazia and South Ossetia while hoping US influence with Georgia #39;s new president can halt broader armed conflict in the Caucasus. ',\n",
       " 'Interior Ministry officials had earlier said the blast on Tuesday was caused by a car bomb. At least five cars were ...',\n",
       " 'Reuters - World number one Roger Federer\\'s top target for the year -- an Olympic tennis gold medal -- was taken away from him in a \"terrible day\" on Tuesday.',\n",
       " 'BAGHDAD, Iraq - Iraqi delegates delivered a peace proposal to aides of Muqtada al-Sadr in Najaf on Tuesday, but the militant cleric refused to meet with them as explosions, gunfire and a U.S. bombing run persisted in the holy city...',\n",
       " \"BOSTON - Orlando Cabrera hit a run-scoring double off the Green Monster in the ninth inning on reliever Justin Speier's second pitch of the game, giving the Boston Red Sox a 5-4 win over the Toronto Blue Jays on Tuesday night.    Pinch-hitter Dave Roberts drew a leadoff walk in the ninth and was forced out at second base on Johnny Damon's grounder off Kevin Frederick (0-2)...\",\n",
       " 'LONDON: Rescue workers combed an English coastal village in north Cornwall yesterday for people missing after a flash flood caused by torrential rain hit Britain #39;s southwestern Atlantic coast. ',\n",
       " 'ISLAMABAD, Pakistan : Aug 18 (PID) - President General Pervez Musharraf Tuesday urged the Parliamentarians not to compromise governance for personal gains and work selflessly to serve the people and earn a rightful place for the country in the comity of ...',\n",
       " 'AP - The U.S. ambassador helped broker a cease-fire Tuesday to halt the latest bloody infighting in Afghanistan, persuading a warlord to pull away from a provincial capital as U.S. warplanes circled overhead.',\n",
       " \"AP - U.S. Rep. Barbara Cubin fended off four Republican challengers in Tuesday's primary election, securing a shot at a sixth term in this fall's general election.\",\n",
       " 'AJAF, Iraq, Aug. 16 - Just five days after they arrived here to take over from Army units that had encircled Najaf since an earlier confrontation in the spring, new Marine commanders decided to smash guerrillas loyal to the rebel Shiite ...',\n",
       " 'A BRITISH soldier was killed and at least one other injured during a fierce firefight with militia fighters in the southern Iraqi city of Basra yesterday. ',\n",
       " 'ISLAMABAD, Pakistan : Aug 18 (PID) - The outgoing Ambassador of Qatar, Mr. Abdullah Falah A. Al-Dosari paid a courtesy called on the President General Pervez Musharraf here on Tuesday. ',\n",
       " 'President Hugo Chavez is riding high after his overwhelming victory in a recall vote this week, but analysts say his triumph may have limited impact on the deep economic and political problems threatening this major oil-producing country.',\n",
       " 'BEIJING (Reuters) - China battled on Wednesday to keep alive six-way talks on dismantling North Korea #39;s nuclear programs, saying it hoped all parties would stay calm and flexible and resume negotiations despite inevitable problems. ',\n",
       " 'Prime Minister John Howard said a former public servant had not backed the claims by former adviser Mike Scrafton about the children overboard affair. ',\n",
       " 'Canadian Press - SHANGHAI, China (AP) - China has ordered severe punishment for phone sex operators as part of a sweeping crackdown on electronic pornography, Xinhua News Agency reported Wednesday.',\n",
       " \"AP - Colombia's government on Tuesday shrugged off warnings from Marxist rebels that a massive offensive is endangering the lives of dozens of hostages, including three Americans.\",\n",
       " \"AP - China appealed to North Korea on Tuesday to join working meetings before a new round of six-party talks on dismantling its nuclear program, despite the North's declaration that it saw no point in attending.\",\n",
       " 'A court acquits ex-paramilitary leader Jodel Chamblain of murder in a trial criticised by human rights activists.',\n",
       " 'A Jordanian who disappeared in Iraq two weeks ago and was believed to have been kidnapped has been freed and is in the custody of Iraqi police, Foreign Ministry spokesman Ali al-Ayed told reporters yesterday. ',\n",
       " 'Reuters - Beijing has hinted that if the United\\\\States releases any Guantanamo Bay detainees from its restive\\\\Muslim far west Xinjiang region, they should be handed over to\\\\Beijing and not sent to a third country.',\n",
       " ' BEIJING (Reuters) - Beijing has hinted that if the United  States releases any Guantanamo Bay detainees from its restive  Muslim far west Xinjiang region, they should be handed over to  Beijing and not sent to a third country.',\n",
       " 'NAJAF, Aug 17: An Iraqi peace delegation urged Shia leader Moqtada Sadr on Tuesday to call off his uprising in Najaf, and on the battlefront US troops pounded militia positions near the country #39;s holiest sites. ',\n",
       " 'BEIJING (AP)  China appealed to North Korea on Tuesday to join working meetings before a new round of six-party talks on dismantling its nuclear program, despite the North #39;s declaration that it saw no point in attending. ',\n",
       " \" KATHMANDU (Reuters) - Maoist rebels, fighting to topple  Nepal's constitutional monarchy, cut off all land routes to the  Himalayan kingdom's capital on Wednesday, disrupting food and  supplies to the city of 1.5 million people.\",\n",
       " \"Michael Jackson's lawyers fail in their attempt to have evidence seized in a raid on his ranch thrown out.\",\n",
       " 'At first glance it was just another prosaic headline.  quot; #39;Militants #39; prevent resumption of work in the seaports, quot; Haaretz said. ',\n",
       " 'British police have charged eight terrorist suspects with conspiring to commit murder and use radioactive materials, toxic gases, chemicals or explosives to cause  quot;fear or injury quot; in a case involving an alleged top al-Qaeda operative at the centre of a US ...',\n",
       " 'Israel #39;s air force launched an attack on a Gaza City building early Wednesday, killing at least five people, according to witnesses and officials on both sides. Seven people were also wounded, four critically. ',\n",
       " 'A British soldier has been killed and another injured after clashes with militia forces in the southern Iraqi city of Basra, said the British Army. ',\n",
       " 'United Nations, Aug 18 - The United Nations has told the ruling military Junta in Myanmar that its process for transition to democracy and national reconciliation will lack  quot;credibility quot; unless it engages the opposition political parties and releases ...',\n",
       " 'Eight men charged with conspiracy to murder and plotting to use toxic materials or explosives are due in court.',\n",
       " \"The Baghdad conference on Iraq's future goes into an unscheduled fourth day as a peace bid fails in  Najaf.\",\n",
       " 'The national conference on Iraq #39;s future is going into an unscheduled fourth day as delegates hammer out the shape of the first post-war parliament. ',\n",
       " 'OPPOSITION Leader Mark Latham is undergoing further tests at Sydney #39;s St Vincent #39;s Hospital after being diagnosed with pancreatitis. ',\n",
       " 'AFP - A generation ago, a battle was successfully waged on this rugged island to preserve what was left of its primeval forests, home to giant trees millennia old. Now tourism spawned by this natural heritage is threatening its survival.',\n",
       " 'UN Secretary-General Kofi Annan says Afghanistan needs help with security to ensure its presidential elections are successful.  ',\n",
       " 'WASHINGTON : The United States pulled its punch in Iraq as Defense Secretary Donald Rumsfeld announced US forces arrayed in Najaf against Shiite militants of firebrand cleric Moqtada Sadr were  quot;unlikely quot; to storm the town #39;s holy places to deal the militia ...',\n",
       " 'TBILISI (Reuters) - At least two Georgian soldiers were killed and five wounded in artillery fire with separatists in the breakaway region of South Ossetia, Georgian officials said on Wednesday. ',\n",
       " 'Bradley John Murdoch was ordered to stand trial over the alleged murder of British backpacker Peter Falconio beside a remote Northern Territory highway three years ago. ',\n",
       " \"AP - Washington's plans to beef up its military base in Uzbekistan as part of a troop realignment abroad could whip up tensions between the impoverished ex-Soviet republic's secular government and radical Islamic groups, analysts and opposition politicians say.\",\n",
       " 'Reuters - U.S. troops from Iraq are being\\\\trained by the Israeli army in urban and guerrilla warfare\\\\tactics at a military base in Israel, a local newspaper said on\\\\Wednesday.',\n",
       " 'Reuters - A renegade Afghan militia commander and a\\\\spokesman for the governor of the western province of Herat\\\\said on Wednesday their forces were honoring a cease-fire\\\\brokered a day earlier by the U.S. envoy to Afghanistan.',\n",
       " ' JERUSALEM (Reuters) - U.S. troops from Iraq are being  trained by the Israeli army in urban and guerrilla warfare  tactics at a military base in Israel, a local newspaper said on  Wednesday.',\n",
       " ' LONDON (Reuters) - Eight British terror suspects charged  with conspiracy to commit murder in a plot linked to security  alerts at financial targets in New York, New Jersey and  Washington make their first appearance in court on Wednesday.',\n",
       " \"AFP - Three Georgian soldiers have been killed and five wounded in clashes in Georgia's separatist region of South Ossetia, Rustavi 2 television reported, quoting an unnamed official with the Georgian interior ministry.\",\n",
       " 'AFP - Oil prices were slightly lower in Asian trading on easing concerns over supply disruptions but were still hovering near record highs, dealers said.',\n",
       " ' NAJAF, Iraq (Reuters) - Fears of heavier fighting in Najaf  grew on Wednesday after an Iraqi peace delegation failed to  defuse a confrontation between U.S. troops and militiamen holed  up in a revered shrine in the city.',\n",
       " 'How will South Africa accredit \"traditional healers\" as legally recognized physicians?',\n",
       " 'LONDON -- The British police yesterday charged eight men with conspiracy to murder and violations of the Terrorism Act after finding that two of them possessed surveillance information on the financial centers in Washington, New York ...',\n",
       " 'An Australian court has ordered lorry driver Bradley John Murdoch to stand trial over the murder of British backpacker Peter Falconio, who has been missing for three years. ',\n",
       " 'AFP - China has appealed to the United States not to send the \"wrong signal\" after Washington said a handful of detained Uighurs being held at the US military base in Guantanamo Bay would not be returned to China.',\n",
       " \" PARIS (Reuters) - Pope John Paul's visit to Lourdes last  weekend left the Roman Catholic shrine with a 1.2 million euro  (\\\\$1.47 million) deficit because pilgrims keen to get good seats  at his mass rushed past collection boxes.\",\n",
       " 'PORT-AU-PRINCE, Haiti -- A jury yesterday acquitted a leader of a paramilitary group accused of killing thousands, after a 14-hour murder trial that angered human rights groups and provoked criticism of the new US-backed government.',\n",
       " \"HAMBURG -- A Moroccan being retried on charges he aided the Sept. 11 plotters was part of lead hijacker Mohamed Atta's inner circle and knew of the group's arguments for turning to violence, a witness testified yesterday.\",\n",
       " 'CARACAS -- Fresh from victory and emboldened by a decisive mandate, Venezuelan President Hugo Chavez has the opportunity to extend an olive branch to a seething opposition and a suspicious US administration, but the rifts may have grown too deep to be mended.',\n",
       " 'MOSCOW -- Thousands of Russian children are adopted by foreigners every year -- but few go to such high-profile homes as the leader of Germany.',\n",
       " 'BUJUMBURA, Burundi -- Burundi and Rwanda threatened yesterday to send soldiers into neighboring Congo to hunt down Hutu extremists responsible for slaughtering more than 160 Congolese Tutsi refugees at a UN camp in Burundi -- deployments that could reignite a regional conflict in this part of Africa.',\n",
       " 'Reuters - Pakistan published pictures of six\\\\\"most-wanted terrorists\" on Wednesday and offered rewards for\\\\information leading to the arrest of two al Qaeda-linked\\\\militants wanted over assassination attempts on the president.',\n",
       " \"Legendary singer Shane MacGowan is to play a mini-residency at London's famous Ronnie Scott's jazz club.\",\n",
       " 'NAJAF, Iraq -- Radical Shi #39;ite Muslim cleric Moqtada al-Sadr refused yesterday to meet with a delegation of Iraqi political figures that had rushed here from Baghdad with a last-ditch offer for peace, ...',\n",
       " 'JERUSALEM Israel set off a mysterious explosion in an olive grove near the house of a senior Hamas activist Wednesday, killing five Palestinians and wounding seven. The strike came just before Prime Minister Ariel Sharon faced a key party test linked to ...',\n",
       " 'HERAT (Reuters) - A renegade Afghan militia commander and a spokesman for the governor of the western province of Herat said on Wednesday their forces were honoring a cease-fire brokered a day earlier by the US envoy to Afghanistan. ',\n",
       " 'GAZA CITYA senior Hamas leader survived an Israeli assassination attempt early today but at least five other Palestinians were killed in the explosion that tore through his Gaza home. ',\n",
       " 'President Bush #39;s plan to begin pulling most of the US troops out of Europe nearly fifteen years after the fall of the Berlin Wall has many Germans worried. ',\n",
       " 'Aug. 18 (Bloomberg) -- Road traffic to Nepal #39;s capital, Kathmandu, stopped as communist rebels began a blockade of the city to demand the release of insurgents, Reuters reported. ',\n",
       " 'A BRITISH soldier was killed and another seriously injured in clashes with Iraqi rebel gunmen in Basra yesterday. ',\n",
       " 'BEIJING - The arrest of a Hong Kong pro-democracy candidate in mainland China on charges of soliciting a prostitute touched off a media furor in the former British colony yesterday and fueled suspicion that Beijing was trying to influence ...',\n",
       " 'A mechanic was ordered today to stand trial for the alleged murder of British backpacker Peter Falconio in the Australian Outback three years ago. ',\n",
       " ' BEIJING (Reuters) - China has detained eight Roman Catholic  priests in northern Hebei province, continuing a crackdown on  those loyal to the Pope, a U.S.-based religious right group  said on Wednesday.',\n",
       " \"SAN JOSE, Calif. - Google Inc.'s plans to move ahead with its initial public stock offering ran into a roadblock when the Securities and Exchange Commission didn't approve the Internet search giant's regulatory paperwork as requested...\",\n",
       " 'LONDON - Two of the suspects allegedly had surveillance plans of the Prudential Building in Newark, N.J., mentioned in the Aug. 1 U.S...',\n",
       " 'Foreign Minister Alexander Downer has offered an up-beat assessment at the end of talks in Pyongyang about the North Korean nuclear crisis. ',\n",
       " 'CANBERRA : Australian opposition leader Mark Latham is in hospital with an inflamed pancreas, his office said. ',\n",
       " \"Italy police defuse a  bomb  near Silvio Berlusconi's holiday villa, hours after a visit by the UK's Tony Blair.\",\n",
       " 'Accused of conspiring to commit murder. Alleged Al-Qa #39;ida operative charged with possessing plans of US financial institutions ...',\n",
       " 'JERUSALEM : Israeli Prime Minister Ariel Sharon #39;s Likud party votes on Sharon #39;s intention to bring the opposition Labour party into government, the day after he gave the green light to the construction of 1,000 new homes in Jewish settlements in the West ...',\n",
       " 'Police have defused a bomb near the Sardinian holiday home of Silvio Berlusconi, the Italian prime minister, just hours after a visit by Tony Blair. ',\n",
       " 'The family of Joanne Lees today welcomed the announcement that a mechanic is to stand trial in Australia for the murder of British backpacker Peter Falconio. ',\n",
       " 'AP - In a rare admission, Yasser Arafat suggested Wednesday that the Palestinian leadership has made \"mistakes\" and promised to correct them.',\n",
       " 'Reuters - No more Japanese nuclear reactors need to\\\\be closed for inspections, electric power companies said on\\\\Wednesday after submitting reports ordered by the government\\\\following a reactor accident that killed four workers last\\\\week.',\n",
       " 'Security is stepped up in the border town of Bukavu after Rwanda and Burundi said they could send troops into Democratic Republic of Congo.',\n",
       " 'Reuters - Two continents. Three luxury mansions\\\\courtesy of friends. Endless sun and sea. And a front-row seat\\\\for the Olympics to boot.',\n",
       " \" KABUL (Reuters) - Afghanistan's President Hamid Karzai  promised Afghans greater security when they go to vote in the  country's first ever democratic election during an independence  day speech on Wednesday.\",\n",
       " ' LONDON (Reuters) - Two continents. Three luxury mansions  courtesy of friends. Endless sun and sea. And a front-row seat  for the Olympics to boot.',\n",
       " 'PUNTA GORDA, Fla. - Bill Nylander survived Hurricane Charley, but the storm still managed to hurt him days after it cut a swath of destruction through his hometown...',\n",
       " 'NAJAF, Iraq (Reuters) - Heavy fighting has broken out between US troops and Shi #39;ite militiamen in the Iraqi city of Najaf after a peace delegation failed to broker a truce to end nearly two weeks of clashes. ',\n",
       " 'AP - A large explosion hit central Baghad on Wednesday close to a convention center where a key national gathering of political, religious and civic leaders entered its final day.',\n",
       " \" NAGDHUNGA, Nepal (Reuters) - Maoist rebels, fighting to  topple Nepal's constitutional monarchy, cut off all land routes  to the Himalayan kingdom's capital on Wednesday, disrupting  food and supplies to the city of 1.5 million people.\",\n",
       " 'Reuters - Palestinian President\\\\Yasser Arafat, under pressure to enact anti-corruption reforms,\\\\said on Wednesday that some officials had misused their posts\\\\and urged efforts to correct \"all the mistakes.\"',\n",
       " 'AFP - Police discovered two bombs near the Sardinian villa of Italian Prime Minister Silvio Berlusconi, just hours after he met his British counterpart Tony Blair on the island.',\n",
       " 'AFP - Global mining giant BHP Billiton posted the biggest net profit in Australian corporate history as soaring commodities prices and strong demand from China pushed net profit up 83 percent to 3.51 billion US dollars.',\n",
       " ' RAMALLAH, West Bank (Reuters) - Palestinian President  Yasser Arafat, under pressure to enact anti-corruption reforms,  said on Wednesday that some officials had misused their posts  and urged efforts to correct \"all the mistakes.\"',\n",
       " ' BEIJING (Reuters) - China has detained eight Roman Catholic  priests in a crackdown on those loyal to the Pope and arrested  a \"Living Buddha\" for arousing superstition at the re-opening  of a temple, U.S. groups said on Wednesday.',\n",
       " ' NAJAF, Iraq (Reuters) - Heavy fighting broke out between  U.S. troops and Shi\\'ite militiamen in the Iraqi city of Najaf,  where Iraq\\'s interim defense minister said he expected a  \"decisive battle\" to take place on Wednesday.',\n",
       " 'Labor says there appears to have been pressure from the Prime Minister #39;s office on a public servant and it #39;s reaffirmed its determination to reopen the Senate inquiry into the matter. ',\n",
       " 'TOKYO, Aug. 18 (Xinhuanet) -- Four people were killed and two others missing as Typhoon Megi hit west Japan #39;s Kagawa and Ehime prefectures on Wednesday, the Japan Meteorological Agency said. ',\n",
       " 'Italian police today said they had defused a bomb near the Italian prime minister Silvio Berlusconi #39;s Sardinian holiday villa, only hours after a visit by the prime minister, Tony Blair. ',\n",
       " 'DAR ES SALAAM (Reuters) - Burundi will urge regional leaders at a summit on Wednesday to impose sanctions against the rebel Hutu Forces for National Liberation (FNL), blamed for the slaughter of more than 160 Congolese Tutsi refugees in ...',\n",
       " 'Australia #39;s foreign minister, Alexander Downer, has wrapped up talks in North Korea on the stand-off over the country #39;s efforts to develop nuclear weapons. ',\n",
       " 'SYDNEY : Australia #39;s first convicted terrorist, who confessed to conspiring with Al-Qaeda to blow up the Israeli embassy in Canberra, wants a deal in exchange for testifying against terror suspects in foreign courts. ',\n",
       " 'NAJAF, Iraq (Reuters) - Heavy fighting broke out between US troops and Shi #39;ite militiamen in the Iraqi city of Najaf, where Iraq #39;s interim defense minister said he expected a  quot;decisive battle quot; to take place on Wednesday. ',\n",
       " 'AFP - President Hamid Karzai has called on neighbouring countries to prevent militants crossing into Afghanistan through poorly monitored borders and cooperate in the \"fight against terror.\"',\n",
       " 'AP - Democratic presidential nominee John Kerry is maintaining a slight lead over President Bush in the battleground state of Pennsylvania with crucial support from veterans and military families, according to a poll released Wednesday.',\n",
       " 'Fighting resumes in the Iraqi city of Najaf between US troops and Shia militias after an abortive peace bid.',\n",
       " \"Changes in North Korea's economy have led to spiralling food prices many people cannot afford, the UN says.\",\n",
       " 'Clashes with separatists in the breakaway region of South Ossetia kill two Georgian soldiers.',\n",
       " \"BAGHDAD, Iraq - Iraq's National Conference refused Wednesday to send a second delegation to the holy city of Najaf to negotiate an end to fighting between U.S. troops and loyalists of radical cleric Muqtada al-Sadr, a day after he rebuffed their demand for a meeting...\",\n",
       " 'Texas authorities are investigating claims that a US mother left her seven adopted children in Nigeria and went to work in Iraq.',\n",
       " 'Pakistan offers rewards totalling more than \\\\$1m for the capture of six top al-Qaeda suspects.',\n",
       " 'Summer is traditionally associated with romance and spammers are trying to cash in by bombarding inboxes with porn.',\n",
       " 'POLICE defused a bomb near Premier Silvio Berlusconi #39;s villa on the island of Sardinia early today following a tip-off from a radical leftist group, shortly after a visit by British Prime Minister Tony Blair. ',\n",
       " 'MOSCOW, Aug. 18 (Xinhuanet) -- Three Georgian servicemen were killed while five others were wounded in overnight fighting in Georgia #39;s breakaway province of South Ossetia, Russian news agencies reported, citing Georgian officials. ',\n",
       " \"AP - An official once in charge of guarding cultural relics has been sentenced to death in China's biggest antiquities theft case since the start of communist rule in 1949.\",\n",
       " \"Iraq's National Conference refused today to send a second delegation to negotiate an end to fighting between U.S. troops and loyalists of Shiite cleric Moktada al-Sadr.\",\n",
       " 'Militia fighters loyal to the radical cleric Moqtada al-Sadr today continued to battle US soldiers in Najaf, hours after a delegation from Iraq #39;s national conference had left the city empty-handed when its truce offer was turned down. ',\n",
       " 'Police defused a bomb near Italian Premier Silvio Berlusconi #39;s villa in Sardinia early today shortly after Tony and Cherie Blair ended a visit to the Italian leader. ',\n",
       " 'The family of the murdered journalist Daniel Pearl has appealed to American politicians not to use his name in their election campaigns. ',\n",
       " \"AFP - German Chancellor Gerhard Schroeder said that the hike in oil prices was not currently hurting the eurozone's biggest economy but that he was closely watching the cost of crude.\",\n",
       " 'AP - A rocket slammed into a busy market in the northern Iraqi city of Mosul on Wednesday, killing at least five civilians, a U.S. military spokeswoman said.',\n",
       " 'AFP - Eight men arrested in anti-terrorist raids two weeks ago were set to appear in a high-security court in London on charges of conspiracy to murder and plotting radioactive, chemical or explosive attacks.',\n",
       " 'Palestinian leader Yasser Arafat makes a rare admission that \"unacceptable mistakes\" have been made under him.',\n",
       " 'NEW YORK - U.S. stocks are seen off a touch at the open Wednesday as the price of oil continues to plague investor sentiment...',\n",
       " 'RAMALLAH, West Bank - Yasser Arafat acknowledged Wednesday that the Palestinian Authority had made mistakes, but the rare admission appeared to be aimed more at deflecting criticism about his corrupt government than making real changes.    In a decade at the helm of the Palestinian Authority, Arafat has resisted attempts to get him to fight official corruption, reform the security services and relinquish some of his near-absolute powers...',\n",
       " 'ROME (Reuters) - A bomb has been defused overnight near the Sardinian holiday villa of Prime Minister Silvio Berlusconi hours after a visit by Tony Blair, Italian police say. ',\n",
       " 'MARK COLVIN: The Foreign Minister, Alexander Downer, has met North Korea #39;s Foreign Minister and the President of the Supreme Peoples #39; Assembly in Pyongyang. As one of the few Western nations with diplomatic relations with the isolated totalitarian state, ...',\n",
       " 'Nepal #39;s capital, Kathmandu, has been paralyzed by Maoist rebels, who have imposed a virtual blockade of the city. ',\n",
       " 'Pakistan has announced bounties and published photographs of six wanted terrorist suspects, including a senior al-Qaida operative accused of masterminding two attempts to assassinate President Pervez Musharraf. ',\n",
       " \"AP - Three Georgian peacekeepers were killed in overnight shooting in South Ossetia, officials said Wednesday, while Russia scoffed at Georgia's appeal for foreign mediation in the breakaway region where daily exchanges of gunfire have stoked fears of war.\",\n",
       " \"At the National Underground Railroad Freedom Center in Cincinnati, slavery's evil becomes palpable; so does a sense of progressive enlightenment.\",\n",
       " \"Police in Ireland question two men arrested in Dublin in connection with the murder of the daughter of Malawi's chief justice.\",\n",
       " 'The US and rights groups condemn the acquittal in Haiti of an ex-paramilitary leader accused of murder.',\n",
       " 'afrol News, 18 August - The governments of Rwanda and Burundi may again send troops into Congo Kinshasa (DRC) if Kinshasa does not finally take action against the militias still slaughtering Tutsis. Both claim Friday #39;s massacre was masterminded by ...',\n",
       " 'A British soldier killed after clashes with militia forces in the southern Iraqi city of Basra was today named as Lance Corporal Paul David Trevor Thomas. ',\n",
       " 'AFP - Freak storms packing howling winds and heavy rain that lashed Britain and France this week were set to continue after already causing significant destruction and the deaths of at least four people.',\n",
       " 'AP - Singapore said Wednesday that it has suspended the import of all poultry and poultry products from neighboring Malaysia after avian influenza was discovered at a farm there.',\n",
       " \"AP - Just a few miles from George W. Bush's former office at the state Capitol, a panel of religious experts weighed a question with relevance to many people of faith: How would Jesus vote?\",\n",
       " 'German Chancellor Gerhard Schroeder confirmed on Wednesday that he and his wife have adopted a child, reported to be a girl from a Russian orphanage, but has called on the media to respect his family #39;s privacy. ',\n",
       " \"PUNTA GORDA, Fla. - Until the electricity hums again and the debris is cleared, health officials are worried that there could be more deaths and injuries in Hurricane Charley's aftermath than during the storm itself...\",\n",
       " 'LONDON - Eight men accused of plotting to commit murder and cause mayhem with radioactive materials, toxic gases, chemicals or explosives appeared in court Wednesday in a case linked to a U.S. terror alert this month...',\n",
       " 'ATHENS, Greece - Greek sprinters Kostas Kenteris and Katerina Thanou pulled out of the Athens Games on Wednesday, nearly a week after they missed a drug test and were later hospitalized following a suspicious motorcycle crash.   \"I\\'m withdrawing from the Olympics,\" Kenteris said after meeting with the International Olympic Committee\\'s disciplinary commission...',\n",
       " \"SAN JOSE, Calif. - In a sign that Google Inc.'s initial public offering will not be as hot or big as expected, the Internet search giant reduced the number of shares to be sold by insiders and slashed its estimated per-share price range...\",\n",
       " \"Reuters - Web surfers from Beijing to Berkeley\\\\have made Google their search engine of choice, but some of\\\\Europe's institutional investors have gone sour on the dot-com\\\\on the eve of its initial public offering.\",\n",
       " 'Microsoft is making its important security update for Windows XP available on auto-update servers today.',\n",
       " 'A general strike called by students in the state to protest against rebel bombings brings life to a standstill.',\n",
       " 'Delegates to the Iraqi national conference in Baghdad are holding an unscheduled fourth day of talks. ',\n",
       " 'Officials in Georgia say at least two soldiers have been killed and five wounded in the latest battles with separatist fighters in the breakaway region of South Ossetia. ',\n",
       " ' quot;We believe the six parties have the willingness to continue to promote the procedure of peaceful talks, quot; China #39;s Foreign Ministry said.  quot;We ...',\n",
       " 'KATHMANDU : Maoist rebels cut off routes to Nepal #39;s capital Kathmandu in their first blockade of the city since they launched their insurgency to overthrow the constitutional monarchy eight years ago. ',\n",
       " 'UN Secretary General Kofi Annan says the Burmese military government #39;s plan for democracy will fail without input from the opposition National League for Democracy. ',\n",
       " 'PRESENTACION, Philippines (Reuters) - Philippine communist rebels freed Wednesday two soldiers they had held as  quot;prisoners of war quot; for more than five months, saying they wanted to rebuild confidence in peace talks with the government. ',\n",
       " 'Reuters - Vets at a Berlin zoo have been forced to\\\\separate a baby rhino from his mother for fear she may\\\\accidentally trample him to death, zoo officials said on\\\\Tuesday.',\n",
       " 'AP - Human rights activists on Wednesday condemned the detention of a Hong Kong pro-democracy politician for allegedly having sex with a prostitute, and his sentencing without trial to six months of \"re-education through labor.\"',\n",
       " 'BAGHDAD, Aug. 18 (Xinhuanet) -- Iraqi Defence Minister Hazem al-Shaalan on Wednesday demanded Shiite militants in the holy city of Najaf surrender within hours, or the Iraqi troops would launch a large-scale attack on them. ',\n",
       " 'African regional leaders gather Wednesday, in Tanzania for a summit on Burundi #39;s peace process, but the recent massacre of Congolese Tutsi in a UN refugee camp is expected to be high on the agenda. ',\n",
       " 'Separatist militants kill four members of a Muslim family while police shoot dead a senior militant leader in Kashmir.',\n",
       " 'ANCIENT OLYMPIA, Greece - Two U.S. men advanced to the final of the shot put Wednesday, hoping to make even more history at the ancient site that gave birth to the Olympics 2,780 years ago...',\n",
       " \"SAN JOSE, Calif. - In a sign that Google Inc.'s initial public offering will not be as hot or big as expected, the Internet search giant slashed its estimated per-share price range and reduced the number of shares to be sold by insiders...\",\n",
       " 'The decision was made today after the rebel cleric Moktada al-Sadr refused to meet with its first peace team on Tuesday.',\n",
       " \"Reuters - Democrat John Kerry on Wednesday\\\\planned to attack President Bush's proposal to withdraw 70,000\\\\American troops from Europe and Asia as a threat to national\\\\security that could blunt the war on terror, campaign aides\\\\said.\",\n",
       " 'BUJUMBURA, Aug 18 (Reuters) - Police in Burundi #39;s capital Bujumbura fired tear gas at crowds on Wednesday, protesting against the massacre of at least 160 Congolese Tutsis at a United Nations refugee camp in the west of the country. ',\n",
       " \"AP - Police defused a bomb in a town near Prime Minister Silvio Berlusconi's villa on the island of Sardinia on Wednesday shortly after British Prime Minister Tony Blair finished a visit there with the Italian leader.\",\n",
       " 'In a bid to keep protesters from disrupting the Republican National Convention, the Bloomberg administration is offering \"peaceful political activists\" discounts.',\n",
       " \"The World Food Programme is starting to airlift almost 100 more tons of food a day to Sudan's troubled Darfur region.\",\n",
       " 'PRIME Minister John Howard yesterday said his personal staff witnessed and backed his version of a sensitive phone call with former ministerial adviser Mike Scrafton over the children overboard affair. ',\n",
       " \"LOS ANGELES - It's been a rough month for hotel heiress Paris Hilton. First, her Hollywood Hills home was burglarized and now her pet Chihuahua, Tinkerbell, has disappeared...\",\n",
       " 'RAMALLAH, West Bank - Yasser Arafat acknowledged Wednesday that the Palestinian Authority has made \"mistakes,\" but the rare admission appeared to be aimed more at deflecting criticism about his corrupt government than making real changes.    In a decade at the helm of the Palestinian Authority, Arafat has resisted attempts to get him to fight official corruption, reform the security services and relinquish some of his near-absolute powers...',\n",
       " 'AFP - The international community is \"getting nowhere\" with the crisis in Sudan\\'s troubled Darfur region, the US ambassador to the United Nations, John Danforth, said.',\n",
       " \"AFP - England's marketing men must have been tempted to approach the manufacturers of Alka Seltzer, the country's favourite hangover remedy, about sponsoring the international friendly with the Ukraine.\",\n",
       " 'AP - Radical Shiite cleric Muqtada al-Sadr has accepted a peace plan drafted by the Iraqi National Conference, which would include laying down arms and withdrawing his militia from a holy shrine in the city of Najaf, a delegate told the conference Wednesday.',\n",
       " \"AP - Shanghai's economy grew at a blistering 14.7 percent in the first seven months of the year, seemingly defying efforts to cool off China's economy amid fears of overheating.\",\n",
       " 'ROME -- Police defused a bomb in a town near Prime Minister Silvio Berlusconi #39;s villa on the island of Sardinia on Wednesday shortly after British Prime Minister Tony Blair finished a visit there with the Italian leader. ',\n",
       " 'TONY JONES: On a rare visit to North Korea, Australia #39;s Foreign Minister Alexander Downer said today he #39;s held productive talks on efforts to end the reclusive nation #39;s nuclear program. ',\n",
       " 'Human rights activists on Wednesday condemned the detention of a Hong Kong pro-democracy politician for allegedly having sex with a prostitute, and his sentencing without trial to six months of  quot;re-education through labor. quot; ...',\n",
       " 'Iran will strike the Israeli reactor at Dimona if Israel attacks the Islamic republic #39;s nuclear facilities, a commander of the elite Revolutionary Guards has said. ',\n",
       " 'AFP - British and Irish Prime Ministers Tony Blair and Bertie Ahern were preparing to head to Belfast, hopeful of a breakthrough in the protracted deadlock over power-sharing in Northern Ireland.',\n",
       " \" BAGHDAD (Reuters) - Iraqi delegates to a conference  choosing a national assembly said Wednesday that radical  Shi'ite cleric Moqtada al-Sadr had agreed to demands to end an  uprising in the holy city of Najaf.\",\n",
       " 'Europes leaders were urged today to continue a ban on arms sales to China in protest against torture and human rights abuses. The call came on the eve of an ',\n",
       " 'A period of relative calm in the Gaza Strip was broken by a nearly hour-long battle between Palestinian militants and Israeli troops that left at least one Israeli soldier and one militant dead.',\n",
       " 'The secretary general of the United Nations fights a war on many fronts in his crusade to bring human rights and peace to the world.',\n",
       " 'Hamas militants broke three weeks of relative calm in Gaza on Tuesday, setting off a bomb in what they said was an elaborate scheme that included a tunnel and a double agent.',\n",
       " '18 August 2004 -- There has been renewed fighting in the Iraqi city of Al-Najaf between US and Iraqi troops and Shi #39;a militiamen loyal to radical cleric Muqtada al-Sadr. ',\n",
       " 'Timing of new building in West Bank linked to political survival instincts of Ariel Sharon. In a move that caught both the international community and the Bush administration by surprise, the government of Israel Tuesdayissued contract proposals for 1,001 ...',\n",
       " 'MOSCOW, Aug 18 (AFP) - German Chancellor Gerhard Schroeder and French President Jacques Chirac will meet with Russian President Vladimir Putin at his Black Sea resort residence at the end of the month, Interfax quoted the top Kremlin spokesman as saying ...',\n",
       " 'KHARTOUM, Aug 18 (Reuters) - The United Nations said on Wednesday it was very concerned by Sudan #39;s lack of practical progress in bringing security to Darfur, where more than a million people have fled their homes for fear of militia ...',\n",
       " 'Pakistan on Wednesday offered huge rewards totalling Rs 6.5 crore for information leading to the capture of six most wanted terrorists linked to al-Qaeda, including a member of the banned Jash-e-Mohammad who is accused of masterminding two suicide attacks ...',\n",
       " 'BAGHDAD (Reuters) - Iraqi delegates to a conference choosing a national assembly said Wednesday that radical Shi #39;ite cleric Moqtada al-Sadr had agreed to government demands to end an uprising in the holy city of Najaf. ',\n",
       " 'PRIME Minister John Howard conceded yesterday a fresh inquiry into the children overboard saga would find he had lied. ',\n",
       " 'At least six people died in Shikoku after heavy rains from Typhoon Megi pounded the western Japan island on Tuesday and Wednesday, officials said. ',\n",
       " 'MARK Latham #39;s campaign to become prime minister has suffered an unexpected setback after the Labor leader was rushed to hospital suffering stomach cramps, forcing him to cancel all public engagements until next ...',\n",
       " 'BAGHDAD, Iraq (AP) -- A delegate at Iraq #39;s National Conference in Baghdad says a militant Shiite cleric has agreed to disarm and pull his forces from a shrine in Najaf. ',\n",
       " 'Palestinian Authority Minister of State Kadoura Fares said on Tuesday that jailed Fatah leader Marwan Barghouti may abandon his plan to run in the January 9 lection for the presidency of the PA.',\n",
       " 'Two of the Bush administration #39;s chief architects of the war on terror offered words of caution along with congratulations on Tuesday, a historic day for this one-time al-Qaida haven.',\n",
       " 'BAGHDAD : Shiite militia leader Moqtada Sadr has agreed to disarm and quit a holy shrine in Najaf as demanded by Iraq #39;s key national conference, one of the organisers of the meeting said. ',\n",
       " 'Aug. 18 (Bloomberg) -- The case against eight men charged with conspiracy to commit murder and carry out terrorist attacks was referred to the Old Bailey, London #39;s central criminal court. ',\n",
       " 'NAJAF, Iraq (Reuters) - The leader of a Shi #39;ite uprising in Iraq agreed Wednesday to leave a holy shrine encircled by US marines, hours after the interim government threatened to storm it and drive out his fighters. ',\n",
       " 'Police in Burundi #39;s capital Bujumbura fired tear gas at crowds today, protesting against the massacre of at least 160 Congolese Tutsis at a UN refugee camp in the west of the country. ',\n",
       " 'Russian leader Vladimir Putin voices doubts over plans to hold elections in Iraq next month.',\n",
       " \" CAIRO (Reuters) - Palestinians and Israelis have agreed in  principle to proposals aiming to end their conflict, Egypt's  official news agency MENA said on Tuesday.\",\n",
       " 'AFP - Stunned residents picked their way through a wasteland of mud and rubble to leave storm-ravaged areas of the Philippines as the government said it has run out of money to pay for relief services.',\n",
       " 'Mohamed Yousif, Sudans minister of humanitarian affairs, dismissed widespread assertions of government involvement in a vicious militia campaign against civilians in the western region.',\n",
       " 'TDN- Russian Federation President Vladimir Putin was in Ankara on Monday for a state visit unmatched in the history of relations between the Turkish and Russian nations.',\n",
       " 'Despite intimidation by the ruling Burmese military authorities, the National League for Democracy (NLD) members have continued the signature campaign with increased momentum calling for the release of all political prisoners including NLD leaders Daw ...',\n",
       " '- The United Nations World Food Programme (WFP) is gearing up for the most critical stage yet of its operation to deliver food assistance to hundreds of thousands of people affected by conflict in the Darfur region of western Sudan. As the rainy season ...',\n",
       " 'Reuters - U.S. trade officials said on Tuesday\\\\that former European Union Trade Commissioner Pascal Lamy would\\\\be a \"strong candidate\" to lead the World Trade Organization,\\\\but stopped short of formally endorsing him.',\n",
       " 'The vulnerability of world leaders to terrorist attack was starkly exposed again today by the discovery of a bomb near Tony Blair #39;s holiday villa on Sardinia. ',\n",
       " 'BEIJING The collapse of North Korea #39;s economy has caused food prices there to skyrocket and created new groups of people who cannot afford to buy what they need to live, the World Food Program said on Wednesday. ',\n",
       " 'BERLIN - German investor confidence posted a surprise jump in December as relief over falling oil prices helped to offset concerns about the impact of a surging euro on growth in Europe #39;s biggest economy.',\n",
       " 'European Union governments may impose tougher conditions on entry talks with Turkey in response to demands by France, Austria and Cyprus, a draft EU compromise shows.',\n",
       " 'BAGHDAD (Reuters) - Anti-US cleric Moqtada al-Sadr and his followers are ready to leave the Imam Ali shrine in Najaf if American-led forces pull back from the holy Shi #39;ite site, an aide to Sadr says. ',\n",
       " 'According to British cops he is Dhiren Barot to his father and Abu Musa al-Hindi to Al Qaeda. On Wednesday India-born Barot alias al-Hindi, along with seven men of Pakistani origin, arrested in anti-terror raids and charged with plotting radioactive, ...',\n",
       " 'A 39-year-old woman was savaged to death by her pet bull mastiff dog yesterday. Terrified elderly neighbours could only look on as the fatal attack, which started inside Carol Leeanne Taylor #39;s home in the Dunedin suburb of Caversham, spilled on to the ...',\n",
       " 'LONDON (AP) - Eight suspects, including a man identified in the United States as a senior al-Qaida figure, appeared in court under heavy guard Wednesday as police investigated an alleged plot to commit murder and cause mayhem with chemicals, radioactive ...',\n",
       " 'GENEVA, Aug 18 (Reuters) - United Nations human rights investigators on Wednesday called on Burundi and the Democratic Republic of Congo to identify and hold accountable those behind the massacre of at least 160 Congolese Tutsi refugees. ',\n",
       " 'Five Palestinians were killed and other seven injured today at dawn in an Israeli air raid carried out by one Israeli helicopter at the house of a leading figure from the Islamic resistance movement ( Hamas) in al-Shuja #39;eya quarters to the east of Gaza. ',\n",
       " 'Switzerland is to hand back to Nigeria SFr622 million (\\\\$500 million) belonging to the former ruler, Sani Abacha, and his family. ',\n",
       " 'Mud continues to be one of the biggest obstacles to relief efforts in Sudan #39;s Darfur region. Heavy rains have washed out roads and airstrips and the rainy season is expected to last another month or two. ',\n",
       " 'NAJAF, Iraq (Reuters) - Radical Shi #39;ite cleric Moqtada al-Sadr has agreed to disarm his Iraqi militia and leave a holy shrine but only after a truce with encircling US marines. ',\n",
       " \" CAIRO (Reuters) - Palestinians and Israelis have agreed in  principle to proposals aiming to end their conflict, Egypt's  official news agency MENA said Tuesday.\",\n",
       " 'AP - The State Department is advising Americans traveling or living in Laos to take precautions and avoid areas likely to be hit by continuing violence.',\n",
       " 'Canadian Press - REAL, Philippines (AP) - Relief crews battling walls of mud and lashing rain to reach villages still isolated days after back-to-back storms devastated the northeastern Philippines have found 51 more bodies, taking the death toll to at least 740 people, officials said Tuesday.',\n",
       " 'WASHINGTON (AP) - The Bush administration reacted cautiously Wednesday to reports that the radical Shiite cleric Muqtada al-Sadr had accept a peace plan to end fighting in Najaf. ',\n",
       " 'ISLAMABAD, Pakistan (AP)  Pakistan published photos Wednesday in newspapers across the country of six terror suspects  including a senior al-Qaeda operative  it says were behind attempts to assassinate the nation #39;s president and offered a large ...',\n",
       " 'against Mahmoud Abbas, a moderate backed by Israel and Washington as a potential peacemaker, a lawmaker said. killing one soldier and wounding four.',\n",
       " 'ABUJA, Aug 18 (AFP) -- The Nigerian senate said on Wednesday it would ask its defence committee to consider a request by President Olusegun Obasanjo for permission to deploy some 1,500 peacekeepers to Sudan #39;s war-torn Darfur region. ',\n",
       " 'AFP - The older the violin, the sweeter the music. And the Athens Olympics is proving the lyrics right as Martina Navratilova, Merlene Ottey and company are demonstrating the endurance of women with middle-aged ladies defying perceptions about age and competition in nearly every sport.',\n",
       " \"AFP - Yukos scrambled to scrape together cash for a crushing tax bill by selling off one of its gas companies in the face of deep investor skepticism that Russia's oil giant could survive its standoff with the state.\",\n",
       " 'AP - An Israeli helicopter fired two missiles in Gaza City after nightfall Wednesday, one at a building in the Zeitoun neighborhood, witnesses said, setting a fire.',\n",
       " 'AP - The United Nations\\' food relief agency is gearing up for a \"critical stage\" in feeding refugees in western Sudan as more people flee ethnic violence there and the rainy season peaks, U.N. officials said Wednesday.',\n",
       " 'AP - An anti-war group planning a massive demonstration the day before the GOP convention asked a judge on Wednesday to overrule city officials and let protesters gather in Central Park.',\n",
       " 'washingtonpost.com - NEW YORK -- Hundreds of thousands of antiwar protesters, abortion rights supporters, labor rights activists and anarchists are preparing to unfurl banners, march through the streets and rally in the parks, loosening a cacophonous roar of protest during the Republican National Convention.',\n",
       " 'AP - A top Republican congressman has broken from his party in the final days of his House career, saying he believes the U.S. military assault on Iraq was unjustified and the situation there has deteriorated into \"a dangerous, costly mess.\"',\n",
       " \"AP - An Associated Press reporter and four other journalists shouldn't be punished for keeping secret the names of sources for stories about Wen Ho Lee, a former nuclear weapons scientist once suspected of spying, their lawyers told a federal judge Wednesday.\",\n",
       " \" NAJAF, Iraq (Reuters) - A radical Iraqi cleric leading a  Shi'ite uprising agreed Wednesday to disarm his militia and  leave one of the country's holiest Islamic shrines, but only  after a truce with encircling U.S. Marines.\",\n",
       " ' TEL AVIV (Reuters) - Prime Minister Ariel Sharon confronted  Likud party rebels with a pledge to put the good of Israel  first Wednesday as he battled to avoid an embarrassing defeat  over his Gaza pullout plan.',\n",
       " ' BUJUMBURA/UNITED NATIONS (Reuters) - U.N. peacekeepers are  scrambling to avoid new bloodshed in the volatile Great Lakes  region of Africa following a massacre of Congolese refugees in  western Burundi, the United Nations said on Wednesday.',\n",
       " ' ISLAMABAD (Reuters) - An Afghan Islamic cleric who died in  custody in Pakistan on Wednesday had signs of torture on his  body, an intelligence official said.',\n",
       " 'An Islamic cleric arrested in Pakistan for suspected al-Qaeda links dies in custody, officials say.',\n",
       " 'Physicists have successfully teleported particles of light over a distance of 600m across the River Danube in Austria, the journal Nature reports.',\n",
       " 'LONDON - Eight suspects, including a man identified by the United States as a senior al-Qaida figure, appeared in a London court under heavy guard Wednesday as police investigated their alleged plot to commit murder and to cause mayhem with chemical, biological or radioactive materials.    A prosecutor also said police were searching about 100 computers and thousands of files, suggesting a protracted investigation that could produce more charges against the suspects, who were seized in raids across England two weeks ago...',\n",
       " 'LITTLE CHUTE, Wis. - Cheese maker Bob Gilbert is struggling with his good fortune and his misfortune...',\n",
       " 'ATHENS, Greece - Andy Roddick hit one last errant shot into the net and hung his head, his medal hopes over. A short while later, Venus Williams was gone, too...',\n",
       " 'CINCINNATI - John Kerry, telling fellow combat veterans he\\'s their \"true brother in arms,\" said Wednesday that President Bush\\'s plan to withdraw U.S. troops from Europe and Asia would weaken U.S...',\n",
       " 'REDWOOD CITY, Calif. - The judge in Scott Peterson\\'s murder trial dismissed the jurors for the day Wednesday, saying, \"There\\'s been a potential development in this case.\"   Judge Alfred A...',\n",
       " 'NEW YORK - Buyers put a positive spin on equities Wednesday, shrugging off rising crude futures as Google Inc. prepared to sell its stock in an initial public offering, albeit it at a far lower price than previously forecast...',\n",
       " \"CINCINNATI - Democratic presidential candidate John Kerry on Wednesday criticized President Bush's proposal to recall up to 70,000 foreign troops as a hastily announced plan that raises more doubts about U.S. intentions than it answers...\",\n",
       " 'NEW YORK - Buyers put a positive spin on the equity markets Wednesday, shrugging off rising crude futures as Google Inc. prepared to sell its stock in an initial public offering, albeit it at a far lower price than previously forecast...',\n",
       " 'REDWOOD CITY, Calif. - The judge in Scott Peterson\\'s double murder trial dismissed the jurors for the day Wednesday, saying, \"There\\'s been a potential development in this case.\"   Judge Alfred A...',\n",
       " 'Shiite cleric Moqtada Sadr signaled that he would accept pleas to dissolve his militia and vacate the sacred Imam Ali shrine in Najaf, but asked for time for further negotiations.',\n",
       " 'Chinese authorities detained a prominent, U.S.-based Buddhist leader in connection with his plans to reopen an ancient temple complex in the Chinese province of Inner Mongolia last week and have forced dozens of his American followers to leave the region, local officials said Wednesday.',\n",
       " 'OME, Aug. 18  The police defused a bomb today in Porto Rotondo, Sardinia, the same town where Prime Minister Silvio Berlusconi had entertained British Prime Minister Tony Blair and his wife Cherie ...',\n",
       " 'Finally, the conflict in Darfur in western Sudan is a focal point in international diplomacy and media attention. This is the least to expect after months of bloody campaigns of murder, rape and dare I say, ethnic cleansing, starting as ...',\n",
       " 'ISLAMABAD (Reuters) - An Afghan Islamic cleric who died in custody in Pakistan on Wednesday had signs of torture on his body, an intelligence official said. ',\n",
       " 'Canadian Press - KHARTOUM, Sudan (AP) - The United Nations\\' food relief agency is gearing up for a \"critical stage\" in feeding refugees in western Sudan as more people flee ethnic violence there and the rainy season peaks, UN officials said Wednesday.',\n",
       " \" NAJAF, Iraq (Reuters) - A radical Iraqi cleric leading a  Shi'ite uprising agreed Wednesday to disarm his militia and  leave one of the country's holiest Islamic shrines after  warnings of an onslaught by government forces.\",\n",
       " 'Five soldiers appear in court in South Africa accused of robbing Zimbabwean deportees.',\n",
       " 'An Israeli helicopter fires two missiles at targets in Gaza City, Palestinian witnesses say.',\n",
       " 'After falling on the landing of his vault, Paul Hamm put on two of the most spectacular routines of his career to win Olympic gold, the first ever by a U.S. man.',\n",
       " 'NAJAF, Iraq - Radical Shiite cleric Muqtada al-Sadr accepted a peace plan Wednesday for Najaf that would disarm his militiamen and remove them from a holy shrine where they are hiding out, according to a spokesman. However, Al-Sadr wanted to negotiate how the deal would be implemented...',\n",
       " \"SAN JOSE, Calif. - The Securities and Exchange Commission granted final approval Wednesday to the paperwork required for Google Inc.'s initial public offering, paving the way for the Internet search giant to set a price for its shares and begin selling them after several stumbles and a last-minute downward revision on the size of the offering...\",\n",
       " \"ATHENS, Greece - After falling onto the edge of the judges' table on the landing of his vault, Paul Hamm performed two of the most spectacular routines of his career to win the men's all-around gymnastics title by the closest Olympic margin ever.    Needing a 9.825 on high bar, his best event, to tie Kim Dae-eun of South Korea for gold, Hamm was dazzling...\",\n",
       " 'NAJAF, Iraq (Reuters) - Iraq #39;s Defence Ministry has ordered Shi #39;ite militiamen in Najaf to immediately lay down their weapons and leave a holy shrine in the city. ',\n",
       " 'Georgian officials reported four Georgian soldiers were killed in a heavy fighting, which erupted in the South Ossetian conflict zone late on August 18. ',\n",
       " 'MEXICO CITY, Aug. 18 (Xinhuanet) -- A bloody riot Wednesday in the La Esperanza Jail, in Mariona, in the outskirts of San Salvador, left a toll of at least 20 dead and another 30 injured. ',\n",
       " \" NAJAF, Iraq (Reuters) - A radical Iraqi cleric leading a  Shi'ite uprising agreed on Wednesday to disarm his militia and  leave one of the country's holiest Islamic shrines after  warnings of an onslaught by government forces.\",\n",
       " 'If there are any democratic  quot;T #39;s quot; to be crossed and  quot;I #39;s quot; to be dotted, Palestinian President Yasser Arafat did not leave one undone during his keynote speech to MPs at his West Bank headquarters in Ramallah. Arafat looked rejuvenated and emphatic as he ...',\n",
       " 'August 18 (Bloomberg) -- A prison riot in the Central American nation of El Salvador killed at least 20 prisoners and wounded another 30, the Spanish news agency EFE reported, citing prosecutors. ',\n",
       " 'PRIME Minister John Howard is insisting he has not deliberately misled the Australian public over the children overboard affair. ',\n",
       " 'The Zimbabwe Elections Support Network (ZESN) has welcomed the adoption of guidelines for holding democratic elections at the Southern African Development Community (SADC) summit in Mauritius this week. ',\n",
       " \"Reuters - Israeli Prime Minister Ariel\\\\Sharon's right-wing Likud party voted Wednesday to bar a\\\\coalition with center-left Labor that he seeks to advance his\\\\Gaza withdrawal plan, according to early returns.\",\n",
       " \"Reuters - The United Nations said on\\\\Wednesday it was concerned by Sudan's lack of progress in\\\\bringing security to Darfur, where more than a million people\\\\have fled their homes for fear of militia attack.\",\n",
       " \" TEL AVIV, Israel (Reuters) - Israeli Prime Minister Ariel  Sharon's right-wing Likud party voted Wednesday to bar a  coalition with center-left Labor that he seeks to advance his  Gaza withdrawal plan, according to early returns.\",\n",
       " \"Reuters - U.S. forces killed more than 50 Shi'ite\\\\militiamen Wednesday in a significant advance into a Baghdad\\\\suburb that is a powerbase for radical cleric Moqtada al-Sadr,\\\\the military said.\",\n",
       " \"The standoff at one of Islam's holiest shrines parallels one at the Church of the Nativity in 2002.\",\n",
       " 'Eight alleged terrorists were charged in Britain this week. One was caught with detailed plans of several US buildings.',\n",
       " 'If the agreement is fulfilled  and al-Sadr has made contradictory statements in the past  it would resolve a crisis that had angered many of Iraq #39;s majority Shiites and threatened to undermine the fledgling interim government of Prime Minister ...',\n",
       " 'A Moroccan accused of helping the Sept. 11 suicide hijackers was part of a group that raged against the United States  quot;because it defends Israel quot; and himself approved of Hitler #39;s extermination of the Jews, witnesses testified Wednesday. ',\n",
       " 'CAIRO - Egypt raised the possibility Tuesday of returning an ambassador to Israel soon, according to the official Mena news agency, a move that would signal a revival of full diplomatic ties after a four-year break.',\n",
       " 'Canadian Press - LONDON (AP) - More than 50 people were rescued by a naval helicopter Wednesday after two landslides caused by heavy rain trapped their vehicles on a highway in Scotland, police said.',\n",
       " \" TEL AVIV (Reuters) - Israeli Prime Minister Ariel Sharon's  Likud party voted on Wednesday to bar him from forming a  coalition with the Labour opposition, an embarrassing blow that  complicates his plan to withdraw from occupied Gaza.\",\n",
       " 'Iraq #39;s rebel Shiite cleric Moqtada al-Sadr accepted a peace plan to lay down arms and join a Baghdad conference forming an interim national assembly. ',\n",
       " \" KABUL (Reuters) - Hamid Karzai was sworn in as  Afghanistan's first popularly elected president Tuesday,  promising to bring peace to the war-torn nation and end the  economy's dependence on narcotics.\",\n",
       " \" GAZA (Reuters) - Four Palestinian militants and an Israeli  soldier were killed Tuesday in the heaviest Gaza fighting since  Yasser Arafat's death, raising the prospect that renewed  violence could complicate a vote for his successor.\",\n",
       " \" KIEV, Ukraine (Reuters) - Ukraine's outgoing leader denied  on Tuesday he had agreed on concessions with his opponents to  end a crisis that has plunged the country into turmoil and  driven a wedge between Russia and the West.\",\n",
       " 'BAGHDAD (AFP) - The number of US soldiers killed in combat in Iraq neared 1,000 after a spike in violence, as Prime Minister Iyad Allawi prepared for talks in Moscow aimed at reviving business ties despite Russia #39;s opposition to the US-led war.',\n",
       " \"AP - The FBI anticipates violent protests at the upcoming Republican National Convention in New York but does not have enough evidence to move against any group or person, the bureau's top terrorism official said Wednesday.\",\n",
       " 'Former US army sergeant Charles Robert Jenkins, who deserted to North Korea (news - web sites) four decades ago, said he decided to turn himself in to the US military and risk jail for the sake of his North Korean-born daughters, whom he feared might be ',\n",
       " 'Finland has kept its place at the top of a survey measuring teenagers #39; educational skills, with schools in some Asian countries also among the best performers.',\n",
       " 'NAJAF, Iraq (Reuters) - A radical Iraqi cleric leading a Shi #39;ite uprising has agreed to disarm his militia and leave one of the country #39;s holiest Islamic shrines after warnings of an onslaught by government forces. ',\n",
       " 'As Australians watch their country #39;s flag being raised yet again in Athens, it can be imagined that no one is more pleased, nor more relieved, than Prime Minister John Howard, writes The Dominion Post in an editorial. ',\n",
       " 'AP - A North Carolina man who deserted the U.S. Army for North Korea nearly 40 years ago was greeted by cheering crowds Tuesday in his wife\\'s hometown on a remote island in northern Japan, where he said he plans to live his \"remaining days.\"',\n",
       " 'AFP - More than 50 people were airlifted to safety after landslides caused by violent rain trapped cars on a road in Scotland, just days after flash floods devastated a tourist village in southwest England.',\n",
       " \"AP - Michael Phelps took care of qualifying for the Olympic 200-meter freestyle semifinals Sunday, and then found out he had been added to the American team for the evening's 400 freestyle relay final. Phelps' rivals Ian Thorpe and Pieter van den Hoogenband and teammate Klete Keller were faster than the teenager in the 200 free preliminaries.\",\n",
       " \"AP - Wily Mo Pena homered twice and drove in four runs, helping the Cincinnati Reds beat the San Diego Padres 11-5 on Saturday night. San Diego was knocked out of a share of the NL wild-card lead with the loss and Chicago's victory over Los Angeles earlier in the day.\",\n",
       " 'AFP - National Basketball Association players trying to win a fourth consecutive Olympic gold medal for the United States have gotten the wake-up call that the \"Dream Team\" days are done even if supporters have not.',\n",
       " 'AP - The Cleveland Indians pulled within one game of the AL Central lead, scoring four runs in the first inning and beating the Minnesota Twins 7-1 Saturday night behind home runs by Travis Hafner and Victor Martinez.',\n",
       " 'AP - Kevin Hartman made seven saves for Los Angeles, and Jon Busch had two saves for Columbus as the Galaxy and Crew played to a 0-0 tie Saturday night.',\n",
       " 'AP - Southern California will begin defense of its first national title in 31 years as the No. 1 team in the nation. The Trojans earned the top spot in the preseason Associated Press poll released Saturday by receiving 48 of 65 first-place votes and 1,603 points.',\n",
       " \"AP - Italy's Flavia Pennetta won the Idea Prokom Open for her first WTA Tour title, beating Klara Koukalova of the Czech Republic 7-5, 3-6, 6-3 Saturday after French Open champion Anastasia Myskina withdrew before the semifinals because of a rib injury.\",\n",
       " ' ATHENS (Reuters) - Michael Phelps, his first gold medal  safely gathered in, eased through the next phase of his  monumental Olympic challenge in the heats of the 200 meters  freestyle Sunday but the immensity of the task ahead was clear.',\n",
       " ' ATHENS (Reuters) - A diplomatic wrangle of Olympic  proportions was avoided Sunday when Iranian world judo champion  Arash Miresmaeili failed to make the weight for his clash with  an Israeli opponent.',\n",
       " ' KOHLER, Wisconsin (Reuters) - Tiger Woods failed to make  the most of a red-hot start in the U.S. PGA Championship third  round on Saturday, having to settle for a three-under-par 69.',\n",
       " ' ATHENS (Reuters) - But for a decision that enraged her  coach, LaTasha Colander might have been the Marion Jones of the  Athens Olympics.',\n",
       " ' NEW YORK (Reuters) - John Olerud sunk his former team by  recording a two-run single in the eighth inning to drive in the  go-ahead runs which earned the New York Yankees a 6-4 win over  the host Seattle Mariners in the American League Saturday.   ',\n",
       " \" NEW YORK (Reuters) - Chipper Jones cracked two homers and  Julio Franco's two-run double in the seventh inning drove in  the winning runs as the streaking Atlanta Braves downed the St.  Louis Cardinals 9-7 in the National League Saturday.\",\n",
       " \" ATHENS (Reuters) - The honor of Greece lies above  individual athletes and no backstage antics should compromise  it, Greek media said Sunday, after the country's top athletes  were suspended from the team under a cloud of doping suspicion.\",\n",
       " \" ATHENS (Reuters) - The United States beat Canada in a world  best time to qualify for the final of the men's Olympic eights  race Sunday, as the two crews renewed their fierce rivalry in  front of a raucous crowd at Schinias.\",\n",
       " 'Avoiding the late trouble that knocked other contenders off track, Vijay Singh held a one-stroke lead over Justin Leonard heading into the final round of the P.G.A. Championship.',\n",
       " 'John Olerud reveled in his return to Safeco Field by slapping a two-run single that lifted the Yankees and saved Esteban Loaiza from a defeat.',\n",
       " 'Family Day in the Fens means fun and games to most folks. Players toddle around the bases with wide-eyed kids. Mothers beam. Children smile. All is bliss on the sun-splashed emerald lawn.',\n",
       " \"The Yankees' Alex Rodriguez , who missed Friday night's game with the flu and stayed back at the team hotel yesterday, dropped his appeal of a four-game suspension issued for his involvement in the July 24 brawl at Boston and began serving the penalty. He won't be eligible to play until Thursday at Minnesota.\",\n",
       " 'Kerry Wood homered and allowed four hits in eight innings, leading the Chicago Cubs over the visiting Los Angeles Dodgers, 2-0, yesterday.',\n",
       " \"With Scott Williamson bracing for a potentially grim diagnosis of his latest elbow injury, the Red Sox last night appeared poised to move on without him as Curtis Leskanic inched closer to rejoining the club. The Sox initially indicated they would make an announcement last night on Williamson's injury but changed their position during the first inning of the game ...\",\n",
       " \"Player introductions at the final Citizens Bank Summer Caravan stop produced an awkward moment. Walter McCarty and Raef LaFrentz were the featured guests for the free basketball clinic at the Cambridge Family YMCA late last week. McCarty's presence yielded chants of  quot;Walter, Walter quot; from the crowd of 125 kids. LaFrentz left the young fans wondering,  quot;Who is he? quot; The projected ...\",\n",
       " 'HAVEN, Wis. -- Perched high on the bluffs overlooking Lake Michigan, Whistling Straits is a massive, windswept landscape, as large a golf course as \\\\$40 million can buy. It is complete with sand dunes that could double as ski slopes and deep bunkers that should require elevators.',\n",
       " 'ATHENS -- Star sprinters Kostas Kenteris and Katerina Thanou were suspended yesterday from the Greek Olympic team for missing drug tests, but their fate was left in the hands of the International Olympic Committee.',\n",
       " \"Rich Gannon , the 2002 NFL MVP who was knocked out of the Raiders' loss to Kansas City last Oct. 20 and had shoulder surgery in November, was 9 for 15 for 69 yards in visiting Oakland's 33-30 exhibition win over the San Francisco 49ers last night.\",\n",
       " \"Friday night came as close to an old-time local battle for viewers among Channels 4, 5, and 7 as we're likely to see. It was a throwback to pre-cable, pre-dish, and even pre-UHF days as the three local  quot;originals quot; served up a special night of sports programming. Although Red Sox-White Sox was on Channel 4's  quot;sister quot; station, Channel 38, it ...\",\n",
       " \"WASHINGTON -- Rookie Andy Dorman didn't even have time to get his white, long-sleeved jersey smudged on the sloppy RFK Stadium field last night before salvaging a 2-2 tie for the Revolution against D.C. United. Fifty-five seconds after entering the game as a late substitute, Dorman buried a low shot from inside the penalty area and extended his team's unbeaten ...\",\n",
       " 'OCEANPORT, N.J. -- Sing Me Back Home pulled away in the stretch to win the \\\\$60,000 Decathalon Handicap at Monmouth Park yesterday, equaling the track record for 5 furlongs.',\n",
       " 'HAVEN, Wis. -- If he were acting his age, Jay Haas would have had the weekend off, resting on his laurels and reaping the benefits of the nice-and-easy Champions Tour.',\n",
       " 'Southern California greeted news of its first preseason No. 1 ranking since 1979 with ambivalence.',\n",
       " \"HAVEN, Wis. -- For 18 holes, Stuart Appleby played flawless golf in yesterday's third round, four birdies and 14 pars. It wasn't until he was done playing that he discovered that it wasn't as good a day as he had thought, that he had made a quadruple bogey.\",\n",
       " \"Fifth and ninth for Fernando and Jarno following qualifying for tomorrow's Hungarian Grand Prix.\",\n",
       " 'The teams have just finished their final preparations for the race and qualifying, in much lower temperatures than yesterday.',\n",
       " 'The Renault F1 Team drivers explain how you can make up positions at the Hungarian circuit.',\n",
       " 'The Renault F1 Team ran through its programme without worrying about the timesheets or its rivals. The focus has been on Sundays race, not Fridays glory.',\n",
       " 'Fernando tenth and Jarno seventeenth but no cause for concern, while Pat Symonds explains the challenges of Fridays at the race.',\n",
       " 'A fourth-quarter lead proves fleeting for the Redskins as John Kasay hits a 52-yard field goal Saturday to give the Panthers a 23-20 overtime win.',\n",
       " 'Defending national champion USC begins the 2004 season right where it left off the year before - as the top ranked team in the AP Top 25 poll.',\n",
       " \"There were few offensive highlights during Virginia Tech's first scrimmage of fall practice on Saturday.\",\n",
       " 'Treat Huey, the two-time All-Met Player of the year, suffered a 6-2, 6-0 loss to 29-year-old journeyman Mashiska Washington, the younger brother of former pro and 1996 Wimbledon finalist Malivai.',\n",
       " \"BALTIMORE, Aug. 14 -- Even before Hurricane Charley ranged up the East Coast and began to drop its drizzle on Pimlico Race Course, the \\\\$75,000 All Brandy Stakes for Maryland-bred fillies and mares had been taken off the track's beat-up turf course.\",\n",
       " \"At 5 feet 8, 160 pounds, second baseman Mike Fontenot looks more like the Class AAA Ottawa Lynx's batboy than one of the Baltimore Orioles' top prospects.\",\n",
       " \"The U.S. women's and men's eights team both set world bests in the Olympic rowing competition Sunday along with Australian pair Sally Newmarch and Amber Halliday.\",\n",
       " \"Michael Phelps is named to the 4x100-meter freestyle relay team that will compete in Sunday's final, keeping alive his quest for a possible eight Olympic gold medals.\",\n",
       " \"AP - With Kobe Bryant's sexual assault trial scheduled to begin in less than two weeks, speculation is mounting that prosecutors are looking for a way to dismiss the charge after a series of setbacks.\",\n",
       " 'AP - Pitcher Mike Bacsik was designated for assignment by the Texas Rangers on Sunday after going 1-1 with a 4.60 ERA in three starts.',\n",
       " 'AP - Arsenal opened its defense of its English title with a 4-1 win at Everton on Sunday, making it 41 straight games without a loss in the Premier League.',\n",
       " \"AP - Spain's Rafael Nadal won his first ATP singles title Sunday, beating Argentina's Jose Acasuso 6-3, 6-4 in the final at the Idea Prokom Open.\",\n",
       " \"AP - George Zahringer III is back for another shot at the U.S. Amateur. The New Yorker is one of three returning quarterfinalists for the tournament, which begins Monday at the Winged Foot Golf Club. Lee Williams of Alexander City, Ala., and Patrick Carter of Lesage, W.Va., complete the trio from last year's championship that was won by Nick Flanagan of Australia.\",\n",
       " \" ATHENS (Reuters) - Spain's Pau Gasol got the better of  China's Yao Ming in Olympic basketball's own clash of the  giants Sunday.\",\n",
       " ' KOHLER, Wis. (Reuters) - British Open champion Todd  Hamilton made the first significant move in the U.S. PGA  Championship final round Sunday as overnight pacesetter Vijay  Singh prepared for an afternoon tee-off.',\n",
       " \" ATHENS (Reuters) - Iran's world judo champion Arash  Miresmaeili refused to compete against an Israeli Sunday,  triggering a fresh crisis at the Olympic Games where race,  creed or color are barred from interfering in sport.\",\n",
       " ' ATHENS (Reuters) - The United States kept itself firmly on  course for a third straight Olympic softball gold medal when it  thrashed Australia 10-0 Sunday.',\n",
       " \" BUDAPEST (Reuters) - Michael Schumacher cruised to a record  12th win of the season in the Hungarian Grand Prix on Sunday to  hand his Ferrari team a sixth successive constructors' title.\",\n",
       " 'AFP - Call them the \"Nightmare Team\".',\n",
       " 'AP - Flyers star Jeremy Roenick paid more than  #36;100,000 to a Florida firm that made millions selling betting tips to gamblers, law enforcement officials told The Philadelphia Inquirer.',\n",
       " ' ATHENS (Reuters) - The United States lost their first  basketball match at the Olympics since 1988 on Sunday when  Puerto Rico gave them a shock 92-73 trouncing.',\n",
       " \" ATHENS (Reuters) - South Africa ruined Michael Phelps's  dream of winning a record eight gold medals at the Athens  Olympics with a stunning victory in the men's 4x100 meters  freestyle final on Sunday.\",\n",
       " ' ATHENS (Reuters) - Iran defied the Olympic spirit on Sunday  by refusing to contest a judo bout with an Israeli at the  Athens Games, making no effort to hide the fact it was putting  solidarity with the Palestinians before gold medals.',\n",
       " \" ATHENS (Reuters) - Daniela Sofronie displayed all her  athleticism to edge Romania ahead of the United States in the  Olympic women's gymnastics team qualifying Sunday.\",\n",
       " 'Flyers center Jeremy Roenick paid more than \\\\$100,000 to a Florida firm that made millions selling betting tips to gamblers, law enforcement officials told The Philadelphia Inquirer.',\n",
       " \"AP - Bothered more by the wind and her wrist wrap than her opponent, defending gold medalist Venus Williams overpowered Melinda Czink of Hungary 6-1, 6-2 in the opening match of the Athens Games' tennis tournament. Andy Roddick made his Olympic debut with a 6-3, 7-6 (4) victory over Flavio Saretta of Brazil, swatting 12 aces and 16 service winners.\",\n",
       " ' ATHENS (Reuters) - American Misty May gave team mate Kerri  Walsh an ideal 26th birthday present with an easy victory over  Japan in their opening match of the Olympics beach volleyball  tournament on Sunday.',\n",
       " \"The United States men's basketball team lost to Puerto Rico, 92-73. The loss could put the American gold medal hopes in jeopardy.\",\n",
       " \" BUDAPEST (Reuters) - Michael Schumacher cruised to a record  12th win of the season in the Hungarian Grand Prix on Sunday to  hand his Ferrari team a sixth successive constructors' title.\",\n",
       " 'AP - Nicholls State football coach Daryl Daye was fired Sunday over accusations of academic fraud involving players and an assistant coach. Daye was not implicated in the alleged fraud, but an investigation found he failed to \"maintain proper controls\" of the assistant, the Southland Conference school said.',\n",
       " \" ATHENS (Reuters) - Iraq's fairytale Olympic run continued  on Sunday when they beat Costa Rica 2-0 to reach the  quarter-finals of the Athens Games.\",\n",
       " \"South Africa won the gold medal Sunday in the men's 400-meter freestyle relay with a world-record time of 3 minutes 13.17 seconds.\",\n",
       " \"AP - David Newhan tied a career high with four hits, including a go-ahead double in Baltimore's eight-run eighth inning, and the Orioles rallied for an 11-7 victory over the Toronto Blue Jays on Sunday.\",\n",
       " 'AP - Brett Tomko allowed one run in six innings for his first win in nearly a month and helped San Francisco complete a three-game sweep of the Philadelphia Phillies with a 3-1 victory Sunday.',\n",
       " \" ATHENS (Reuters) - South Africa ruined Michael Phelps's  dream of winning a record eight gold medals in a dramatic and  controversial day of swimming at the Athens Olympics on Sunday.\",\n",
       " 'NEW YORK (AP) -- Randy Johnson took a four-hitter into the ninth inning to help the Arizona Diamondbacks end a nine-game losing streak Sunday, beating Steve Trachsel and the New York Mets 2-0.',\n",
       " 'Eagles running back Bruce Perry will miss his rookie season after dislocating a shoulder in an exhibition game against the New England Patriots.',\n",
       " ' KOHLER, Wisconsin (Reuters) - American Justin Leonard  stayed on track for his second major title in the U.S. PGA  Championship final round on Sunday, moving two shots clear with  nine holes to play.',\n",
       " \"AP - Fullback Fred Beasley could be sidelined until the 49ers' season opener Sept. 12 against the Atlanta Falcons with a high left ankle sprain.\",\n",
       " 'AP - Adrian Beltre and Shawn Green homered, and Steve Finley hit a go-ahead RBI single in the eighth inning as the Los Angeles Dodgers rallied for an 8-5 victory over the Chicago Cubs on Sunday.',\n",
       " 'AP - Scoville Jenkins, a 17-year-old from Atlanta, became the first black to win the 18s singles championship of the U.S. Tennis Association Boys Nationals.',\n",
       " 'AP - Luis Castillo tied the score with a ninth-inning single, and pinch-hitter Damion Easley hit a two-run double in the 10th inning that led the Florida Marlins over the Milwaukee Brewers 5-3 Sunday.',\n",
       " 'Reuters - Randy Johnson struck out 14 batters in\\\\8 1/3 innings to help the Arizona Diamondbacks end a nine-game\\\\losing streak with a 2-0 win over the New York Mets on Sunday.',\n",
       " ' NEW YORK (Reuters) - Randy Johnson struck out 14 batters in  8 1/3 innings to help the Arizona Diamondbacks end a nine-game  losing streak with a 2-0 win over the New York Mets on Sunday.',\n",
       " ' NEW YORK (Reuters) - Corey Koskie clubbed a two-run homer  in the top of the 10th inning to help the Minnesota Twins hold  on to first place in the American League Central with a 4-2  road win over the Cleveland Indians.',\n",
       " 'Whistling Straits has received magnificent reviews during the P.G.A. Championship, which is currently in a three-man playoff between Justin Leonard, Vijay Singh and Chris DiMarco.',\n",
       " \"Puerto Rico upsets the United States, 92-73, at the men's basketball preliminaries on Sunday, the first loss at the Games for the three-time defending gold medalists since 1988.\",\n",
       " 'The regular Monday Morning contributors will return to this page next week, as will the weekly poll.',\n",
       " 'Corey Koskie hit a two-run homer in the 10th inning as the Twins overcame a two-run deficit for a 4-2 win Sunday, giving them a two-game lead over the second-place Indians.',\n",
       " \"At 23, pitcher Richard Stahl knows there's still time to impress the Baltimore Orioles' front office. He just needs to stay on the mound long enough.\",\n",
       " 'Reuters - Corey Koskie clubbed a two-run homer\\\\in the top of the 10th inning to help the Minnesota Twins hold\\\\on to first place in the American League Central with a 4-2\\\\road win over the Cleveland Indians.',\n",
       " 'AP - The only birdie Vijay Singh made all day was the only one that mattered. All but counted out of the PGA Championship with a putter that failed him, Singh took advantage of a late collapse by Justin Leonard to get into a three-way playoff Sunday at Whistling Straits, then made the only birdie over the three extra holes to win the final major of the year.',\n",
       " 'Vijay Singh outlasts Justin Leonard and Chris DiMarco in a three-way playoff to win the PGA Championship on Sunday at Whistling Straits in Haven, Wisconsin.',\n",
       " \"AP - Chris DiMarco and Chris Riley faced knee-knocking pressure in the last round of the PGA Championship. And what did they get for their efforts? More of the same. DiMarco and Riley played themselves into the pressure-packed Ryder Cup with their performances Sunday in the year's final major. DiMarco finished second after a three-man, three-hole playoff and Riley was fourth  #151; good enough to knock Jay Haas and Steve Flesch out of the top 10 in the Ryder Cup point standings.\",\n",
       " \"AP - Michael Phelps surely didn't bargain for this. His quest to win eight gold medals is over, doomed by America's worst showing in the 400-meter freestyle relay. Gary Hall Jr. is ticked off. And now comes the toughest race of all against Ian Thorpe. Not exactly what Phelps had in mind when he decided to challenge Mark Spitz.\",\n",
       " 'AP - Reserve forward Toni Nhleko knocked in a header one minute into stoppage time, leading the Dallas Burn to a 1-0 victory over the first-place MetroStars on Sunday.',\n",
       " \"AP - Tiger Woods came up empty in a major again, but he's still the No. 1 ranked player in the world.\",\n",
       " \"AP - Longtime Tennessee Tech women's basketball coach Bill Worrell has agreed to a new three-year contract with the option for three more years, the school announced Sunday.\",\n",
       " \"AP - Brad Ott shot an 8-under 64 on Sunday to win the Nationwide Tour's Price Cutter Charity Championship for his first Nationwide victory.\",\n",
       " \"Ralph Friedgen used a four-letter word to describe his Maryland team's offensive performance in Sunday's practice: blah.\",\n",
       " 'Michael Schumacher won the Hungarian Grand Prix Sunday in Budapest, setting yet another record by becoming the first Formula One driver with 12 victories in a season.',\n",
       " 'When it comes to qualifying for the main draw of the Legg Mason Tennis Classic, Robert Kendrick knows that survival takes precedence and friendships are put on hold.',\n",
       " 'AP - Atlanta Falcons defensive end Patrick Kerney sprained his right knee in practice on Sunday when a lineman rolled on his leg.',\n",
       " 'AP - This is what everyone was waiting for from Willis McGahee. After 19 months of recuperation and countless questions about the strength of his left knee, the Buffalo Bills running back finally provided some answers. McGahee had the go-ahead score on a 1-yard run in his NFL preseason debut, helping the Bills to a 16-6 win over the Denver Broncos on Sunday.',\n",
       " 'Several players outplayed Vijay Singh on Sunday, but nobody outlasted him at the 86th P.G.A. Championship.',\n",
       " \" KOHLER, Wisconsin (Reuters) - Fiji's Vijay Singh held his  composure to win the 86th U.S. PGA Championship in a three-way  playoff on Sunday, clinching the third major title of his  career.\",\n",
       " 'Though Fred Funk had been rather morose after missing the cut by a stroke in the 86th PGA Championship on Friday, there was great joy on Sunday.',\n",
       " 'AP - Unseeded teenager Nicole Vaidisova defeated American Laura Granville 2-6, 6-4, 6-2 in the final of the Vancouver Open on Sunday.',\n",
       " 'Scott Rolen homered twice to become the first NL player to reach 100 RBIs this season as the St. Louis Cardinals downed the Atlanta Braves, 10-4, on Sunday night.',\n",
       " 'Braves General Manager John Schuerholz shuffled his deck more than usual this past offseason so doubts were high. Such a challenge makes this season all the sweeter.',\n",
       " 'AP - Hal Sutton had a good idea what kind of U.S. team he would take to the Ryder Cup. All that changed in the final round of the PGA Championship.',\n",
       " \"If the Rolling Stones were hired to write the theme song for this year's Red Sox, the group might overhaul one of their classics. Instead of  quot;Satisfaction, quot; they could go with  quot;Separation. quot; That's because no matter how hard they try, the Sox can't get no separation in their quest for the top spot in the wild-card race.\",\n",
       " \"It's a case he could have made more convincingly with something other than a half-swing tapper to the pitcher for the final out of yet another in a seemingly endless series of one-run losses for the Red Sox. But Orlando Cabrera wants fans to believe this: For all the futile swings he has made in his two-week incarnation as a ...\",\n",
       " \"Names Chris Pronger of the St. Louis Blues pulled out of the World Cup of Hockey yesterday with an undisclosed injury, and was replaced on the Canadian team by Jay Bouwmeester of the Florida Panthers. Pronger's decision comes less than a week before the Canadian team opens training camp. The team will practice for the first time Friday in Ottawa. ...\",\n",
       " 'Brett Tomko allowed one run in six innings for his first win in nearly a month, and the San Francisco Giants closed in on the wild-card lead with a 3-1 victory over the Phillies yesterday in Philadelphia, completing a three-game sweep.',\n",
       " 'The Red Sox have company atop the wild-card standings. In Arlington, Texas, Laynce Nix homered and drove in three runs, including a tiebreaking sacrifice fly, and the Rangers beat the Tampa Bay Devil Rays, 6-2, yesterday to sweep the three-game series.',\n",
       " \"The cheers went up the instant Willis McGahee took the field. How's that for pressure?\",\n",
       " \"FOXBOROUGH -- Matt Light lost his appendix this summer and, as a result, quite a few pounds, but he didn't lose one ounce of his wit.\",\n",
       " \"Revolution coach Steve Nicol is not taking credit for the emergence of Andy Dorman. But Nicol's tactical moves helped place Dorman in a position to score his first two goals as a professional, in the final seconds of a 3-0 win at Dallas Wednesday and on his first touch of Saturday night's game at D.C. United for the Revolution's second ...\",\n",
       " \"ATHENS -- During yesterday's celebration of the assumption of the Virgin Mary, the Greek orthodox clergy had a stern reminder for the organizers of the Olympic Games: No matter what the advertisements and speeches say about Greece's modern, Western orientation, this country is still the domain of its decidedly traditional, ubiquitous state-sanctioned religion. Speaking over the Byzantine chants of a ...\",\n",
       " \"Manu Ginobili's off-balance shot left his hand just a split-second before the final buzzer, dropping through the basket to give Argentina an 83-82 victory over Serbia-Montenegro yesterday on the first day of Olympic men's basketball in Athens.\",\n",
       " 'Sports car ace Ron Fellows nearly pulled off what arguably would have been the biggest upset in NASCAR history, finishing second after starting last yesterday at Watkins Glen (N.Y.) International.',\n",
       " \"The US men's and women's eights pulled off huge victories in yesterday's Olympic rowing heats, each setting world bests to advance directly to Sunday's finals.\",\n",
       " \"ATHENS -- The evening began on a down note for the US swimming team, and descended from there. First, world champion Jenny Thompson struggled home fifth in the 100-meter butterfly. Then world record-holder Brendan Hansen was caught by Japan's Kosuke Kitajima in the 100 breaststroke. Finally, the men's 4 x 100 freestyle relay finished third behind South Africa and the ...\",\n",
       " 'Tony Azevedo whizzed a last-second shot past Croatian goalkeeper Frano Vican to give the American water polo team a 7-6 victory in its tournament opener yesterday.',\n",
       " \"ATHENS -- Did Japan's Kosuke Kitajima break the rules when he beat world record-holder Brendan Hansen by 17-100ths of a second in yesterday's Olympic 100-meter breaststroke? Absolutely, insisted Hansen's US teammates, who claimed Kitajima routinely uses the illegal dolphin kick.\",\n",
       " 'ATHENS -- When the Olympic softball schedule was released, Lisa Fernandez grabbed a marker and began counting down the days.  quot;This game is always on my calendar, quot; she said.  quot;I have a tremendous history with Australia. quot; And until yesterday, mostly a haunting one.',\n",
       " \"ATHENS -- There's only room for one Cinderella in a boxing ring. That was the sad lesson Andre Berto learned last night as his long road to the Olympic Games came to an abrupt end at the Peristeri Boxing Hall in his first fight in the welterweight division. First fight, that is, unless you understand what it took for him ...\",\n",
       " ' ATHENS (Reuters) - Michael Phelps, one gold won but one of  his eight title chances now lost, takes on Ian Thorpe and  Pieter van den Hoogenband in their long-awaited showdown in the  200 meters freestyle final on Monday.',\n",
       " 'AP - The Minnesota Twins left Cleveland clinging to first place in the AL Central  #151; and already looking ahead to their next showdown with the surprising Indians.',\n",
       " ' ATHENS (Reuters) - Greek sprinters Costas Kenteris and  Katerina Thanou won a two-day reprieve at the Athens Olympics  when a disciplinary hearing investigating their missed drugs  tests was adjourned until Wednesday.',\n",
       " \" ATHENS (Reuters) - A doping probe that has dogged the host  country's Olympic Games staggered toward farce on Monday when a  hearing involving Greece's two top sprinters was postponed  again.\",\n",
       " \" KOHLER, Wis. (Reuters) - Fiji's Vijay Singh held his  composure to win the 86th U.S. PGA Championship in a three-way  playoff on Sunday, clinching the third major title of his  career.\",\n",
       " ' ATHENS (Reuters) - American sprinter Lauryn Williams said  on Monday she would have no problem competing on the same team  as Marion Jones in the Olympic 4x100 meters relay.',\n",
       " \" ATHENS (Reuters) - Spanish third seed Carlos Moya tamed a  swirling wind and dogged Swedish opponent Thomas Enqvist to  reach the second round of the Olympic men's singles with a 7-6,  6-7, 9-7 victory Monday.\",\n",
       " \"AP - Greetings from the Olympic men's basketball tournament, where America is tied for last place with Angola, Australia, New Zealand, China and the defending world champions from Serbia-Montenegro.\",\n",
       " 'AP - Czech Republic national ice hockey team coach, and former Pittsburgh Penguins coach, Ivan Hlinka died Monday after sustaining serious injuries in a car crash, an official said.',\n",
       " ' ATHENS (Reuters) - Greek sprinters Costas Kenteris and  Katerina Thanou won a two-day reprieve at the Athens Olympics  Monday so they could appear in person at a disciplinary hearing  into their missed drugs tests and protest their innocence.',\n",
       " \"AP - The New England Patriots signed first-round draft pick Benjamin Watson on Monday, ending the tight end's lengthy holdout.\",\n",
       " \"Jay Haas became the second-oldest player to be on the Ryder Cup team, joining Stewart Cink as the two captain's picks Monday for a U.S. team that will try to regain the cup from Europe next month.\",\n",
       " \"Brooklyn-native Yvette Jarvis is an 'every woman' in Greece: professional basketball player, model, TV and talk show star and Athens councilwoman.\",\n",
       " 'U.S. sprinter Torri Edwards appeared for a hearing on her doping case that will determine whether the reigning 100-meter world champion competes in the Athens Games.',\n",
       " \"In another setback to the prosecution in the Kobe Bryant sexual assault case, the court maintains ruling that allows information about the accuser's sex life into court.\",\n",
       " 'AP - They washed cars, put up posters and sold T-shirts to raise the money to be here. When it was finally time for Vicente Escobedo to fight, his family and friends welcomed him into the arena by waving his picture and chanting \"Chente, Chente.\"',\n",
       " 'AP - Timeline of the sexual assault case against Los Angeles Lakers star Kobe Bryant:',\n",
       " ' Chicago, Ill. (Sports Network) - The Chicago Blackhawks  Monday agreed to terms on a one-year contract with defenseman  Bryan Berard. As per team policy, financial terms of the deal  were not disclosed.',\n",
       " \"Reuters - The New England Patriots\\\\Monday announced the signing of first-round draft pick Benjamin\\\\Watson. As per team policy, terms of the tight end's deal were\\\\not released.\",\n",
       " \" ATHENS (Reuters) - Australian swimmer Ian Thorpe beat  arch-rival Michael Phelps in the men's 200-meter freestyle on  Monday as the United States pursued China, Australia and Japan  in the medals table on day three of the Olympic Games.\",\n",
       " \" ATHENS (Reuters) - Australian swimmer Ian Thorpe beat  arch-rival Michael Phelps in the men's 200-meter freestyle on  Monday as the United States trailed China, Australia and Japan  in the medals table on day three of the Olympic Games.\",\n",
       " 'AP - An official from the World Golf Hall of Fame joined a casual conversation last year about players on the verge of election, and someone mentioned Vijay Singh.',\n",
       " ' SAN ANTONIO, Texas (Reuters) - Former International Boxing  Federation (IBF) super flyweight champion Robert Quiroga was  killed early Monday, police said.',\n",
       " ' ATHENS (Reuters) - Australia\\'s Ian Thorpe won the gold  medal in the men\\'s 200 meters freestyle, dubbed the \"race of  the century,\" at the Athens Olympics on Monday.',\n",
       " \"Reuters - The trial in the Kobe Bryant rape\\\\case looked set to go ahead later this month after the state's\\\\highest court ruled against prosecutors on Monday over a key\\\\piece of evidence in the high-profile case.\",\n",
       " 'AP - Chicago White Sox manager Ozzie Guillen was suspended Monday for two games and fined an undisclosed amount for arguing with umpires during an Aug. 9 game against Cleveland.',\n",
       " \" EAGLE, Colo. (Reuters) - The trial in the Kobe Bryant rape  case looked set to go ahead later this month after the state's  highest court ruled against prosecutors on Monday over a key  piece of evidence in the high-profile case.\",\n",
       " 'AP - Larry Brown was despondent, the head of the U.S. selection committee was defensive, and Allen Iverson was hanging up on callers who asked what went wrong. A day after their first Olympic loss in 16 years, the Americans were experiencing varying degrees of distress.',\n",
       " ' ATHENS (Reuters) - Twice Olympic beach volleyball medallist  Natalie Cook helped new team mate Nicole Sanderson battle  nerves to propel Australia to a 21-19, 17-21, 17-15 win against  China Monday.',\n",
       " 'AP - All-Star outfielder Ken Griffey Jr. had surgery Monday to repair his torn right hamstring and is expected to return for spring training.',\n",
       " 'AP - Vaclav Prospal is returning to the Stanley Cup champion Tampa Bay Lightning and will likely take the spot of forward Cory Stillman, who replaced him a year ago.',\n",
       " 'AP - Brett Favre would love to throw fewer interceptions this season. He\\'s just not sure he can. \"It\\'s hard to teach an old dog new tricks, and that\\'s never more true than with me,\" said Favre, who was picked off 21 times last season, one less than NFL co-leaders Joey Harrington and Marc Bulger. \"When I roll out to pass, I feel like there\\'s a touchdown waiting.',\n",
       " 'Venus Williams and Chanda Rubin lose to Li Ting and Sun Tian Tian of China in the first round of the doubles tournament.',\n",
       " 'AP - A short walk around the California campus this summer was all Geoff McArthur needed as proof of how much Golden Bears football has changed since his freshman year. A program that won only one game in 2001 and has the longest Rose Bowl drought of any Big Ten or Pac-10 team is finally getting noticed at a school more known for its protests than its passing.',\n",
       " \"AP - Cubs pitcher Kerry Wood's appeal was rejected Monday and he will begin serving his five-game suspension Tuesday.\",\n",
       " 'AP - Following a mass exodus of offensive stars and starting quarterbacks, defense could dominate the Big Ten this season.',\n",
       " \" ATHENS (Reuters) - Venus Williams's bid for a second  successive Olympic doubles tennis gold ended on Monday when she  and stand-in partner Chanda Rubin lost 7-5, 1-6, 6-3 to Chinese  eighth seeds Li Ting and Sun Tian Tian in the first round.\",\n",
       " \" ATHENS (Reuters) - Japan revived memories of their glorious  gymnastics past when they upstaged favorites China and United  States to snatch the Olympic men's team gold for the first time  in 28 years Monday.\",\n",
       " \"AP - Twenty years later, the boys are back on the medal stand. The American men's gymnastics program, long overlooked and often unappreciated, won Olympic silver Monday, capping a four-year rebuilding project to take home a medal for the first time since the boycotted 1984 Games.\",\n",
       " \" ATHENS (Reuters) - The dream of emulating Mark Spitz's  seven Olympic gold medals is over for Michael Phelps but the  American refused to be disappointed after finishing third in  the most eagerly-awaited race of the Athens Games Monday.\",\n",
       " \" ATHENS (Reuters) - Natalie Coughlin's run of bad luck  finally took a turn for the better when she won the gold medal  in the women's 100 meters backstroke at the Athens Olympics  Monday.\",\n",
       " \"Australia's Ian Thorpe soared past Pieter van den Hoogenband of the Netherlands to win the most anticipated race of the Olympics. Michael Phelps finished third.\",\n",
       " 'Recently released outfielder Shane Spencer rejoined the Yankees on Monday, signing a minor league contract after working out at their spring training complex.',\n",
       " \"Going with experience, Hal Sutton named Jay Haas and Stewart Cink as captain's selections for this year's United States Ryder Cup team.\",\n",
       " ' ATHENS (Reuters) - Told to avoid inflaming anti-American  sentiment, U.S. athletes may have toned down the bravado too  much in the early days of the Athens Games.',\n",
       " ' ATHENS (Reuters) - To prepare for the Olympics, Kerri  Pottharst practiced serving with her team mate screaming in her  ear.',\n",
       " \"AP - The NFL Players Association has gotten involved in Quincy Carter's release by the Dallas Cowboys.\",\n",
       " 'AP - The Los Angeles Galaxy fired coach Sigi Schmid on Monday despite leading Major League Soccer with 34 points.',\n",
       " ' ATHENS (Reuters) - Ian Thorpe became Australia\\'s greatest  Olympian and staked a claim to being the best swimmer of his  generation when he won \"the race of the century\" at Athens on  Monday.',\n",
       " \"AP - Ten days after trading for Gary Payton, the Boston Celtics still have no idea if the nine-time All-Star will ever wear a Celtics' uniform.\",\n",
       " \"Reuters - The NFL Players Association\\\\Monday filed a grievance with the Dallas Cowboys over the\\\\recent release of quarterback Quincy Carter, claiming the\\\\organization was in violation of the league's collective\\\\bargaining agreement.\",\n",
       " \" WASHINGTON (Sports Network) - The NFL Players Association  Monday filed a grievance with the Dallas Cowboys over the  recent release of quarterback Quincy Carter, claiming the  organization was in violation of the league's collective  bargaining agreement.\",\n",
       " 'AP - St. Louis Cardinals outfielder Ray Lankford accepted a minor league assignment to Triple-A Memphis on Monday, nine days after leaving the team to consider his career options.',\n",
       " 'AP - The NFL Players Association filed a grievance Monday against the Dallas Cowboys on behalf of Quincy Carter, claiming the quarterback was released by the team for reasons not permitted in the NFL collective bargaining agreement.',\n",
       " 'AP - Former Gold Glove first baseman Doug Mientkiewicz got a rough introduction in his first career start at second base.',\n",
       " \"AP - The kid couldn't catch the Thorpedo  #151; and he won't be catching Mark Spitz, either. Michael Phelps' quest for seven gold medals ended after just three events, doomed by another bronze Monday night in the most anticipated race at the Olympic pool  #151; the head-to-head showdown with Australia's Ian Thorpe in the 200-meter freestyle.\",\n",
       " \"AP - It's approaching two years since Robb Nen last pitched in the majors, but he still believes he can do it again  #151; despite his troublesome right shoulder.\",\n",
       " \" MILWAUKEE, Wisconsin (Reuters) - U.S. Ryder Cup captain Hal  Sutton, opting for form and experience, selected Jay Haas and  Stewart Cink as his wildcard picks for next month's match  against Europe.\",\n",
       " 'AP - Mark Redman pitched eight innings of six-hit ball, and the Oakland Athletics used a three-run fifth inning to beat the Baltimore Orioles 3-1 on Monday night.',\n",
       " 'AP - Lleyton Hewitt breezed to a 6-1, 6-2 win over Kenneth Carlsen Monday night in the first round of the Legg Mason Tennis Classic.',\n",
       " 'Ivan Hlinka coached the Czech Republic to the hockey gold medal at the 1998 Nagano Olympics and became the coach of the Pittsburgh Penguins two years later.',\n",
       " \"AP - Fourth-string quarterback Seneca Wallace led Seattle on two touchdown drives and the Seahawks took advantage of Tim Couch's dismal debut for Green Bay in a 21-3 exhibition victory over the Packers on Monday night.\",\n",
       " 'AP - Brian Jordan hit a tiebreaking homer in the sixth inning and the Texas Rangers extended their winning streak to four games with a 5-2 victory over the Cleveland Indians on Monday night.',\n",
       " \"AP - Chipper Jones hit his 300th career home run on Monday night, connecting in the Atlanta Braves' game at San Diego.\",\n",
       " \"The streaking O's lose for only the third time in 14 games as A's starting pitcher Mark Redman pitches eight strong innings to tame the Orioles, 3-1, on Monday night.\",\n",
       " 'Cornerback Walt Harris suits up for his first full practice as a Redskin on Monday after missing minicamp and the first two weeks of training camp.',\n",
       " \"Chris Simms, the Buccaneers second-year pro competing for Tampa Bay's No. 2 job, completed 12 of 15 passes for 110 yards to help the Bucs to a 20-6 victory over the Cincinnati Bengals on Monday.\",\n",
       " 'Fourth-string quarterback Seneca Wallace led Seattle on two touchdown drives as the Seahawks defeated the Packers, 21-3, on Monday night.',\n",
       " 'The NFL told its coaches Monday that they must be more specific in reporting injuries to players, saying the current wording of the policy \"invites action that runs counter to our intent.\"',\n",
       " 'AP - 1904  #151; Jesse Tannehill of the Boston Red Sox pitched a no-hitter, beating the Chicago White Sox 6-0.',\n",
       " 'With two fruitless negotiating sessions behind them and only one month left before an NHL lockout, the league and the players association will return to the bargaining table on Tuesday.',\n",
       " \"AP - Miguel Cabrera homered and Mike Lowell singled home the go-ahead run, helping the Florida Marlins beat the Dodgers 4-2 on Monday night in Paul Lo Duca's return to Los Angeles.\",\n",
       " ' NEW YORK (Reuters) - Mark Redman pitched eight strong  innings as the Oakland Athletics clung on to first place in the  American League West with a 3-1 road win over the Baltimore  Orioles on Monday.',\n",
       " 'Reuters - Albert Pujols homered for the fifth\\\\time in the last four games and drove in five runs as the St\\\\Louis Cardinals routed the Cincinnati Reds 10-5 in National\\\\League play at Busch Stadium on Monday.',\n",
       " ' NEW YORK (Reuters) - Albert Pujols homered for the fifth  time in the last four games and drove in five runs as the St  Louis Cardinals routed the Cincinnati Reds 10-5 in National  League play at Busch Stadium on Monday.',\n",
       " \"AP - Ten days after trading for Gary Payton, the Boston Celtics still have no idea if the nine-time All-Star will ever wear a Celtics' uniform.\",\n",
       " ...]"
      ]
     },
     "execution_count": 135,
     "metadata": {},
     "output_type": "execute_result"
    }
   ],
   "source": []
  },
  {
   "cell_type": "code",
   "execution_count": 137,
   "metadata": {
    "ExecuteTime": {
     "end_time": "2020-02-15T14:18:03.806523Z",
     "start_time": "2020-02-15T14:18:03.798279Z"
    }
   },
   "outputs": [],
   "source": [
    "tc_tr_text, tc_tr_label = text_label_split(tc_tr)\n",
    "tc_ts_text, tc_ts_label = text_label_split(tc_ts)\n",
    "tc_dev_text, tc_dev_label = text_label_split(tc_dev)\n",
    "\n",
    "tc_tr_text = [s.lower() for s in tc_tr_text]\n",
    "tc_ts_text = [s.lower() for s in tc_ts_text]\n",
    "tc_dev_text = [s.lower() for s in tc_dev_text]"
   ]
  },
  {
   "cell_type": "code",
   "execution_count": 138,
   "metadata": {},
   "outputs": [
    {
     "name": "stdout",
     "output_type": "stream",
     "text": [
      "5000\n",
      "\n",
      "['reuters', 'said', 'tuesday', 'new', 'wednesday', 'after', 'athens', 'ap', 'monday', 'first', 'their', 'us', 'olympic', 'york', ('new', 'york'), 'two', 'over', 'will', 'but', 'oil', 'inc', 'more', 'prices', 'year', 'company', 'world', 'gt', 'lt', 'than', 'aug', 'about', 'had', 'one', 'united', 'out', 'sunday', 'against', 'up', 'quot', 'into', 'fullquote', 'second', 'last', 'stocks', 'team', 'president', 'gold', 'percent', 'iraq', 'three', 'when', 'greece', 'night', ('york', 'reuters'), ('new', 'york', 'reuters'), 'time', 'not', 'no', 'games', 'yesterday', 'home', 'olympics', 'washington', 'states', 'off', ('united', 'states'), 'google', ('oil', 'prices'), 'day', 'public', 'billion', 'record', ('athens', 'reuters'), 'week', 'win', 'all', 'men', 'government', 'won', ('said', 'tuesday'), 'najaf', 'american', 'years', 'officials', 'today', 'city', 'would', 'shares', 'offering', 'people', 'final', 'medal', 'minister', 'afp', 'corp', 'sales', 'million', 'back', 'four', 'investor']\n",
      "\n",
      "[('reuters', 631), ('said', 432), ('tuesday', 413), ('wednesday', 344), ('new', 325), ('after', 295), ('ap', 275), ('athens', 245), ('monday', 221), ('first', 210)]\n"
     ]
    }
   ],
   "source": [
    "vocab_tc, df_tc, ngram_counts_tc = get_vocab(tc_tr_text, ngram_range=(1,3), keep_topN=5000, stop_words=stop_words)\n",
    "print(len(vocab_tc))\n",
    "print()\n",
    "print(list(vocab_tc)[:100])\n",
    "print()\n",
    "print(df_tc.most_common()[:10])"
   ]
  },
  {
   "cell_type": "code",
   "execution_count": 39,
   "metadata": {
    "ExecuteTime": {
     "end_time": "2020-02-15T14:18:04.508938Z",
     "start_time": "2020-02-15T14:18:04.171071Z"
    }
   },
   "outputs": [
    {
     "name": "stdout",
     "output_type": "stream",
     "text": [
      "5000\n",
      "\n",
      "['questions', ('exhibition', 'game'), ('computer', 'maker'), ('chavez', 'won'), ('invoices', 'halliburton'), ('den', 'hoogenband', 'netherlands'), 'body', ('anterior', 'cruciate'), ('billion', 'cash', 'stock'), ('nortel', 'networks', 'corp'), ('offering', 'nearly'), ('prime', 'minister'), ('july', 'first', 'time'), 'strong', ('hang', 'over'), 'model', 'ease', 'assets', 'category', 'family', 'disappeared', ('olympic', 'men'), 'couldn', 'why', 'shift', ('world', 'largest', 'food'), 'oust', ('settler', 'homes'), ('jerusalem', 'reuters'), ('wisconsin', 'reuters'), 'luis', 'bowl', ('monday', 'said', 'quarterly'), ('baltimore', 'orioles'), ('more', 'israeli'), ('army', 'had', 'decided'), 'economic', ('after', 'web', 'no'), 'lynn', ('defensive', 'end'), 'according', 'facilities', ('company', 'wednesday'), ('lt', 'gt', 'wednesday'), 'tutsi', ('dillard', 'inc'), 'outside', 'protect', 'uk', 'weather', 'sell', 'pile', 'immediately', 'senate', ('venus', 'williams'), ('four', 'months'), 'pope', ('assistant', 'manager'), 'nyse', 'place', 'needs', 'needed', 'competition', 'powerful', 'outlooks', 'expected', 'gave', ('holding', 'corp'), ('minister', 'alexander'), 'spectacular', ('world', 'biggest'), 'barrel', ('store', 'sales'), 'venezuela', 'groups', 'robert', 'calf', 'brokerage', ('fears', 'about', 'country'), ('retailer', 'behind'), 'kid', 'latest', 'street', 'allow', 'surge', 'living', ('aug', 'reuters'), 'aware', 'thens', 'stunned', 'sending', 'sharon', 'south', 'draw', 'wall', 'declare', ('inc', 'said'), 'lows', ('cincinnati', 'reds'), 'families']\n",
      "\n",
      "[('reuters', 631), ('said', 432), ('tuesday', 413), ('wednesday', 344), ('new', 325), ('after', 295), ('ap', 275), ('athens', 245), ('monday', 221), ('first', 210)]\n"
     ]
    }
   ],
   "source": [
    "print(len(vocab))\n",
    "print()\n",
    "print(list(vocab)[:100])\n",
    "print()\n",
    "print(df.most_common()[:10])"
   ]
  },
  {
   "cell_type": "markdown",
   "metadata": {},
   "source": [
    "Now you need to change `SGD` to support multiclass datasets. First you need to develop a `softmax` function. It takes as input:\n",
    "\n",
    "- `z`: array of real numbers \n",
    "\n",
    "and returns:\n",
    "\n",
    "- `smax`: the softmax of `z`"
   ]
  },
  {
   "cell_type": "code",
   "execution_count": 208,
   "metadata": {
    "ExecuteTime": {
     "end_time": "2020-02-15T14:18:07.440998Z",
     "start_time": "2020-02-15T14:18:07.437915Z"
    }
   },
   "outputs": [],
   "source": [
    "def softmax(z):\n",
    "    \n",
    "    return np.exp(z) / np.sum(np.exp(z), axis=1).reshape(-1,1)"
   ]
  },
  {
   "cell_type": "markdown",
   "metadata": {},
   "source": [
    "Then modify `predict_proba` and `predict_class` functions for the multiclass case:"
   ]
  },
  {
   "cell_type": "code",
   "execution_count": 202,
   "metadata": {
    "ExecuteTime": {
     "end_time": "2020-02-15T14:18:07.445451Z",
     "start_time": "2020-02-15T14:18:07.442851Z"
    }
   },
   "outputs": [],
   "source": [
    "def predict_proba_multi(X, weights):\n",
    "    \n",
    "    preds_proba = softmax(X.dot(weights))    \n",
    "    return preds_proba"
   ]
  },
  {
   "cell_type": "code",
   "execution_count": 215,
   "metadata": {
    "ExecuteTime": {
     "end_time": "2020-02-15T14:18:07.449814Z",
     "start_time": "2020-02-15T14:18:07.447145Z"
    }
   },
   "outputs": [],
   "source": [
    "def predict_class_multi(X, weights):\n",
    "    \n",
    "    return np.argmax(X.dot(weights), axis = 1) + 1\n"
   ]
  },
  {
   "cell_type": "markdown",
   "metadata": {},
   "source": [
    "Toy example and expected functionality of the functions above:"
   ]
  },
  {
   "cell_type": "code",
   "execution_count": 203,
   "metadata": {
    "ExecuteTime": {
     "end_time": "2020-02-15T14:18:08.059902Z",
     "start_time": "2020-02-15T14:18:08.056774Z"
    }
   },
   "outputs": [],
   "source": [
    "X = np.array([[0.1,0.2],[0.2,0.1],[0.1,-0.2]])\n",
    "w = np.array([[2,-5],[-5,2]])"
   ]
  },
  {
   "cell_type": "code",
   "execution_count": 209,
   "metadata": {},
   "outputs": [
    {
     "data": {
      "text/plain": [
       "array([[0.33181223, 0.66818777],\n",
       "       [0.66818777, 0.33181223],\n",
       "       [0.89090318, 0.10909682]])"
      ]
     },
     "execution_count": 209,
     "metadata": {},
     "output_type": "execute_result"
    }
   ],
   "source": [
    "predict_proba_multi(X, w)"
   ]
  },
  {
   "cell_type": "code",
   "execution_count": 216,
   "metadata": {},
   "outputs": [
    {
     "data": {
      "text/plain": [
       "array([2, 1, 1])"
      ]
     },
     "execution_count": 216,
     "metadata": {},
     "output_type": "execute_result"
    }
   ],
   "source": [
    "predict_class_multi(X, w)"
   ]
  },
  {
   "cell_type": "markdown",
   "metadata": {},
   "source": [
    "Now you need to compute the categorical cross entropy loss (extending the binary loss to support multiple classes)."
   ]
  },
  {
   "cell_type": "code",
   "execution_count": 223,
   "metadata": {},
   "outputs": [
    {
     "ename": "ValueError",
     "evalue": "operands could not be broadcast together with shapes (3,) (3,2) ",
     "output_type": "error",
     "traceback": [
      "\u001b[0;31m---------------------------------------------------------------------------\u001b[0m",
      "\u001b[0;31mValueError\u001b[0m                                Traceback (most recent call last)",
      "\u001b[0;32m<ipython-input-223-d68a61b00d59>\u001b[0m in \u001b[0;36m<module>\u001b[0;34m\u001b[0m\n\u001b[1;32m      1\u001b[0m \u001b[0mY_prob\u001b[0m \u001b[0;34m=\u001b[0m \u001b[0mpredict_proba_multi\u001b[0m\u001b[0;34m(\u001b[0m\u001b[0mX\u001b[0m\u001b[0;34m,\u001b[0m \u001b[0mw\u001b[0m\u001b[0;34m)\u001b[0m\u001b[0;34m\u001b[0m\u001b[0;34m\u001b[0m\u001b[0m\n\u001b[1;32m      2\u001b[0m \u001b[0mY\u001b[0m \u001b[0;34m=\u001b[0m \u001b[0mnp\u001b[0m\u001b[0;34m.\u001b[0m\u001b[0marray\u001b[0m\u001b[0;34m(\u001b[0m\u001b[0;34m[\u001b[0m\u001b[0;36m2\u001b[0m\u001b[0;34m,\u001b[0m\u001b[0;36m2\u001b[0m\u001b[0;34m,\u001b[0m\u001b[0;36m1\u001b[0m\u001b[0;34m]\u001b[0m\u001b[0;34m)\u001b[0m\u001b[0;34m\u001b[0m\u001b[0;34m\u001b[0m\u001b[0m\n\u001b[0;32m----> 3\u001b[0;31m \u001b[0mY\u001b[0m\u001b[0;34m*\u001b[0m\u001b[0mnp\u001b[0m\u001b[0;34m.\u001b[0m\u001b[0mlog\u001b[0m\u001b[0;34m(\u001b[0m\u001b[0mY_prob\u001b[0m\u001b[0;34m)\u001b[0m\u001b[0;34m\u001b[0m\u001b[0;34m\u001b[0m\u001b[0m\n\u001b[0m",
      "\u001b[0;31mValueError\u001b[0m: operands could not be broadcast together with shapes (3,) (3,2) "
     ]
    }
   ],
   "source": [
    "Y_prob = predict_proba_multi(X, w)\n",
    "Y = np.array([2,2,1])\n",
    "Y*np.log(Y_prob)"
   ]
  },
  {
   "cell_type": "code",
   "execution_count": 1,
   "metadata": {
    "ExecuteTime": {
     "end_time": "2020-02-15T14:30:48.047338Z",
     "start_time": "2020-02-15T14:30:48.044395Z"
    }
   },
   "outputs": [],
   "source": [
    "def categorical_loss(X, Y, weights, num_classes=5, alpha=0.00001):\n",
    "    \n",
    "    Y_prob = predict_proba_multi(X, weights)\n",
    "#     l =  -np.sum(Y * np.log(Y_prob) + (1 - Y) * np.log(1 - Y_prob)) / len(Y) + alpha * np.sum(weights ** 2)\n",
    "    m = Y_prob\n",
    "    l =  - np.sum(Y_prob * np.log(Y))\n",
    "    return l\n",
    "    \n",
    "    "
   ]
  },
  {
   "cell_type": "markdown",
   "metadata": {
    "ExecuteTime": {
     "end_time": "2020-02-15T14:08:59.937442Z",
     "start_time": "2020-02-15T14:08:59.932221Z"
    }
   },
   "source": [
    "Finally you need to modify SGD to support the categorical cross entropy loss:"
   ]
  },
  {
   "cell_type": "code",
   "execution_count": 49,
   "metadata": {
    "ExecuteTime": {
     "end_time": "2020-02-15T14:18:10.176885Z",
     "start_time": "2020-02-15T14:18:10.165021Z"
    }
   },
   "outputs": [],
   "source": [
    "def SGD(X_tr, Y_tr, X_dev=[], Y_dev=[], num_classes=5, lr=0.01, alpha=0.00001, epochs=5, tolerance=0.001, print_progress=True):\n",
    "    \n",
    "    # fill in your code...\n",
    "\n",
    "    return weights, training_loss_history, validation_loss_history"
   ]
  },
  {
   "cell_type": "markdown",
   "metadata": {
    "ExecuteTime": {
     "end_time": "2020-02-15T14:10:15.772383Z",
     "start_time": "2020-02-15T14:10:15.767855Z"
    }
   },
   "source": [
    "Now you are ready to train and evaluate you MLR following the same steps as in Task 1 for both Count and tfidf features:"
   ]
  },
  {
   "cell_type": "code",
   "execution_count": 50,
   "metadata": {
    "ExecuteTime": {
     "end_time": "2020-02-15T14:18:55.324956Z",
     "start_time": "2020-02-15T14:18:11.720952Z"
    }
   },
   "outputs": [
    {
     "name": "stderr",
     "output_type": "stream",
     "text": [
      "/anaconda3/lib/python3.7/site-packages/ipykernel_launcher.py:55: DeprecationWarning: elementwise == comparison failed; this will raise an error in the future.\n"
     ]
    },
    {
     "name": "stdout",
     "output_type": "stream",
     "text": [
      "Epoch: 0| Training loss: 1.0797445295473487| Validation loss: 1.081372090349833\n",
      "Epoch: 1| Training loss: 1.079316160352198| Validation loss: 1.0640685482079149\n",
      "Epoch: 2| Training loss: 1.0560473439817515| Validation loss: 1.0466716664674833\n",
      "Epoch: 3| Training loss: 1.0823272116547453| Validation loss: 1.0293144599016153\n",
      "Epoch: 4| Training loss: 1.0541411400498168| Validation loss: 1.0120430537618956\n",
      "Epoch: 5| Training loss: 0.6018201485747277| Validation loss: 0.9949501699020834\n",
      "Epoch: 6| Training loss: 0.9408020769124341| Validation loss: 0.9780518842493735\n",
      "Epoch: 7| Training loss: 0.9785218029526777| Validation loss: 0.961399507260303\n",
      "Epoch: 8| Training loss: 1.105504123262664| Validation loss: 0.945017429821232\n",
      "Epoch: 9| Training loss: 0.9330426453622344| Validation loss: 0.9289397744769093\n",
      "Epoch: 10| Training loss: 0.7202271854150083| Validation loss: 0.9131712383598369\n",
      "Epoch: 11| Training loss: 0.980165568395653| Validation loss: 0.8977588631301825\n",
      "Epoch: 12| Training loss: 0.9350596877302814| Validation loss: 0.8826257874396408\n",
      "Epoch: 13| Training loss: 1.015964417226491| Validation loss: 0.8678640000045689\n",
      "Epoch: 14| Training loss: 0.7853481727623568| Validation loss: 0.8534092079475973\n",
      "Epoch: 15| Training loss: 1.1280839072469695| Validation loss: 0.8392859262760239\n",
      "Epoch: 16| Training loss: 0.45596125168525925| Validation loss: 0.8254557688887008\n",
      "Epoch: 17| Training loss: 1.0070191455181927| Validation loss: 0.8120053087983156\n",
      "Epoch: 18| Training loss: 0.9938827745552048| Validation loss: 0.7989146470042358\n",
      "Epoch: 19| Training loss: 0.5941619165230784| Validation loss: 0.7861148779646865\n",
      "Epoch: 20| Training loss: 0.347645483062249| Validation loss: 0.773639617757056\n",
      "Epoch: 21| Training loss: 0.8615779910495689| Validation loss: 0.7614413103814573\n",
      "Epoch: 22| Training loss: 0.8559620095999312| Validation loss: 0.7495740843572936\n",
      "Epoch: 23| Training loss: 0.7123026165421295| Validation loss: 0.7380118770283757\n",
      "Epoch: 24| Training loss: 0.628420348319027| Validation loss: 0.7267497405327836\n",
      "Epoch: 25| Training loss: 1.1143453645268255| Validation loss: 0.7157650456550849\n",
      "Epoch: 26| Training loss: 0.5053554837538091| Validation loss: 0.7050752398160355\n",
      "Epoch: 27| Training loss: 0.8580561710864723| Validation loss: 0.6946265481406195\n",
      "Epoch: 28| Training loss: 1.0145821027394442| Validation loss: 0.6844644903515154\n",
      "Epoch: 29| Training loss: 0.889803100593025| Validation loss: 0.6745416521972386\n",
      "Epoch: 30| Training loss: 0.3512373705994844| Validation loss: 0.6649076709998702\n",
      "Epoch: 31| Training loss: 0.6946077278013651| Validation loss: 0.6554896489368593\n",
      "Epoch: 32| Training loss: 0.5721038746595615| Validation loss: 0.6463159196618706\n",
      "Epoch: 33| Training loss: 0.9286421195752351| Validation loss: 0.6374037446331372\n",
      "Epoch: 34| Training loss: 0.3043301520488227| Validation loss: 0.6286933702647342\n",
      "Epoch: 35| Training loss: 0.8412715058863925| Validation loss: 0.6201950715638889\n",
      "Epoch: 36| Training loss: 1.0162421996444875| Validation loss: 0.6119312128918258\n",
      "Epoch: 37| Training loss: 0.9800875509382644| Validation loss: 0.6038364508265476\n",
      "Epoch: 38| Training loss: 0.2529787526410042| Validation loss: 0.5959680427407086\n",
      "Epoch: 39| Training loss: 0.5204508487025243| Validation loss: 0.5882845644274958\n",
      "Epoch: 40| Training loss: 0.663760559879069| Validation loss: 0.5807678321194896\n",
      "Epoch: 41| Training loss: 0.15865889006553835| Validation loss: 0.5734687699728561\n",
      "Epoch: 42| Training loss: 0.6408607725036662| Validation loss: 0.5663184689700342\n",
      "Epoch: 43| Training loss: 0.2797611441024611| Validation loss: 0.5593606258380786\n",
      "Epoch: 44| Training loss: 0.7852857528209075| Validation loss: 0.552554302011612\n",
      "Epoch: 45| Training loss: 1.006186400841472| Validation loss: 0.5459031927551995\n",
      "Epoch: 46| Training loss: 1.121242812418955| Validation loss: 0.5394152242463135\n",
      "Epoch: 47| Training loss: 0.45275382650303764| Validation loss: 0.5330716806209664\n",
      "Epoch: 48| Training loss: 0.5002302346473977| Validation loss: 0.5268516486205744\n",
      "Epoch: 49| Training loss: 0.2927756479030764| Validation loss: 0.520796556633722\n",
      "Epoch: 50| Training loss: 0.5815213659515958| Validation loss: 0.514875429745833\n",
      "Epoch: 51| Training loss: 0.43511107264972204| Validation loss: 0.509093372083549\n",
      "Epoch: 52| Training loss: 0.2004456471210612| Validation loss: 0.5034369186797815\n",
      "Epoch: 53| Training loss: 0.6927294724851424| Validation loss: 0.4978805528962536\n",
      "Epoch: 54| Training loss: 0.22762255875684806| Validation loss: 0.49248110263913736\n",
      "Epoch: 55| Training loss: 0.41286842099956444| Validation loss: 0.4871768560097116\n",
      "Epoch: 56| Training loss: 0.2858867912825694| Validation loss: 0.4820023098168036\n",
      "Epoch: 57| Training loss: 1.07945594292479| Validation loss: 0.4769355688611146\n",
      "Epoch: 58| Training loss: 0.08632099484327364| Validation loss: 0.4719707627364577\n",
      "Epoch: 59| Training loss: 0.4380467526003749| Validation loss: 0.4671259629523961\n",
      "Epoch: 60| Training loss: 0.4504033371479604| Validation loss: 0.4623682646862233\n",
      "Epoch: 61| Training loss: 0.8991535203093632| Validation loss: 0.45772777193305997\n",
      "Epoch: 62| Training loss: 0.37976053429018847| Validation loss: 0.453170172687834\n",
      "Epoch: 63| Training loss: 0.6690249969029779| Validation loss: 0.4487003465696454\n",
      "Epoch: 64| Training loss: 0.12214122740982129| Validation loss: 0.4443374960034709\n",
      "Epoch: 65| Training loss: 0.6816289535486254| Validation loss: 0.4400584436398409\n",
      "Epoch: 66| Training loss: 0.18194708158942638| Validation loss: 0.4358569111132549\n",
      "Epoch: 67| Training loss: 0.5175968359577696| Validation loss: 0.4317374156856518\n",
      "Epoch: 68| Training loss: 0.2748850713851889| Validation loss: 0.42768780305615756\n",
      "Epoch: 69| Training loss: 0.47027298142101503| Validation loss: 0.42374507168474584\n",
      "Epoch: 70| Training loss: 0.19929430369829634| Validation loss: 0.4198554513354222\n",
      "Epoch: 71| Training loss: 0.3119339792974164| Validation loss: 0.4160593000805275\n",
      "Epoch: 72| Training loss: 0.2802330752147449| Validation loss: 0.4123300080340496\n",
      "Epoch: 73| Training loss: 1.4068722074169777| Validation loss: 0.4086685670109219\n",
      "Epoch: 74| Training loss: 1.2289700039889522| Validation loss: 0.4050692506591351\n",
      "Epoch: 75| Training loss: 0.5879134607806588| Validation loss: 0.4015404749982959\n",
      "Epoch: 76| Training loss: 0.5598034047715446| Validation loss: 0.3980768791999669\n",
      "Epoch: 77| Training loss: 0.4072390166320532| Validation loss: 0.3946781657347487\n",
      "Epoch: 78| Training loss: 0.4720387020720993| Validation loss: 0.39135074144554305\n",
      "Epoch: 79| Training loss: 0.8652127247147093| Validation loss: 0.3880767411953969\n",
      "Epoch: 80| Training loss: 0.49502493338551296| Validation loss: 0.38485336346274324\n",
      "Epoch: 81| Training loss: 0.8478719397159928| Validation loss: 0.3816873793123302\n",
      "Epoch: 82| Training loss: 0.5769432672302212| Validation loss: 0.3785768379529342\n",
      "Epoch: 83| Training loss: 0.25865075231928386| Validation loss: 0.37552080913970615\n",
      "Epoch: 84| Training loss: 0.6780205857236974| Validation loss: 0.37251982296888037\n",
      "Epoch: 85| Training loss: 0.5717729327147981| Validation loss: 0.36958152892125545\n",
      "Epoch: 86| Training loss: 0.7185798657407652| Validation loss: 0.36668874595841955\n",
      "Epoch: 87| Training loss: 0.32730720069458585| Validation loss: 0.3638467143325988\n",
      "Epoch: 88| Training loss: 0.9394375601966297| Validation loss: 0.3610402229621626\n",
      "Epoch: 89| Training loss: 0.5314941113071576| Validation loss: 0.3582963265282113\n",
      "Epoch: 90| Training loss: 0.9159430629959491| Validation loss: 0.3556047452606419\n",
      "Epoch: 91| Training loss: 0.27830594341362347| Validation loss: 0.3529452396878083\n",
      "Epoch: 92| Training loss: 0.08922609875671272| Validation loss: 0.3503285390711649\n",
      "Epoch: 93| Training loss: 0.5109477286610166| Validation loss: 0.34776466510396653\n",
      "Epoch: 94| Training loss: 0.8247015373951916| Validation loss: 0.34523113629834656\n",
      "Epoch: 95| Training loss: 1.4111970700349956| Validation loss: 0.3427459408526143\n",
      "Epoch: 96| Training loss: 0.9973410892711908| Validation loss: 0.3403031775623844\n",
      "Epoch: 97| Training loss: 0.9298826919970149| Validation loss: 0.3378961810444463\n",
      "Epoch: 98| Training loss: 0.14036615190332108| Validation loss: 0.33552333229158426\n",
      "Epoch: 99| Training loss: 0.42857059017867416| Validation loss: 0.3331908153000918\n"
     ]
    },
    {
     "name": "stdout",
     "output_type": "stream",
     "text": [
      "Epoch: 100| Training loss: 0.5909452468922335| Validation loss: 0.3308943792523601\n",
      "Epoch: 101| Training loss: 0.0582537404726638| Validation loss: 0.3286410364885621\n",
      "Epoch: 102| Training loss: 0.8460500582683682| Validation loss: 0.32641969802577286\n",
      "Epoch: 103| Training loss: 0.5298538159246153| Validation loss: 0.324225708977352\n",
      "Epoch: 104| Training loss: 0.3002611196487631| Validation loss: 0.3220709147432522\n",
      "Epoch: 105| Training loss: 0.6857676458335961| Validation loss: 0.31995106501678755\n",
      "Epoch: 106| Training loss: 0.5195060392225062| Validation loss: 0.31785403975508386\n",
      "Epoch: 107| Training loss: 0.6192846034415994| Validation loss: 0.3157920207863501\n",
      "Epoch: 108| Training loss: 0.09917322459957126| Validation loss: 0.31376264796419107\n",
      "Epoch: 109| Training loss: 0.3136491065708976| Validation loss: 0.3117644717911298\n",
      "Epoch: 110| Training loss: 0.2961228303588815| Validation loss: 0.30979000698586306\n",
      "Epoch: 111| Training loss: 0.028415357821764815| Validation loss: 0.30785497759094477\n",
      "Epoch: 112| Training loss: 0.3321063258469021| Validation loss: 0.3059320900816925\n",
      "Epoch: 113| Training loss: 0.2679899421174463| Validation loss: 0.30404511603354395\n",
      "Epoch: 114| Training loss: 0.8990533088234927| Validation loss: 0.30218664002975204\n",
      "Epoch: 115| Training loss: 0.12905768556887146| Validation loss: 0.3003505904610916\n",
      "Epoch: 116| Training loss: 0.4506684356556081| Validation loss: 0.2985291037359777\n",
      "Epoch: 117| Training loss: 0.844468526893116| Validation loss: 0.29674277317528236\n",
      "Epoch: 118| Training loss: 0.6767336880461876| Validation loss: 0.2949822521732923\n",
      "Epoch: 119| Training loss: 0.01799443908408846| Validation loss: 0.29324461004936575\n",
      "Epoch: 120| Training loss: 0.3418078466994673| Validation loss: 0.2915307136152019\n",
      "Epoch: 121| Training loss: 0.6270705561081482| Validation loss: 0.28984127182168334\n",
      "Epoch: 122| Training loss: 1.1478485044448523| Validation loss: 0.2881789628649678\n",
      "Epoch: 123| Training loss: 0.2949766090593473| Validation loss: 0.2865338197457586\n",
      "Epoch: 124| Training loss: 1.4238940813590628| Validation loss: 0.2849148292705895\n",
      "Epoch: 125| Training loss: 0.5994789520817773| Validation loss: 0.28331862128435503\n",
      "Epoch: 126| Training loss: 0.24891273419811613| Validation loss: 0.2817370423727986\n",
      "Epoch: 127| Training loss: 0.39238436079518574| Validation loss: 0.2801812115027427\n",
      "Epoch: 128| Training loss: 1.5600414187349476| Validation loss: 0.27864540709644464\n",
      "Epoch: 129| Training loss: 0.9472198772310756| Validation loss: 0.27712518454869994\n",
      "Epoch: 130| Training loss: 0.1584699773317698| Validation loss: 0.2756290475247621\n",
      "Epoch: 131| Training loss: 0.20644196621222938| Validation loss: 0.2741530162974089\n",
      "Epoch: 132| Training loss: 0.18215283594621412| Validation loss: 0.2726944798834253\n",
      "Epoch: 133| Training loss: 0.8414874757451525| Validation loss: 0.2712551700923043\n",
      "Epoch: 134| Training loss: 0.37457828472756166| Validation loss: 0.269827937621642\n",
      "Epoch: 135| Training loss: 0.00774395687073208| Validation loss: 0.26842030110408316\n",
      "Epoch: 136| Training loss: 0.75978129405607| Validation loss: 0.2670359677369942\n",
      "Epoch: 137| Training loss: 0.04094798273170632| Validation loss: 0.2656598668535911\n",
      "Epoch: 138| Training loss: 1.1939040225650244| Validation loss: 0.2642977146554992\n",
      "Epoch: 139| Training loss: 0.2706364434128102| Validation loss: 0.26296275384475015\n",
      "Epoch: 140| Training loss: 0.4041706720632301| Validation loss: 0.2616457843006157\n",
      "Epoch: 141| Training loss: 0.3930983060172604| Validation loss: 0.2603420380125703\n",
      "Epoch: 142| Training loss: 0.08588635860652719| Validation loss: 0.2590556686494602\n",
      "Epoch: 143| Training loss: 0.24441280871964122| Validation loss: 0.25778064807349627\n",
      "Epoch: 144| Training loss: 0.8777114045822041| Validation loss: 0.25652165984926234\n",
      "Epoch: 145| Training loss: 0.8194686345456902| Validation loss: 0.25528228171012946\n",
      "Epoch: 146| Training loss: 0.5319086987289504| Validation loss: 0.2540533247787649\n",
      "Epoch: 147| Training loss: 0.09005366358246589| Validation loss: 0.2528353480461422\n",
      "Epoch: 148| Training loss: 0.21640847881454545| Validation loss: 0.251638801334596\n",
      "Epoch: 149| Training loss: 0.14749728182299668| Validation loss: 0.2504513185602062\n",
      "Epoch: 150| Training loss: 0.9646686003838391| Validation loss: 0.249274942485048\n",
      "Epoch: 151| Training loss: 0.8459778376210175| Validation loss: 0.24811939173669992\n",
      "Epoch: 152| Training loss: 0.3289512046629609| Validation loss: 0.24697182796581005\n",
      "Epoch: 153| Training loss: 0.010146911359652084| Validation loss: 0.2458389491289637\n",
      "Epoch: 154| Training loss: 0.08495971132730216| Validation loss: 0.244718975192335\n",
      "Epoch: 155| Training loss: 0.5977737889322374| Validation loss: 0.24360572221188478\n",
      "Epoch: 156| Training loss: 0.0851881124765378| Validation loss: 0.24251352180512406\n",
      "Epoch: 157| Training loss: 0.8071434173631403| Validation loss: 0.2414341422328391\n",
      "Epoch: 158| Training loss: 0.16374943118546553| Validation loss: 0.24036653931680665\n",
      "Epoch: 159| Training loss: 0.19922472773981986| Validation loss: 0.23930460979725618\n",
      "Epoch: 160| Training loss: 0.2204896358048265| Validation loss: 0.23826151753367814\n",
      "Epoch: 161| Training loss: 0.4573968802025281| Validation loss: 0.23722811498264912\n",
      "Epoch: 162| Training loss: 0.1810635314345012| Validation loss: 0.23620717993755244\n",
      "Epoch: 163| Training loss: 0.5517398742853074| Validation loss: 0.2351936795375895\n",
      "Epoch: 164| Training loss: 0.061671999023491436| Validation loss: 0.234190439908011\n"
     ]
    }
   ],
   "source": [
    "w_count, loss_tr_count, dev_loss_count = SGD(X_tr_count, Y_tr, \n",
    "                                             X_dev=X_dev_count, \n",
    "                                             Y_dev=Y_dev,\n",
    "                                             num_classes=3,\n",
    "                                             lr=0.0001, \n",
    "                                             alpha=0.001, \n",
    "                                             epochs=200)"
   ]
  },
  {
   "cell_type": "markdown",
   "metadata": {},
   "source": [
    "Plot training and validation process and explain if your model overfit, underfit or is about right:"
   ]
  },
  {
   "cell_type": "code",
   "execution_count": 2,
   "metadata": {
    "ExecuteTime": {
     "end_time": "2020-02-15T14:31:09.903453Z",
     "start_time": "2020-02-15T14:31:09.901360Z"
    }
   },
   "outputs": [],
   "source": [
    "# fill in your code..."
   ]
  },
  {
   "cell_type": "markdown",
   "metadata": {},
   "source": [
    "Compute accuracy, precision, recall and F1-scores:"
   ]
  },
  {
   "cell_type": "code",
   "execution_count": 6,
   "metadata": {
    "ExecuteTime": {
     "end_time": "2020-02-15T14:32:12.606498Z",
     "start_time": "2020-02-15T14:32:12.604164Z"
    }
   },
   "outputs": [],
   "source": [
    "# fill in your code...\n",
    "\n",
    "print('Accuracy:', accuracy_score(Y_te,preds_te))\n",
    "print('Precision:', precision_score(Y_te,preds_te,average='macro'))\n",
    "print('Recall:', recall_score(Y_te,preds_te,average='macro'))\n",
    "print('F1-Score:', f1_score(Y_te,preds_te,average='macro'))"
   ]
  },
  {
   "cell_type": "markdown",
   "metadata": {},
   "source": [
    "Print the top-10 words for each class respectively."
   ]
  },
  {
   "cell_type": "code",
   "execution_count": 7,
   "metadata": {
    "ExecuteTime": {
     "end_time": "2020-02-15T14:32:26.224693Z",
     "start_time": "2020-02-15T14:32:26.221886Z"
    }
   },
   "outputs": [],
   "source": [
    "# fill in your code..."
   ]
  },
  {
   "cell_type": "markdown",
   "metadata": {},
   "source": [
    "### Discuss how did you choose model hyperparameters (e.g. learning rate and regularisation strength)? What is the relation between training epochs and learning rate? How the regularisation strength affects performance?"
   ]
  },
  {
   "cell_type": "markdown",
   "metadata": {
    "ExecuteTime": {
     "end_time": "2020-02-15T14:16:19.856538Z",
     "start_time": "2020-02-15T14:16:19.852547Z"
    }
   },
   "source": [
    "Explain here..."
   ]
  },
  {
   "cell_type": "markdown",
   "metadata": {},
   "source": [
    "### Now evaluate BOW-tfidf..."
   ]
  },
  {
   "cell_type": "markdown",
   "metadata": {
    "ExecuteTime": {
     "end_time": "2020-02-15T14:16:42.567569Z",
     "start_time": "2020-02-15T14:16:42.562560Z"
    }
   },
   "source": [
    "## Full Results\n",
    "\n",
    "Add here your results:\n",
    "\n",
    "| LR | Precision  | Recall  | F1-Score  |\n",
    "|:-:|:-:|:-:|:-:|\n",
    "| BOW-count  |   |   |   |\n",
    "| BOW-tfidf  |   |   |   |\n"
   ]
  },
  {
   "cell_type": "code",
   "execution_count": null,
   "metadata": {},
   "outputs": [],
   "source": []
  }
 ],
 "metadata": {
  "kernelspec": {
   "display_name": "Python 3",
   "language": "python",
   "name": "python3"
  },
  "language_info": {
   "codemirror_mode": {
    "name": "ipython",
    "version": 3
   },
   "file_extension": ".py",
   "mimetype": "text/x-python",
   "name": "python",
   "nbconvert_exporter": "python",
   "pygments_lexer": "ipython3",
   "version": "3.7.3"
  }
 },
 "nbformat": 4,
 "nbformat_minor": 2
}
